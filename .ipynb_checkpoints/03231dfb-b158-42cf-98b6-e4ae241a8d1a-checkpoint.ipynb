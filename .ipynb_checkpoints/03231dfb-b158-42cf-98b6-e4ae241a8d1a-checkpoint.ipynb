{
 "cells": [
  {
   "cell_type": "markdown",
   "id": "252b0c98",
   "metadata": {},
   "source": [
    "<div style=\"border:solid lightblue 3px; background:#f7faf8; padding: 20px\">\n",
    "<b>Максим, привет!</b>\n",
    "\n",
    "Меня зовут Владимир Бердников, и я буду проверять твой проект. Предлагаю общаться на «ты», но если это не совсем удобно для тебя — дай знать, и мы перейдем на \"вы\". Моя цель не указать на совершённые тобой ошибки, а поделиться своим опытом и помочь улучшить навыки. \n",
    "    \n",
    "Пожалуйста, не перемещай, не удаляй и не правь мои комментарии. Всё это поможет выполнить повторную проверку твоего проекта оперативнее.\n",
    "\n",
    "При проверке работы я буду отмечать комментарии цветом и примечанием. В конце заголовка комментария указан номер итерации проверки.\n",
    "\n",
    "<div class=\"alert alert-block alert-danger\" style=\"border-radius: 15px; box-shadow: 4px 4px 4px; border: 1px solid \">\n",
    "<h2> Комментарий ревьюера v_1: <a class=\"tocSkip\"></h2>\n",
    "    \n",
    "❌ Комментарии такого цвета нужно исправить, иначе проект не будет принят. \n",
    "</div>\n",
    "\n",
    "<div class=\"alert alert-warning\" style=\"border-radius: 15px; box-shadow: 4px 4px 4px; border: 1px solid \">\n",
    "<h2> Комментарий ревьюера v_1: <a class=\"tocSkip\"> </h2>\n",
    "    \n",
    "⚠️ Такой комментарий является рекомендацией или советом. Mожешь учесть их при выполнении задания.\n",
    "</div>\n",
    "\n",
    "<div class=\"alert alert-success\" style=\"border-radius: 15px; box-shadow: 4px 4px 4px; border: 1px solid \">\n",
    "<h2> Комментарий ревьюера v_1: <a class=\"tocSkip\"> </h2>\n",
    "    \n",
    "✅ Так выделены все остальные комментарии, включая позитивные моменты, пояснения и рассуждения.\n",
    "</div>  \n",
    "    \n",
    "Давай работать над проектом в диалоге: если ты что-то меняешь вс проекте — пиши об этом в комментариях, например, с помощью такого кода в markdown ячейке:"
   ]
  },
  {
   "cell_type": "markdown",
   "id": "2b25897f",
   "metadata": {},
   "source": [
    "<div class=\"alert alert-info\"  style=\"border-radius: 15px; box-shadow: 4px 4px 4px; border: 1px solid \">\n",
    "    \n",
    "<h2>Комментарий студента v_1: <a class=\"tocSkip\"> </h2>\n",
    "\n",
    "Ок.   "
   ]
  },
  {
   "cell_type": "markdown",
   "id": "6b8a696c",
   "metadata": {},
   "source": []
  },
  {
   "cell_type": "markdown",
   "id": "66054372",
   "metadata": {},
   "source": [
    "<div class=\"alert alert-block alert-danger\" style=\"border-radius: 15px; box-shadow: 4px 4px 4px; border: 1px solid \">\n",
    "<h2> Комментарий ревьюера v_1: <a class=\"tocSkip\"></h2>\n",
    "    \n",
    "❌ Необходимо добавить вступление (этот пункт есть в блоке курса: Полезные инструкции для учёбы - Оформление проекта - Рекомендации по выполнению проектов):\n",
    "    \t\n",
    "* заголовок \n",
    "* краткое описание проекта (желательно своими словами, не копируя из имеющегося описания)\n",
    "* цель проекта\n",
    "* описание данных (на усмотрение, данные можно описать в самой работе)\n",
    "* план работы.\n",
    "\n",
    "Со вступлением получатель отчета сможет получить общее представление о том, что будет в проекте"
   ]
  },
  {
   "cell_type": "markdown",
   "id": "aeac724d",
   "metadata": {},
   "source": [
    "<h1>Статистический анализ данных о пользователях популярного сервиса аренды самокатов GoFast, а также об их поездках</h1>"
   ]
  },
  {
   "cell_type": "markdown",
   "id": "414bf3eb",
   "metadata": {},
   "source": [
    "<h2>Описание проекта</h2>\n",
    "\n",
    "Заказчиком переданы необработанные данные из нескольких таблиц сервиса аренды самокатов GoFast о некоторых пользователях из нескольких городов, а также об их поездках. Необходимо корректно обработать полученные данные и на их основе исследовать и визуализировать интересующие заказчика показатели, а также подсчитать выручку.\n",
    "\n",
    "<h2>Цель проекта</h2>\n",
    "\n",
    "Цель проекта - это анализ данных сервиса аренды самокатов GoFast, а также проверка некоторых гипотез, которые могут помочь бизнесу вырасти.\n",
    "\n",
    "Чтобы совершать поездки по городу, пользователи сервиса GoFast пользуются мобильным приложением.\n",
    "\n",
    "Сервисом можно пользоваться:\n",
    "\n",
    "<ol>\n",
    "    <li>без подписки:\n",
    "    <ul>\n",
    "    <li>абонентская плата отсутствует;</li>\n",
    "    <li>стоимость старта (начала поездки) — 50 рублей;</li>\n",
    "    <li>стоимость старта (начала поездки)</li>\n",
    "    </ul>\n",
    "    </li>\n",
    "    <li>с подпиской Ultra:\n",
    "    <ul>\n",
    "    <li>абонентская плата — 199 рублей в месяц;</li>\n",
    "    <li>стоимость одной минуты поездки — 6 рублей;</li>\n",
    "    <li>стоимость старта — бесплатно.</li>\n",
    "    </ul>\n",
    "    </li>\n",
    "</ol>\n",
    "\n",
    "<h2>План работы</h2>\n",
    "<ol>\n",
    "    <li> Загрузка данных из имеющихся трёх таблиц</li>\n",
    "    <li> Предобработка данных (корректировка, удаление пустых значений, приведение к корректному типу данных)</li>\n",
    "    <li> Исследовательский анализ интересующих заказчика данных с построением графиков, гистограмм</li>\n",
    "    <li> Подсчёт выручки</li>\n",
    "    <li> Проверка озвученных заказчиком гипотез на основе исследовательского анализа данных</li>\n",
    "</ol>"
   ]
  },
  {
   "cell_type": "markdown",
   "id": "7e7e4419",
   "metadata": {},
   "source": [
    "<div class=\"alert alert-success\" style=\"border-radius: 15px; box-shadow: 4px 4px 4px; border: 1px solid \">\n",
    "<h2> Комментарий ревьюера v_2: <a class=\"tocSkip\"> </h2>\n",
    "    \n",
    "✅ Принято"
   ]
  },
  {
   "cell_type": "code",
   "execution_count": 1,
   "id": "72576667",
   "metadata": {},
   "outputs": [],
   "source": [
    "import pandas as pd\n",
    "import numpy as np\n",
    "from math import factorial\n",
    "from scipy import stats as st\n",
    "import matplotlib\n",
    "%matplotlib inline\n",
    "from matplotlib import pyplot as plt\n",
    "from matplotlib import rcParams, rcParamsDefault\n",
    "import seaborn as sns"
   ]
  },
  {
   "cell_type": "markdown",
   "id": "c42cbe00",
   "metadata": {},
   "source": [
    "#### Шаг 1. Загрузка данных"
   ]
  },
  {
   "cell_type": "code",
   "execution_count": 2,
   "id": "eff9f206",
   "metadata": {},
   "outputs": [],
   "source": [
    "# считываем данные из CSV-файлы с данными\n",
    "users_go = pd.read_csv('/datasets/users_go.csv') \n",
    "rides_go = pd.read_csv('/datasets/rides_go.csv') \n",
    "subscriptions_go = pd.read_csv('/datasets/subscriptions_go.csv') "
   ]
  },
  {
   "cell_type": "code",
   "execution_count": 3,
   "id": "014ea192",
   "metadata": {
    "scrolled": true
   },
   "outputs": [
    {
     "name": "stdout",
     "output_type": "stream",
     "text": [
      "           user_id          age\n",
      "count  1565.000000  1565.000000\n",
      "mean    762.633866    24.922045\n",
      "std     443.260155     4.553496\n",
      "min       1.000000    12.000000\n",
      "25%     378.000000    22.000000\n",
      "50%     762.000000    25.000000\n",
      "75%    1146.000000    28.000000\n",
      "max    1534.000000    43.000000\n"
     ]
    },
    {
     "data": {
      "text/html": [
       "<div>\n",
       "<style scoped>\n",
       "    .dataframe tbody tr th:only-of-type {\n",
       "        vertical-align: middle;\n",
       "    }\n",
       "\n",
       "    .dataframe tbody tr th {\n",
       "        vertical-align: top;\n",
       "    }\n",
       "\n",
       "    .dataframe thead th {\n",
       "        text-align: right;\n",
       "    }\n",
       "</style>\n",
       "<table border=\"1\" class=\"dataframe\">\n",
       "  <thead>\n",
       "    <tr style=\"text-align: right;\">\n",
       "      <th></th>\n",
       "      <th>user_id</th>\n",
       "      <th>name</th>\n",
       "      <th>age</th>\n",
       "      <th>city</th>\n",
       "      <th>subscription_type</th>\n",
       "    </tr>\n",
       "  </thead>\n",
       "  <tbody>\n",
       "    <tr>\n",
       "      <th>0</th>\n",
       "      <td>1</td>\n",
       "      <td>Кира</td>\n",
       "      <td>22</td>\n",
       "      <td>Тюмень</td>\n",
       "      <td>ultra</td>\n",
       "    </tr>\n",
       "    <tr>\n",
       "      <th>1</th>\n",
       "      <td>2</td>\n",
       "      <td>Станислав</td>\n",
       "      <td>31</td>\n",
       "      <td>Омск</td>\n",
       "      <td>ultra</td>\n",
       "    </tr>\n",
       "    <tr>\n",
       "      <th>2</th>\n",
       "      <td>3</td>\n",
       "      <td>Алексей</td>\n",
       "      <td>20</td>\n",
       "      <td>Москва</td>\n",
       "      <td>ultra</td>\n",
       "    </tr>\n",
       "    <tr>\n",
       "      <th>3</th>\n",
       "      <td>4</td>\n",
       "      <td>Константин</td>\n",
       "      <td>26</td>\n",
       "      <td>Ростов-на-Дону</td>\n",
       "      <td>ultra</td>\n",
       "    </tr>\n",
       "    <tr>\n",
       "      <th>4</th>\n",
       "      <td>5</td>\n",
       "      <td>Адель</td>\n",
       "      <td>28</td>\n",
       "      <td>Омск</td>\n",
       "      <td>ultra</td>\n",
       "    </tr>\n",
       "  </tbody>\n",
       "</table>\n",
       "</div>"
      ],
      "text/plain": [
       "   user_id        name  age            city subscription_type\n",
       "0        1        Кира   22          Тюмень             ultra\n",
       "1        2   Станислав   31            Омск             ultra\n",
       "2        3     Алексей   20          Москва             ultra\n",
       "3        4  Константин   26  Ростов-на-Дону             ultra\n",
       "4        5       Адель   28            Омск             ultra"
      ]
     },
     "execution_count": 3,
     "metadata": {},
     "output_type": "execute_result"
    },
    {
     "data": {
      "image/png": "[encoded data removed]",
      "text/plain": [
       "<Figure size 432x288 with 2 Axes>"
      ]
     },
     "metadata": {
      "needs_background": "light"
     },
     "output_type": "display_data"
    }
   ],
   "source": [
    "# изучим датафрейм 'users_go' \n",
    "print(users_go.describe())\n",
    "users_go.hist()\n",
    "users_go.head()"
   ]
  },
  {
   "cell_type": "markdown",
   "id": "27bbc13c",
   "metadata": {},
   "source": [
    "<div class=\"alert alert-warning\" style=\"border-radius: 15px; box-shadow: 4px 4px 4px; border: 1px solid \">\n",
    "<h2> Комментарий ревьюера v_1: <a class=\"tocSkip\"> </h2>\n",
    "    \n",
    "⚠️ Гистограммы можно еще подписать:\n",
    "\n",
    "    fig = датафрейм.hist(figsize=(12,6))\n",
    "    tables = ['первая', 'вторая']\n",
    "    cnt = 0\n",
    "    for ax in fig.ravel():\n",
    "        ax.set_title(tables[cnt])\n",
    "        ax.set_xlabel(\"подпись\")\n",
    "        ax.set_ylabel(\"подпись\")\n",
    "        cnt +=1"
   ]
  },
  {
   "cell_type": "markdown",
   "id": "c719373b",
   "metadata": {},
   "source": [
    "Датафрейм не имеет выбросов. Из гистограммы можно сделать вывод что присутствуют дубликаты идентификаторов в столбце ‘user_id’."
   ]
  },
  {
   "cell_type": "code",
   "execution_count": 4,
   "id": "c11c0fb9",
   "metadata": {},
   "outputs": [
    {
     "name": "stdout",
     "output_type": "stream",
     "text": [
      "            user_id      distance      duration\n",
      "count  18068.000000  18068.000000  18068.000000\n",
      "mean     842.869936   3070.659976     17.805011\n",
      "std      434.734317   1116.831209      6.091051\n",
      "min        1.000000      0.855683      0.500000\n",
      "25%      487.000000   2543.226360     13.597563\n",
      "50%      889.000000   3133.609994     17.678395\n",
      "75%     1213.250000   3776.222735     21.724800\n",
      "max     1534.000000   7211.007745     40.823963\n"
     ]
    },
    {
     "data": {
      "text/html": [
       "<div>\n",
       "<style scoped>\n",
       "    .dataframe tbody tr th:only-of-type {\n",
       "        vertical-align: middle;\n",
       "    }\n",
       "\n",
       "    .dataframe tbody tr th {\n",
       "        vertical-align: top;\n",
       "    }\n",
       "\n",
       "    .dataframe thead th {\n",
       "        text-align: right;\n",
       "    }\n",
       "</style>\n",
       "<table border=\"1\" class=\"dataframe\">\n",
       "  <thead>\n",
       "    <tr style=\"text-align: right;\">\n",
       "      <th></th>\n",
       "      <th>user_id</th>\n",
       "      <th>distance</th>\n",
       "      <th>duration</th>\n",
       "      <th>date</th>\n",
       "    </tr>\n",
       "  </thead>\n",
       "  <tbody>\n",
       "    <tr>\n",
       "      <th>0</th>\n",
       "      <td>1</td>\n",
       "      <td>4409.919140</td>\n",
       "      <td>25.599769</td>\n",
       "      <td>2021-01-01</td>\n",
       "    </tr>\n",
       "    <tr>\n",
       "      <th>1</th>\n",
       "      <td>1</td>\n",
       "      <td>2617.592153</td>\n",
       "      <td>15.816871</td>\n",
       "      <td>2021-01-18</td>\n",
       "    </tr>\n",
       "    <tr>\n",
       "      <th>2</th>\n",
       "      <td>1</td>\n",
       "      <td>754.159807</td>\n",
       "      <td>6.232113</td>\n",
       "      <td>2021-04-20</td>\n",
       "    </tr>\n",
       "    <tr>\n",
       "      <th>3</th>\n",
       "      <td>1</td>\n",
       "      <td>2694.783254</td>\n",
       "      <td>18.511000</td>\n",
       "      <td>2021-08-11</td>\n",
       "    </tr>\n",
       "    <tr>\n",
       "      <th>4</th>\n",
       "      <td>1</td>\n",
       "      <td>4028.687306</td>\n",
       "      <td>26.265803</td>\n",
       "      <td>2021-08-28</td>\n",
       "    </tr>\n",
       "  </tbody>\n",
       "</table>\n",
       "</div>"
      ],
      "text/plain": [
       "   user_id     distance   duration        date\n",
       "0        1  4409.919140  25.599769  2021-01-01\n",
       "1        1  2617.592153  15.816871  2021-01-18\n",
       "2        1   754.159807   6.232113  2021-04-20\n",
       "3        1  2694.783254  18.511000  2021-08-11\n",
       "4        1  4028.687306  26.265803  2021-08-28"
      ]
     },
     "execution_count": 4,
     "metadata": {},
     "output_type": "execute_result"
    },
    {
     "data": {
      "image/png": "[encoded data removed]",
      "text/plain": [
       "<Figure size 432x288 with 4 Axes>"
      ]
     },
     "metadata": {
      "needs_background": "light"
     },
     "output_type": "display_data"
    }
   ],
   "source": [
    "# Изучение датафрейма 'rides_go' \n",
    "print(rides_go.describe())\n",
    "rides_go.hist() \n",
    "rides_go.head()"
   ]
  },
  {
   "cell_type": "markdown",
   "id": "ea5f4c99",
   "metadata": {},
   "source": [
    "На основании полученных гистограмм можно сделать вывод о возможном наличии выбросов в столбцах ‘distance’ и ‘duration’."
   ]
  },
  {
   "cell_type": "code",
   "execution_count": 5,
   "id": "7350f222",
   "metadata": {
    "scrolled": true
   },
   "outputs": [
    {
     "name": "stdout",
     "output_type": "stream",
     "text": [
      "<class 'pandas.core.frame.DataFrame'>\n",
      "RangeIndex: 2 entries, 0 to 1\n",
      "Data columns (total 4 columns):\n",
      " #   Column             Non-Null Count  Dtype \n",
      "---  ------             --------------  ----- \n",
      " 0   subscription_type  2 non-null      object\n",
      " 1   minute_price       2 non-null      int64 \n",
      " 2   start_ride_price   2 non-null      int64 \n",
      " 3   subscription_fee   2 non-null      int64 \n",
      "dtypes: int64(3), object(1)\n",
      "memory usage: 192.0+ bytes\n",
      "None\n"
     ]
    },
    {
     "data": {
      "text/html": [
       "<div>\n",
       "<style scoped>\n",
       "    .dataframe tbody tr th:only-of-type {\n",
       "        vertical-align: middle;\n",
       "    }\n",
       "\n",
       "    .dataframe tbody tr th {\n",
       "        vertical-align: top;\n",
       "    }\n",
       "\n",
       "    .dataframe thead th {\n",
       "        text-align: right;\n",
       "    }\n",
       "</style>\n",
       "<table border=\"1\" class=\"dataframe\">\n",
       "  <thead>\n",
       "    <tr style=\"text-align: right;\">\n",
       "      <th></th>\n",
       "      <th>subscription_type</th>\n",
       "      <th>minute_price</th>\n",
       "      <th>start_ride_price</th>\n",
       "      <th>subscription_fee</th>\n",
       "    </tr>\n",
       "  </thead>\n",
       "  <tbody>\n",
       "    <tr>\n",
       "      <th>0</th>\n",
       "      <td>free</td>\n",
       "      <td>8</td>\n",
       "      <td>50</td>\n",
       "      <td>0</td>\n",
       "    </tr>\n",
       "    <tr>\n",
       "      <th>1</th>\n",
       "      <td>ultra</td>\n",
       "      <td>6</td>\n",
       "      <td>0</td>\n",
       "      <td>199</td>\n",
       "    </tr>\n",
       "  </tbody>\n",
       "</table>\n",
       "</div>"
      ],
      "text/plain": [
       "  subscription_type  minute_price  start_ride_price  subscription_fee\n",
       "0              free             8                50                 0\n",
       "1             ultra             6                 0               199"
      ]
     },
     "execution_count": 5,
     "metadata": {},
     "output_type": "execute_result"
    }
   ],
   "source": [
    "# Изучение датафрейма 'subscriptions_go' \n",
    "print(subscriptions_go.info())\n",
    "subscriptions_go.head() "
   ]
  },
  {
   "cell_type": "markdown",
   "id": "93f2052a",
   "metadata": {},
   "source": [
    "<div class=\"alert alert-warning\" style=\"border-radius: 15px; box-shadow: 4px 4px 4px; border: 1px solid \">\n",
    "<h2> Комментарий ревьюера v_1: <a class=\"tocSkip\"> </h2>\n",
    "    \n",
    "⚠️ Стоит написать, сколько записей в таблицах, какие в них есть типы данных, требуется ли изменение типов данных."
   ]
  },
  {
   "cell_type": "markdown",
   "id": "e95ebca7",
   "metadata": {},
   "source": [
    "#### Шаг 2. Предобработка данных"
   ]
  },
  {
   "cell_type": "code",
   "execution_count": 6,
   "id": "af6d202c",
   "metadata": {},
   "outputs": [],
   "source": [
    "# в столбце 'subscription_type' может быть всего два значения. \n",
    "# Существует ли подписка у пользователя либо не существует. Переведём значения данного столбца в тип bool\n",
    "users_go.loc[users_go['subscription_type'] == 'ultra', 'subscription_type'] = True \n",
    "users_go.loc[users_go['subscription_type'] == 'free', 'subscription_type'] = False\n",
    "users_go['subscription_type'] = users_go['subscription_type'].astype('bool')\n",
    "subscriptions_go.loc[subscriptions_go['subscription_type'] == 'ultra', 'subscription_type'] = True\n",
    "subscriptions_go.loc[subscriptions_go['subscription_type'] == 'free', 'subscription_type'] = False\n",
    "subscriptions_go['subscription_type'] = subscriptions_go['subscription_type'].astype('bool')\n",
    "\n",
    "# корректируем столбец 'date' в датафейме 'rides_go'\n",
    "rides_go['date'] = pd.to_datetime(rides_go['date'], format='%Y-%m-%d')"
   ]
  },
  {
   "cell_type": "code",
   "execution_count": 7,
   "id": "816a6e07",
   "metadata": {},
   "outputs": [],
   "source": [
    "# добавим столбец с номером месяца на основе столбца date\n",
    "rides_go['month'] = pd.DatetimeIndex(rides_go['date']).month"
   ]
  },
  {
   "cell_type": "markdown",
   "id": "a1c261e2",
   "metadata": {},
   "source": [
    "<div class=\"alert alert-warning\" style=\"border-radius: 15px; box-shadow: 4px 4px 4px; border: 1px solid \">\n",
    "<h2> Комментарий ревьюера v_1: <a class=\"tocSkip\"> </h2>\n",
    "    \n",
    "⚠️ Желательно еще проверить, за какой период имеются данные. Создается столбец с номерами месяцев, если здесь несколько лет, следует это учитывать."
   ]
  },
  {
   "cell_type": "code",
   "execution_count": 8,
   "id": "72220aa6",
   "metadata": {},
   "outputs": [
    {
     "data": {
      "text/plain": [
       "user_id              0\n",
       "name                 0\n",
       "age                  0\n",
       "city                 0\n",
       "subscription_type    0\n",
       "dtype: int64"
      ]
     },
     "execution_count": 8,
     "metadata": {},
     "output_type": "execute_result"
    }
   ],
   "source": [
    "# проверим наличие пропущенных значений и дубликатов в датафреймах. Обработаем их, если такие значения присутствуют.\n",
    "# cначала датафрейм с пользователями мобильного приложения\n",
    "users_go.isna().sum()"
   ]
  },
  {
   "cell_type": "markdown",
   "id": "8379e95a",
   "metadata": {},
   "source": [
    "В датафрейме users_go пропущенных значений не найдено"
   ]
  },
  {
   "cell_type": "code",
   "execution_count": 9,
   "id": "0a89ff55",
   "metadata": {},
   "outputs": [
    {
     "data": {
      "text/plain": [
       "user_id     0\n",
       "distance    0\n",
       "duration    0\n",
       "date        0\n",
       "month       0\n",
       "dtype: int64"
      ]
     },
     "execution_count": 9,
     "metadata": {},
     "output_type": "execute_result"
    }
   ],
   "source": [
    "# затем в датафрейме с поездками\n",
    "rides_go.isna().sum()"
   ]
  },
  {
   "cell_type": "markdown",
   "id": "e1220725",
   "metadata": {},
   "source": [
    "В датафрейме rides_go пропущенных значений не найдено"
   ]
  },
  {
   "cell_type": "code",
   "execution_count": 10,
   "id": "84b054aa",
   "metadata": {},
   "outputs": [
    {
     "data": {
      "text/plain": [
       "subscription_type    0\n",
       "minute_price         0\n",
       "start_ride_price     0\n",
       "subscription_fee     0\n",
       "dtype: int64"
      ]
     },
     "execution_count": 10,
     "metadata": {},
     "output_type": "execute_result"
    }
   ],
   "source": [
    "# и затем в датафрейме с типами подписки\n",
    "subscriptions_go.isna().sum()"
   ]
  },
  {
   "cell_type": "markdown",
   "id": "60d04542",
   "metadata": {},
   "source": [
    "В датафрейме subscriptions_go пропущенных значений не найдено"
   ]
  },
  {
   "cell_type": "code",
   "execution_count": 11,
   "id": "8205c8c2",
   "metadata": {},
   "outputs": [
    {
     "data": {
      "text/plain": [
       "31"
      ]
     },
     "execution_count": 11,
     "metadata": {},
     "output_type": "execute_result"
    }
   ],
   "source": [
    "# далее обработаем дубликаты если они есть\n",
    "users_go.duplicated().sum()"
   ]
  },
  {
   "cell_type": "markdown",
   "id": "a1b3a104",
   "metadata": {},
   "source": [
    "В датафрейме users_go найден 31 дубликат. Удалим их"
   ]
  },
  {
   "cell_type": "code",
   "execution_count": 12,
   "id": "5423f521",
   "metadata": {},
   "outputs": [
    {
     "data": {
      "text/plain": [
       "0"
      ]
     },
     "execution_count": 12,
     "metadata": {},
     "output_type": "execute_result"
    }
   ],
   "source": [
    "users_go.drop_duplicates(inplace=True)\n",
    "users_go.duplicated().sum()"
   ]
  },
  {
   "cell_type": "code",
   "execution_count": 13,
   "id": "8d8e4864",
   "metadata": {},
   "outputs": [
    {
     "data": {
      "text/plain": [
       "0"
      ]
     },
     "execution_count": 13,
     "metadata": {},
     "output_type": "execute_result"
    }
   ],
   "source": [
    "# далее обработаем дубликаты если они есть\n",
    "rides_go.duplicated().sum()"
   ]
  },
  {
   "cell_type": "markdown",
   "id": "af666428",
   "metadata": {},
   "source": [
    "Пропущенных значений в датафреймах не найдено.Удалены дубликаты в датафрейме с пользователями. \n",
    "Добавлен столбец с номером месяца."
   ]
  },
  {
   "cell_type": "markdown",
   "id": "faf5cd36",
   "metadata": {},
   "source": [
    "<div class=\"alert alert-success\" style=\"border-radius: 15px; box-shadow: 4px 4px 4px; border: 1px solid \">\n",
    "<h2> Комментарий ревьюера v_1: <a class=\"tocSkip\"> </h2>\n",
    "    \n",
    "✅ Хорошо, проверены пропуски и дубликаты; удалены выявленные дубликаты "
   ]
  },
  {
   "cell_type": "markdown",
   "id": "212593c7",
   "metadata": {},
   "source": [
    "#### Шаг 3. Исследовательский анализ данных"
   ]
  },
  {
   "cell_type": "markdown",
   "id": "dc6d89c6",
   "metadata": {},
   "source": [
    "Опишим и визуализируем общую информацию о пользователях и поездках:"
   ]
  },
  {
   "cell_type": "markdown",
   "id": "9597a0ff",
   "metadata": {},
   "source": [
    "Начнём с частоты встречаемости городов"
   ]
  },
  {
   "cell_type": "code",
   "execution_count": 14,
   "id": "c272316c",
   "metadata": {},
   "outputs": [],
   "source": [
    "count_users_by_city = users_go['city'].value_counts()\n",
    "count_users_by_city2 = users_go['city'].value_counts()"
   ]
  },
  {
   "cell_type": "code",
   "execution_count": 15,
   "id": "3a640bfa",
   "metadata": {},
   "outputs": [
    {
     "data": {
      "text/plain": [
       "Пятигорск         0.142764\n",
       "Екатеринбург      0.132986\n",
       "Ростов-на-Дону    0.129074\n",
       "Краснодар         0.125815\n",
       "Сочи              0.123207\n",
       "Омск              0.119296\n",
       "Тюмень            0.117340\n",
       "Москва            0.109518\n",
       "Name: city, dtype: float64"
      ]
     },
     "execution_count": 15,
     "metadata": {},
     "output_type": "execute_result"
    }
   ],
   "source": [
    "# вычислим долю каждого города в общем нвборе данных датафрейма с пользователями\n",
    "count_users_by_city['rate'] = round(users_go['city'].value_counts() / count_users_by_city.sum(), 6)\n",
    "count_users_by_city['rate']"
   ]
  },
  {
   "cell_type": "markdown",
   "id": "fb195526",
   "metadata": {},
   "source": [
    "Визуализируем полученные данные о наиболее и наименее представленных городах"
   ]
  },
  {
   "cell_type": "code",
   "execution_count": 16,
   "id": "ad11f721",
   "metadata": {
    "scrolled": true
   },
   "outputs": [
    {
     "data": {
      "image/png": "[encoded data removed]",
      "text/plain": [
       "<Figure size 432x288 with 1 Axes>"
      ]
     },
     "metadata": {
      "needs_background": "light"
     },
     "output_type": "display_data"
    }
   ],
   "source": [
    "plt.barh(\n",
    "       count_users_by_city2.index,\n",
    "       count_users_by_city['rate'].values * count_users_by_city.sum()\n",
    "    )\n",
    "plt.gca().set(xlabel='Количество использований мобильного приложения', ylabel='Города')\n",
    "plt.title('Количество использований мобильного приложения в городах')\n",
    "plt.show()"
   ]
  },
  {
   "cell_type": "markdown",
   "id": "ff74108d",
   "metadata": {},
   "source": [
    "<div class=\"alert alert-block alert-danger\" style=\"border-radius: 15px; box-shadow: 4px 4px 4px; border: 1px solid \">\n",
    "<h2> Комментарий ревьюера v_1: <a class=\"tocSkip\"></h2>\n",
    "    \n",
    "❌ Не хватает заголовка и подписей на осях. "
   ]
  },
  {
   "cell_type": "markdown",
   "id": "ebaaec5f",
   "metadata": {},
   "source": [
    "<div class=\"alert alert-success\" style=\"border-radius: 15px; box-shadow: 4px 4px 4px; border: 1px solid \">\n",
    "<h2> Комментарий ревьюера v_2: <a class=\"tocSkip\"> </h2>\n",
    "    \n",
    "✅ +"
   ]
  },
  {
   "cell_type": "markdown",
   "id": "3c38158b",
   "metadata": {},
   "source": [
    "Далее найдем соотношение пользователей с подпиской и без подписки"
   ]
  },
  {
   "cell_type": "code",
   "execution_count": 17,
   "id": "5b3f9481",
   "metadata": {},
   "outputs": [
    {
     "data": {
      "text/plain": [
       "False    835\n",
       "True     699\n",
       "Name: subscription_type, dtype: int64"
      ]
     },
     "execution_count": 17,
     "metadata": {},
     "output_type": "execute_result"
    }
   ],
   "source": [
    "def is_subscription(subscription_type):\n",
    "    for row in users_go['subscription_type']:\n",
    "        if subscription_type == True:\n",
    "            return 'Есть подписка'\n",
    "        if subscription_type == False:\n",
    "            return 'Нет подписки'\n",
    "users_go['is_subscription'] = users_go['subscription_type'].apply(is_subscription)\n",
    "count_sub = users_go['subscription_type'].value_counts()\n",
    "count_sub"
   ]
  },
  {
   "cell_type": "markdown",
   "id": "fa3f1d0a",
   "metadata": {},
   "source": [
    "Визуализируем полученные данные о наличии подписки"
   ]
  },
  {
   "cell_type": "code",
   "execution_count": 18,
   "id": "13953f9f",
   "metadata": {},
   "outputs": [
    {
     "data": {
      "image/png": "[encoded data removed]",
      "text/plain": [
       "<Figure size 360x360 with 1 Axes>"
      ]
     },
     "metadata": {},
     "output_type": "display_data"
    }
   ],
   "source": [
    "users_go['is_subscription'].value_counts().plot(\n",
    "    kind = 'pie', \n",
    "    y = count_sub, \n",
    "    autopct = '%1.0f%%', \n",
    "    figsize=(5,5));"
   ]
  },
  {
   "cell_type": "markdown",
   "id": "f49fe7c0",
   "metadata": {},
   "source": [
    "Выше представлено процентное соотношение пользователей мобильного приложения с подпиской и без подписки"
   ]
  },
  {
   "cell_type": "markdown",
   "id": "017bfadf",
   "metadata": {},
   "source": [
    "Опишем и визуализируем информацию по возрасту пользователей."
   ]
  },
  {
   "cell_type": "code",
   "execution_count": 19,
   "id": "56e5dab2",
   "metadata": {},
   "outputs": [
    {
     "name": "stdout",
     "output_type": "stream",
     "text": [
      "Название столбца: age\n"
     ]
    },
    {
     "data": {
      "image/png": "[encoded data removed]",
      "text/plain": [
       "<Figure size 432x288 with 1 Axes>"
      ]
     },
     "metadata": {
      "needs_background": "light"
     },
     "output_type": "display_data"
    },
    {
     "name": "stdout",
     "output_type": "stream",
     "text": [
      "Описание датафрейма:\n",
      "count    1534.0\n",
      "mean       25.0\n",
      "std         5.0\n",
      "min        12.0\n",
      "25%        22.0\n",
      "50%        25.0\n",
      "75%        28.0\n",
      "max        43.0\n",
      "Name: age, dtype: float64\n"
     ]
    }
   ],
   "source": [
    "print('Название столбца:', users_go.columns[2])\n",
    "users_go['age'].hist(bins=users_go['age'].max()-users_go['age'].min())\n",
    "plt.gca().set(xlabel='Возраст', ylabel='Количество_ пользователей')\n",
    "plt.title('Пользователи по возрастам')\n",
    "plt.show()\n",
    "print('Описание датафрейма:')\n",
    "print(users_go['age'].describe().round(0))"
   ]
  },
  {
   "cell_type": "markdown",
   "id": "a91c8e0c",
   "metadata": {},
   "source": [
    "Затем выведем самых сташих пользователей."
   ]
  },
  {
   "cell_type": "markdown",
   "id": "92c7d817",
   "metadata": {},
   "source": [
    "Возраст пользователей мобильного приложения аренды самокатов от 12 до 43 лет. Присутствует нормальное распределение. Самые многочисленные пользователи имеют возраст 25 лет. Этот же возраст является медианным."
   ]
  },
  {
   "cell_type": "markdown",
   "id": "419b769d",
   "metadata": {},
   "source": [
    "<div class=\"alert alert-success\" style=\"border-radius: 15px; box-shadow: 4px 4px 4px; border: 1px solid \">\n",
    "<h2> Комментарий ревьюера v_1: <a class=\"tocSkip\"> </h2>\n",
    "    \n",
    "✅ Средний возраст и медиана практически совпадают"
   ]
  },
  {
   "cell_type": "markdown",
   "id": "315755f7",
   "metadata": {},
   "source": [
    "Опишем и визуализируем информацию по расстоянию, которое пользователь преодолел за одну поездку"
   ]
  },
  {
   "cell_type": "code",
   "execution_count": 20,
   "id": "767cf2fd",
   "metadata": {},
   "outputs": [
    {
     "name": "stdout",
     "output_type": "stream",
     "text": [
      "Название столбца: distance\n"
     ]
    },
    {
     "data": {
      "image/png": "[encoded data removed]",
      "text/plain": [
       "<Figure size 432x288 with 1 Axes>"
      ]
     },
     "metadata": {
      "needs_background": "light"
     },
     "output_type": "display_data"
    },
    {
     "name": "stdout",
     "output_type": "stream",
     "text": [
      "Описание датафрейма:\n",
      "count    18068.0\n",
      "mean      3071.0\n",
      "std       1117.0\n",
      "min          1.0\n",
      "25%       2543.0\n",
      "50%       3134.0\n",
      "75%       3776.0\n",
      "max       7211.0\n",
      "Name: distance, dtype: float64\n"
     ]
    }
   ],
   "source": [
    "print('Название столбца:', rides_go.columns[1])\n",
    "rides_go['distance'].hist(bins=int((rides_go['distance'].max()-rides_go['distance'].min()) / 100))\n",
    "plt.gca().set(xlabel='Дистанция_ одной_ поездки', ylabel='Количество_ поездок')\n",
    "plt.title('Распределение количества поездок по их дистанции')\n",
    "plt.show()\n",
    "print('Описание датафрейма:')\n",
    "print(rides_go['distance'].describe().round(0))"
   ]
  },
  {
   "cell_type": "markdown",
   "id": "7c65f428",
   "metadata": {},
   "source": [
    "Одна поездка по дистанции составляет от 1 до 7211 метров. Медиана всех значений равна 3134 метров. Наблюдаются два пика. Малый пик около 700 метров, большой пик около 3200 метров. Между пиками значения нормально распределены."
   ]
  },
  {
   "cell_type": "markdown",
   "id": "344bf453",
   "metadata": {},
   "source": [
    "Опишем и визуализируем информацию по продолжительности поездок"
   ]
  },
  {
   "cell_type": "code",
   "execution_count": 21,
   "id": "fa543a44",
   "metadata": {},
   "outputs": [
    {
     "name": "stdout",
     "output_type": "stream",
     "text": [
      "Название столбца: duration\n"
     ]
    },
    {
     "data": {
      "image/png": "[encoded data removed]",
      "text/plain": [
       "<Figure size 432x288 with 1 Axes>"
      ]
     },
     "metadata": {
      "needs_background": "light"
     },
     "output_type": "display_data"
    },
    {
     "name": "stdout",
     "output_type": "stream",
     "text": [
      "Описание датафрейма:\n",
      "count    18068.0\n",
      "mean        18.0\n",
      "std          6.0\n",
      "min          0.0\n",
      "25%         14.0\n",
      "50%         18.0\n",
      "75%         22.0\n",
      "max         41.0\n",
      "Name: duration, dtype: float64\n"
     ]
    }
   ],
   "source": [
    "print('Название столбца:', rides_go.columns[2])\n",
    "rides_go['duration'].hist(bins=int((rides_go['duration'].max()-rides_go['duration'].min())))\n",
    "plt.gca().set(xlabel='Продолжительность_ одной_ поездки', ylabel='Количество_ поездок')\n",
    "plt.title('Распределение количества поездок по их продолжительности')\n",
    "plt.show()\n",
    "print('Описание датафрейма:')\n",
    "print(rides_go['duration'].describe().round(0))"
   ]
  },
  {
   "cell_type": "markdown",
   "id": "02c333a4",
   "metadata": {},
   "source": [
    "Продолжительность поездок составляет от 0 до 41 минуты. Распределение является нормальным. 18 минут это наиболее частая продолжительность поездки. Она является и медианным значением."
   ]
  },
  {
   "cell_type": "markdown",
   "id": "3488fc7c",
   "metadata": {},
   "source": [
    "<div class=\"alert alert-warning\" style=\"border-radius: 15px; box-shadow: 4px 4px 4px; border: 1px solid \">\n",
    "<h2> Комментарий ревьюера v_1: <a class=\"tocSkip\"> </h2>\n",
    "    \n",
    "⚠️ Дополнительно можно посмотреть, есть ли в столбце с продолжительностью сессии аномалии. Можно сравнить продолжительность сессий и расстояние поездок и прокомментировать, насколько реально можно проехать такое расстояние за указанное время. В случае обнаружения удалять не рекомендуется, лучше сначала выяснить причину их появления."
   ]
  },
  {
   "cell_type": "markdown",
   "id": "4ef51331",
   "metadata": {},
   "source": [
    "#### Шаг 4. Объединение данных"
   ]
  },
  {
   "cell_type": "markdown",
   "id": "0955cd07",
   "metadata": {},
   "source": [
    "Объединим данные о пользователях, поездках и подписках в один датафрейм методом merge()"
   ]
  },
  {
   "cell_type": "code",
   "execution_count": 22,
   "id": "1080290f",
   "metadata": {},
   "outputs": [],
   "source": [
    "total_go = users_go.merge(rides_go, on='user_id').merge(subscriptions_go, on='subscription_type')"
   ]
  },
  {
   "cell_type": "code",
   "execution_count": 23,
   "id": "6bf288b5",
   "metadata": {
    "scrolled": true
   },
   "outputs": [
    {
     "data": {
      "text/html": [
       "<div>\n",
       "<style scoped>\n",
       "    .dataframe tbody tr th:only-of-type {\n",
       "        vertical-align: middle;\n",
       "    }\n",
       "\n",
       "    .dataframe tbody tr th {\n",
       "        vertical-align: top;\n",
       "    }\n",
       "\n",
       "    .dataframe thead th {\n",
       "        text-align: right;\n",
       "    }\n",
       "</style>\n",
       "<table border=\"1\" class=\"dataframe\">\n",
       "  <thead>\n",
       "    <tr style=\"text-align: right;\">\n",
       "      <th></th>\n",
       "      <th>user_id</th>\n",
       "      <th>name</th>\n",
       "      <th>age</th>\n",
       "      <th>city</th>\n",
       "      <th>subscription_type</th>\n",
       "      <th>is_subscription</th>\n",
       "      <th>distance</th>\n",
       "      <th>duration</th>\n",
       "      <th>date</th>\n",
       "      <th>month</th>\n",
       "      <th>minute_price</th>\n",
       "      <th>start_ride_price</th>\n",
       "      <th>subscription_fee</th>\n",
       "    </tr>\n",
       "  </thead>\n",
       "  <tbody>\n",
       "    <tr>\n",
       "      <th>0</th>\n",
       "      <td>1</td>\n",
       "      <td>Кира</td>\n",
       "      <td>22</td>\n",
       "      <td>Тюмень</td>\n",
       "      <td>True</td>\n",
       "      <td>Есть подписка</td>\n",
       "      <td>4409.919140</td>\n",
       "      <td>25.599769</td>\n",
       "      <td>2021-01-01</td>\n",
       "      <td>1</td>\n",
       "      <td>6</td>\n",
       "      <td>0</td>\n",
       "      <td>199</td>\n",
       "    </tr>\n",
       "    <tr>\n",
       "      <th>1</th>\n",
       "      <td>1</td>\n",
       "      <td>Кира</td>\n",
       "      <td>22</td>\n",
       "      <td>Тюмень</td>\n",
       "      <td>True</td>\n",
       "      <td>Есть подписка</td>\n",
       "      <td>2617.592153</td>\n",
       "      <td>15.816871</td>\n",
       "      <td>2021-01-18</td>\n",
       "      <td>1</td>\n",
       "      <td>6</td>\n",
       "      <td>0</td>\n",
       "      <td>199</td>\n",
       "    </tr>\n",
       "    <tr>\n",
       "      <th>2</th>\n",
       "      <td>1</td>\n",
       "      <td>Кира</td>\n",
       "      <td>22</td>\n",
       "      <td>Тюмень</td>\n",
       "      <td>True</td>\n",
       "      <td>Есть подписка</td>\n",
       "      <td>754.159807</td>\n",
       "      <td>6.232113</td>\n",
       "      <td>2021-04-20</td>\n",
       "      <td>4</td>\n",
       "      <td>6</td>\n",
       "      <td>0</td>\n",
       "      <td>199</td>\n",
       "    </tr>\n",
       "    <tr>\n",
       "      <th>3</th>\n",
       "      <td>1</td>\n",
       "      <td>Кира</td>\n",
       "      <td>22</td>\n",
       "      <td>Тюмень</td>\n",
       "      <td>True</td>\n",
       "      <td>Есть подписка</td>\n",
       "      <td>2694.783254</td>\n",
       "      <td>18.511000</td>\n",
       "      <td>2021-08-11</td>\n",
       "      <td>8</td>\n",
       "      <td>6</td>\n",
       "      <td>0</td>\n",
       "      <td>199</td>\n",
       "    </tr>\n",
       "    <tr>\n",
       "      <th>4</th>\n",
       "      <td>1</td>\n",
       "      <td>Кира</td>\n",
       "      <td>22</td>\n",
       "      <td>Тюмень</td>\n",
       "      <td>True</td>\n",
       "      <td>Есть подписка</td>\n",
       "      <td>4028.687306</td>\n",
       "      <td>26.265803</td>\n",
       "      <td>2021-08-28</td>\n",
       "      <td>8</td>\n",
       "      <td>6</td>\n",
       "      <td>0</td>\n",
       "      <td>199</td>\n",
       "    </tr>\n",
       "  </tbody>\n",
       "</table>\n",
       "</div>"
      ],
      "text/plain": [
       "   user_id  name  age    city  subscription_type is_subscription     distance  \\\n",
       "0        1  Кира   22  Тюмень               True   Есть подписка  4409.919140   \n",
       "1        1  Кира   22  Тюмень               True   Есть подписка  2617.592153   \n",
       "2        1  Кира   22  Тюмень               True   Есть подписка   754.159807   \n",
       "3        1  Кира   22  Тюмень               True   Есть подписка  2694.783254   \n",
       "4        1  Кира   22  Тюмень               True   Есть подписка  4028.687306   \n",
       "\n",
       "    duration       date  month  minute_price  start_ride_price  \\\n",
       "0  25.599769 2021-01-01      1             6                 0   \n",
       "1  15.816871 2021-01-18      1             6                 0   \n",
       "2   6.232113 2021-04-20      4             6                 0   \n",
       "3  18.511000 2021-08-11      8             6                 0   \n",
       "4  26.265803 2021-08-28      8             6                 0   \n",
       "\n",
       "   subscription_fee  \n",
       "0               199  \n",
       "1               199  \n",
       "2               199  \n",
       "3               199  \n",
       "4               199  "
      ]
     },
     "execution_count": 23,
     "metadata": {},
     "output_type": "execute_result"
    }
   ],
   "source": [
    "total_go.head()"
   ]
  },
  {
   "cell_type": "markdown",
   "id": "9b84b230",
   "metadata": {},
   "source": [
    "<div class=\"alert alert-block alert-danger\" style=\"border-radius: 15px; box-shadow: 4px 4px 4px; border: 1px solid \">\n",
    "<h2> Комментарий ревьюера v_1: <a class=\"tocSkip\"></h2>\n",
    "    \n",
    "❌ После объединения стоит проверить и написать, прошло ли оно корректно, не были ли потеряны данные или не появились ли лишние записи. Совпадает ли количество записей с одной из исходных таблиц? Имеются ли пропуски? Стоит не только объединить данные, но и убедиться, что всё хорошо."
   ]
  },
  {
   "cell_type": "code",
   "execution_count": 24,
   "id": "a6ec4e3a",
   "metadata": {},
   "outputs": [
    {
     "name": "stdout",
     "output_type": "stream",
     "text": [
      "Количество поездок в rides_go 18068\n",
      "Количество поездок в total_go 18068\n",
      "\n",
      "Количество пользователей в users_go 1534\n",
      "Количество пользователей в total_go 1534\n"
     ]
    }
   ],
   "source": [
    "print(\"Количество поездок в rides_go\", rides_go['user_id'].count())\n",
    "print(\"Количество поездок в total_go\", total_go['user_id'].count())\n",
    "print()\n",
    "print(\"Количество пользователей в users_go\", len(users_go['user_id'].unique()))\n",
    "print(\"Количество пользователей в total_go\", len(total_go['user_id'].unique()))"
   ]
  },
  {
   "cell_type": "markdown",
   "id": "dacd7c1f",
   "metadata": {},
   "source": [
    "Полученные датафреймы не содержали пропусков. Количество записей в них соответствует количеству в итоговом датафрейме"
   ]
  },
  {
   "cell_type": "markdown",
   "id": "006401a9",
   "metadata": {},
   "source": [
    "<div class=\"alert alert-success\" style=\"border-radius: 15px; box-shadow: 4px 4px 4px; border: 1px solid \">\n",
    "<h2> Комментарий ревьюера v_2: <a class=\"tocSkip\"> </h2>\n",
    "    \n",
    "✅ Объединение прошло успешно"
   ]
  },
  {
   "cell_type": "markdown",
   "id": "a5558f8c",
   "metadata": {},
   "source": [
    "Создадим два датафрейма с пользователями, имеющими подписку и без неё"
   ]
  },
  {
   "cell_type": "code",
   "execution_count": 25,
   "id": "a6ae7484",
   "metadata": {},
   "outputs": [],
   "source": [
    "# Датафрейм данных с пользователями с подпиской\n",
    "ultra_go = total_go.loc[total_go['subscription_type'] == True]\n",
    "# Датафрейм данных с пользователями без подписки\n",
    "free_go = total_go.loc[total_go['subscription_type'] == False]"
   ]
  },
  {
   "cell_type": "code",
   "execution_count": 26,
   "id": "026caf32",
   "metadata": {},
   "outputs": [
    {
     "data": {
      "text/html": [
       "<div>\n",
       "<style scoped>\n",
       "    .dataframe tbody tr th:only-of-type {\n",
       "        vertical-align: middle;\n",
       "    }\n",
       "\n",
       "    .dataframe tbody tr th {\n",
       "        vertical-align: top;\n",
       "    }\n",
       "\n",
       "    .dataframe thead th {\n",
       "        text-align: right;\n",
       "    }\n",
       "</style>\n",
       "<table border=\"1\" class=\"dataframe\">\n",
       "  <thead>\n",
       "    <tr style=\"text-align: right;\">\n",
       "      <th></th>\n",
       "      <th>user_id</th>\n",
       "      <th>name</th>\n",
       "      <th>age</th>\n",
       "      <th>city</th>\n",
       "      <th>subscription_type</th>\n",
       "      <th>is_subscription</th>\n",
       "      <th>distance</th>\n",
       "      <th>duration</th>\n",
       "      <th>date</th>\n",
       "      <th>month</th>\n",
       "      <th>minute_price</th>\n",
       "      <th>start_ride_price</th>\n",
       "      <th>subscription_fee</th>\n",
       "    </tr>\n",
       "  </thead>\n",
       "  <tbody>\n",
       "    <tr>\n",
       "      <th>0</th>\n",
       "      <td>1</td>\n",
       "      <td>Кира</td>\n",
       "      <td>22</td>\n",
       "      <td>Тюмень</td>\n",
       "      <td>True</td>\n",
       "      <td>Есть подписка</td>\n",
       "      <td>4409.919140</td>\n",
       "      <td>25.599769</td>\n",
       "      <td>2021-01-01</td>\n",
       "      <td>1</td>\n",
       "      <td>6</td>\n",
       "      <td>0</td>\n",
       "      <td>199</td>\n",
       "    </tr>\n",
       "    <tr>\n",
       "      <th>1</th>\n",
       "      <td>1</td>\n",
       "      <td>Кира</td>\n",
       "      <td>22</td>\n",
       "      <td>Тюмень</td>\n",
       "      <td>True</td>\n",
       "      <td>Есть подписка</td>\n",
       "      <td>2617.592153</td>\n",
       "      <td>15.816871</td>\n",
       "      <td>2021-01-18</td>\n",
       "      <td>1</td>\n",
       "      <td>6</td>\n",
       "      <td>0</td>\n",
       "      <td>199</td>\n",
       "    </tr>\n",
       "    <tr>\n",
       "      <th>2</th>\n",
       "      <td>1</td>\n",
       "      <td>Кира</td>\n",
       "      <td>22</td>\n",
       "      <td>Тюмень</td>\n",
       "      <td>True</td>\n",
       "      <td>Есть подписка</td>\n",
       "      <td>754.159807</td>\n",
       "      <td>6.232113</td>\n",
       "      <td>2021-04-20</td>\n",
       "      <td>4</td>\n",
       "      <td>6</td>\n",
       "      <td>0</td>\n",
       "      <td>199</td>\n",
       "    </tr>\n",
       "    <tr>\n",
       "      <th>3</th>\n",
       "      <td>1</td>\n",
       "      <td>Кира</td>\n",
       "      <td>22</td>\n",
       "      <td>Тюмень</td>\n",
       "      <td>True</td>\n",
       "      <td>Есть подписка</td>\n",
       "      <td>2694.783254</td>\n",
       "      <td>18.511000</td>\n",
       "      <td>2021-08-11</td>\n",
       "      <td>8</td>\n",
       "      <td>6</td>\n",
       "      <td>0</td>\n",
       "      <td>199</td>\n",
       "    </tr>\n",
       "    <tr>\n",
       "      <th>4</th>\n",
       "      <td>1</td>\n",
       "      <td>Кира</td>\n",
       "      <td>22</td>\n",
       "      <td>Тюмень</td>\n",
       "      <td>True</td>\n",
       "      <td>Есть подписка</td>\n",
       "      <td>4028.687306</td>\n",
       "      <td>26.265803</td>\n",
       "      <td>2021-08-28</td>\n",
       "      <td>8</td>\n",
       "      <td>6</td>\n",
       "      <td>0</td>\n",
       "      <td>199</td>\n",
       "    </tr>\n",
       "    <tr>\n",
       "      <th>...</th>\n",
       "      <td>...</td>\n",
       "      <td>...</td>\n",
       "      <td>...</td>\n",
       "      <td>...</td>\n",
       "      <td>...</td>\n",
       "      <td>...</td>\n",
       "      <td>...</td>\n",
       "      <td>...</td>\n",
       "      <td>...</td>\n",
       "      <td>...</td>\n",
       "      <td>...</td>\n",
       "      <td>...</td>\n",
       "      <td>...</td>\n",
       "    </tr>\n",
       "    <tr>\n",
       "      <th>6495</th>\n",
       "      <td>699</td>\n",
       "      <td>Оксана</td>\n",
       "      <td>22</td>\n",
       "      <td>Москва</td>\n",
       "      <td>True</td>\n",
       "      <td>Есть подписка</td>\n",
       "      <td>3973.046497</td>\n",
       "      <td>24.671163</td>\n",
       "      <td>2021-08-29</td>\n",
       "      <td>8</td>\n",
       "      <td>6</td>\n",
       "      <td>0</td>\n",
       "      <td>199</td>\n",
       "    </tr>\n",
       "    <tr>\n",
       "      <th>6496</th>\n",
       "      <td>699</td>\n",
       "      <td>Оксана</td>\n",
       "      <td>22</td>\n",
       "      <td>Москва</td>\n",
       "      <td>True</td>\n",
       "      <td>Есть подписка</td>\n",
       "      <td>3288.702563</td>\n",
       "      <td>15.892886</td>\n",
       "      <td>2021-09-12</td>\n",
       "      <td>9</td>\n",
       "      <td>6</td>\n",
       "      <td>0</td>\n",
       "      <td>199</td>\n",
       "    </tr>\n",
       "    <tr>\n",
       "      <th>6497</th>\n",
       "      <td>699</td>\n",
       "      <td>Оксана</td>\n",
       "      <td>22</td>\n",
       "      <td>Москва</td>\n",
       "      <td>True</td>\n",
       "      <td>Есть подписка</td>\n",
       "      <td>3076.159348</td>\n",
       "      <td>14.389525</td>\n",
       "      <td>2021-09-26</td>\n",
       "      <td>9</td>\n",
       "      <td>6</td>\n",
       "      <td>0</td>\n",
       "      <td>199</td>\n",
       "    </tr>\n",
       "    <tr>\n",
       "      <th>6498</th>\n",
       "      <td>699</td>\n",
       "      <td>Оксана</td>\n",
       "      <td>22</td>\n",
       "      <td>Москва</td>\n",
       "      <td>True</td>\n",
       "      <td>Есть подписка</td>\n",
       "      <td>4707.845501</td>\n",
       "      <td>15.839579</td>\n",
       "      <td>2021-10-17</td>\n",
       "      <td>10</td>\n",
       "      <td>6</td>\n",
       "      <td>0</td>\n",
       "      <td>199</td>\n",
       "    </tr>\n",
       "    <tr>\n",
       "      <th>6499</th>\n",
       "      <td>699</td>\n",
       "      <td>Оксана</td>\n",
       "      <td>22</td>\n",
       "      <td>Москва</td>\n",
       "      <td>True</td>\n",
       "      <td>Есть подписка</td>\n",
       "      <td>3202.890770</td>\n",
       "      <td>25.217345</td>\n",
       "      <td>2021-12-03</td>\n",
       "      <td>12</td>\n",
       "      <td>6</td>\n",
       "      <td>0</td>\n",
       "      <td>199</td>\n",
       "    </tr>\n",
       "  </tbody>\n",
       "</table>\n",
       "<p>6500 rows × 13 columns</p>\n",
       "</div>"
      ],
      "text/plain": [
       "      user_id    name  age    city  subscription_type is_subscription  \\\n",
       "0           1    Кира   22  Тюмень               True   Есть подписка   \n",
       "1           1    Кира   22  Тюмень               True   Есть подписка   \n",
       "2           1    Кира   22  Тюмень               True   Есть подписка   \n",
       "3           1    Кира   22  Тюмень               True   Есть подписка   \n",
       "4           1    Кира   22  Тюмень               True   Есть подписка   \n",
       "...       ...     ...  ...     ...                ...             ...   \n",
       "6495      699  Оксана   22  Москва               True   Есть подписка   \n",
       "6496      699  Оксана   22  Москва               True   Есть подписка   \n",
       "6497      699  Оксана   22  Москва               True   Есть подписка   \n",
       "6498      699  Оксана   22  Москва               True   Есть подписка   \n",
       "6499      699  Оксана   22  Москва               True   Есть подписка   \n",
       "\n",
       "         distance   duration       date  month  minute_price  \\\n",
       "0     4409.919140  25.599769 2021-01-01      1             6   \n",
       "1     2617.592153  15.816871 2021-01-18      1             6   \n",
       "2      754.159807   6.232113 2021-04-20      4             6   \n",
       "3     2694.783254  18.511000 2021-08-11      8             6   \n",
       "4     4028.687306  26.265803 2021-08-28      8             6   \n",
       "...           ...        ...        ...    ...           ...   \n",
       "6495  3973.046497  24.671163 2021-08-29      8             6   \n",
       "6496  3288.702563  15.892886 2021-09-12      9             6   \n",
       "6497  3076.159348  14.389525 2021-09-26      9             6   \n",
       "6498  4707.845501  15.839579 2021-10-17     10             6   \n",
       "6499  3202.890770  25.217345 2021-12-03     12             6   \n",
       "\n",
       "      start_ride_price  subscription_fee  \n",
       "0                    0               199  \n",
       "1                    0               199  \n",
       "2                    0               199  \n",
       "3                    0               199  \n",
       "4                    0               199  \n",
       "...                ...               ...  \n",
       "6495                 0               199  \n",
       "6496                 0               199  \n",
       "6497                 0               199  \n",
       "6498                 0               199  \n",
       "6499                 0               199  \n",
       "\n",
       "[6500 rows x 13 columns]"
      ]
     },
     "execution_count": 26,
     "metadata": {},
     "output_type": "execute_result"
    }
   ],
   "source": [
    "ultra_go"
   ]
  },
  {
   "cell_type": "code",
   "execution_count": 27,
   "id": "55578444",
   "metadata": {
    "scrolled": true
   },
   "outputs": [
    {
     "data": {
      "text/html": [
       "<div>\n",
       "<style scoped>\n",
       "    .dataframe tbody tr th:only-of-type {\n",
       "        vertical-align: middle;\n",
       "    }\n",
       "\n",
       "    .dataframe tbody tr th {\n",
       "        vertical-align: top;\n",
       "    }\n",
       "\n",
       "    .dataframe thead th {\n",
       "        text-align: right;\n",
       "    }\n",
       "</style>\n",
       "<table border=\"1\" class=\"dataframe\">\n",
       "  <thead>\n",
       "    <tr style=\"text-align: right;\">\n",
       "      <th></th>\n",
       "      <th>user_id</th>\n",
       "      <th>name</th>\n",
       "      <th>age</th>\n",
       "      <th>city</th>\n",
       "      <th>subscription_type</th>\n",
       "      <th>is_subscription</th>\n",
       "      <th>distance</th>\n",
       "      <th>duration</th>\n",
       "      <th>date</th>\n",
       "      <th>month</th>\n",
       "      <th>minute_price</th>\n",
       "      <th>start_ride_price</th>\n",
       "      <th>subscription_fee</th>\n",
       "    </tr>\n",
       "  </thead>\n",
       "  <tbody>\n",
       "    <tr>\n",
       "      <th>6500</th>\n",
       "      <td>700</td>\n",
       "      <td>Айдар</td>\n",
       "      <td>22</td>\n",
       "      <td>Омск</td>\n",
       "      <td>False</td>\n",
       "      <td>Нет подписки</td>\n",
       "      <td>2515.690719</td>\n",
       "      <td>14.944286</td>\n",
       "      <td>2021-01-02</td>\n",
       "      <td>1</td>\n",
       "      <td>8</td>\n",
       "      <td>50</td>\n",
       "      <td>0</td>\n",
       "    </tr>\n",
       "    <tr>\n",
       "      <th>6501</th>\n",
       "      <td>700</td>\n",
       "      <td>Айдар</td>\n",
       "      <td>22</td>\n",
       "      <td>Омск</td>\n",
       "      <td>False</td>\n",
       "      <td>Нет подписки</td>\n",
       "      <td>846.932642</td>\n",
       "      <td>16.234663</td>\n",
       "      <td>2021-02-01</td>\n",
       "      <td>2</td>\n",
       "      <td>8</td>\n",
       "      <td>50</td>\n",
       "      <td>0</td>\n",
       "    </tr>\n",
       "    <tr>\n",
       "      <th>6502</th>\n",
       "      <td>700</td>\n",
       "      <td>Айдар</td>\n",
       "      <td>22</td>\n",
       "      <td>Омск</td>\n",
       "      <td>False</td>\n",
       "      <td>Нет подписки</td>\n",
       "      <td>4004.434142</td>\n",
       "      <td>20.016628</td>\n",
       "      <td>2021-02-04</td>\n",
       "      <td>2</td>\n",
       "      <td>8</td>\n",
       "      <td>50</td>\n",
       "      <td>0</td>\n",
       "    </tr>\n",
       "    <tr>\n",
       "      <th>6503</th>\n",
       "      <td>700</td>\n",
       "      <td>Айдар</td>\n",
       "      <td>22</td>\n",
       "      <td>Омск</td>\n",
       "      <td>False</td>\n",
       "      <td>Нет подписки</td>\n",
       "      <td>1205.911290</td>\n",
       "      <td>9.782872</td>\n",
       "      <td>2021-02-10</td>\n",
       "      <td>2</td>\n",
       "      <td>8</td>\n",
       "      <td>50</td>\n",
       "      <td>0</td>\n",
       "    </tr>\n",
       "    <tr>\n",
       "      <th>6504</th>\n",
       "      <td>700</td>\n",
       "      <td>Айдар</td>\n",
       "      <td>22</td>\n",
       "      <td>Омск</td>\n",
       "      <td>False</td>\n",
       "      <td>Нет подписки</td>\n",
       "      <td>3047.379435</td>\n",
       "      <td>17.427673</td>\n",
       "      <td>2021-02-14</td>\n",
       "      <td>2</td>\n",
       "      <td>8</td>\n",
       "      <td>50</td>\n",
       "      <td>0</td>\n",
       "    </tr>\n",
       "    <tr>\n",
       "      <th>...</th>\n",
       "      <td>...</td>\n",
       "      <td>...</td>\n",
       "      <td>...</td>\n",
       "      <td>...</td>\n",
       "      <td>...</td>\n",
       "      <td>...</td>\n",
       "      <td>...</td>\n",
       "      <td>...</td>\n",
       "      <td>...</td>\n",
       "      <td>...</td>\n",
       "      <td>...</td>\n",
       "      <td>...</td>\n",
       "      <td>...</td>\n",
       "    </tr>\n",
       "    <tr>\n",
       "      <th>18063</th>\n",
       "      <td>1534</td>\n",
       "      <td>Альберт</td>\n",
       "      <td>25</td>\n",
       "      <td>Краснодар</td>\n",
       "      <td>False</td>\n",
       "      <td>Нет подписки</td>\n",
       "      <td>3781.098080</td>\n",
       "      <td>19.822962</td>\n",
       "      <td>2021-11-04</td>\n",
       "      <td>11</td>\n",
       "      <td>8</td>\n",
       "      <td>50</td>\n",
       "      <td>0</td>\n",
       "    </tr>\n",
       "    <tr>\n",
       "      <th>18064</th>\n",
       "      <td>1534</td>\n",
       "      <td>Альберт</td>\n",
       "      <td>25</td>\n",
       "      <td>Краснодар</td>\n",
       "      <td>False</td>\n",
       "      <td>Нет подписки</td>\n",
       "      <td>2840.423057</td>\n",
       "      <td>21.409799</td>\n",
       "      <td>2021-11-16</td>\n",
       "      <td>11</td>\n",
       "      <td>8</td>\n",
       "      <td>50</td>\n",
       "      <td>0</td>\n",
       "    </tr>\n",
       "    <tr>\n",
       "      <th>18065</th>\n",
       "      <td>1534</td>\n",
       "      <td>Альберт</td>\n",
       "      <td>25</td>\n",
       "      <td>Краснодар</td>\n",
       "      <td>False</td>\n",
       "      <td>Нет подписки</td>\n",
       "      <td>3826.185507</td>\n",
       "      <td>18.435051</td>\n",
       "      <td>2021-11-18</td>\n",
       "      <td>11</td>\n",
       "      <td>8</td>\n",
       "      <td>50</td>\n",
       "      <td>0</td>\n",
       "    </tr>\n",
       "    <tr>\n",
       "      <th>18066</th>\n",
       "      <td>1534</td>\n",
       "      <td>Альберт</td>\n",
       "      <td>25</td>\n",
       "      <td>Краснодар</td>\n",
       "      <td>False</td>\n",
       "      <td>Нет подписки</td>\n",
       "      <td>2902.308661</td>\n",
       "      <td>16.674362</td>\n",
       "      <td>2021-11-27</td>\n",
       "      <td>11</td>\n",
       "      <td>8</td>\n",
       "      <td>50</td>\n",
       "      <td>0</td>\n",
       "    </tr>\n",
       "    <tr>\n",
       "      <th>18067</th>\n",
       "      <td>1534</td>\n",
       "      <td>Альберт</td>\n",
       "      <td>25</td>\n",
       "      <td>Краснодар</td>\n",
       "      <td>False</td>\n",
       "      <td>Нет подписки</td>\n",
       "      <td>2371.711192</td>\n",
       "      <td>15.893917</td>\n",
       "      <td>2021-12-29</td>\n",
       "      <td>12</td>\n",
       "      <td>8</td>\n",
       "      <td>50</td>\n",
       "      <td>0</td>\n",
       "    </tr>\n",
       "  </tbody>\n",
       "</table>\n",
       "<p>11568 rows × 13 columns</p>\n",
       "</div>"
      ],
      "text/plain": [
       "       user_id     name  age       city  subscription_type is_subscription  \\\n",
       "6500       700    Айдар   22       Омск              False    Нет подписки   \n",
       "6501       700    Айдар   22       Омск              False    Нет подписки   \n",
       "6502       700    Айдар   22       Омск              False    Нет подписки   \n",
       "6503       700    Айдар   22       Омск              False    Нет подписки   \n",
       "6504       700    Айдар   22       Омск              False    Нет подписки   \n",
       "...        ...      ...  ...        ...                ...             ...   \n",
       "18063     1534  Альберт   25  Краснодар              False    Нет подписки   \n",
       "18064     1534  Альберт   25  Краснодар              False    Нет подписки   \n",
       "18065     1534  Альберт   25  Краснодар              False    Нет подписки   \n",
       "18066     1534  Альберт   25  Краснодар              False    Нет подписки   \n",
       "18067     1534  Альберт   25  Краснодар              False    Нет подписки   \n",
       "\n",
       "          distance   duration       date  month  minute_price  \\\n",
       "6500   2515.690719  14.944286 2021-01-02      1             8   \n",
       "6501    846.932642  16.234663 2021-02-01      2             8   \n",
       "6502   4004.434142  20.016628 2021-02-04      2             8   \n",
       "6503   1205.911290   9.782872 2021-02-10      2             8   \n",
       "6504   3047.379435  17.427673 2021-02-14      2             8   \n",
       "...            ...        ...        ...    ...           ...   \n",
       "18063  3781.098080  19.822962 2021-11-04     11             8   \n",
       "18064  2840.423057  21.409799 2021-11-16     11             8   \n",
       "18065  3826.185507  18.435051 2021-11-18     11             8   \n",
       "18066  2902.308661  16.674362 2021-11-27     11             8   \n",
       "18067  2371.711192  15.893917 2021-12-29     12             8   \n",
       "\n",
       "       start_ride_price  subscription_fee  \n",
       "6500                 50                 0  \n",
       "6501                 50                 0  \n",
       "6502                 50                 0  \n",
       "6503                 50                 0  \n",
       "6504                 50                 0  \n",
       "...                 ...               ...  \n",
       "18063                50                 0  \n",
       "18064                50                 0  \n",
       "18065                50                 0  \n",
       "18066                50                 0  \n",
       "18067                50                 0  \n",
       "\n",
       "[11568 rows x 13 columns]"
      ]
     },
     "execution_count": 27,
     "metadata": {},
     "output_type": "execute_result"
    }
   ],
   "source": [
    "free_go"
   ]
  },
  {
   "cell_type": "markdown",
   "id": "f97dc8c9",
   "metadata": {},
   "source": [
    "<div class=\"alert alert-success\" style=\"border-radius: 15px; box-shadow: 4px 4px 4px; border: 1px solid \">\n",
    "<h2> Комментарий ревьюера v_1: <a class=\"tocSkip\"> </h2>\n",
    "    \n",
    "✅ Отлично, созданы необходимые датафреймы. Я бы еще соватовал проверять, что совокупный размер датафреймов совпадает с количеством строк в исходной таблице."
   ]
  },
  {
   "cell_type": "markdown",
   "id": "beb1c92f",
   "metadata": {},
   "source": [
    "Визуализируем информацию о расстоянии для пользователей мобильного приложения, не имеющих подписку"
   ]
  },
  {
   "cell_type": "code",
   "execution_count": 28,
   "id": "fa5ac69b",
   "metadata": {
    "scrolled": true
   },
   "outputs": [
    {
     "data": {
      "image/png": "[encoded data removed]",
      "text/plain": [
       "<Figure size 432x288 with 1 Axes>"
      ]
     },
     "metadata": {
      "needs_background": "light"
     },
     "output_type": "display_data"
    },
    {
     "data": {
      "text/plain": [
       "<Figure size 1440x1440 with 0 Axes>"
      ]
     },
     "metadata": {},
     "output_type": "display_data"
    }
   ],
   "source": [
    "plt.hist(free_go['distance'], bins=40, range = (0, 7000))\n",
    "plt.title('Расстояние, бесплатный тариф')\n",
    "plt.xlabel('Расстояние, м')\n",
    "plt.ylabel('Количество поездок')\n",
    "plt.figure(figsize=(20,20))\n",
    "plt.show()"
   ]
  },
  {
   "cell_type": "markdown",
   "id": "e0537000",
   "metadata": {},
   "source": [
    "<div class=\"alert alert-warning\" style=\"border-radius: 15px; box-shadow: 4px 4px 4px; border: 1px solid \">\n",
    "<h2> Комментарий ревьюера v_1: <a class=\"tocSkip\"> </h2>\n",
    "    \n",
    "⚠️ Лучше для двух датайфреймов строить не отдельные графики, а совместить их в одной визуализации. В итоге, получится одна визуализация, показывающая распределение расстояния с разбивкой по пользователям с подпиской и без, и аналогичная визуализация, но показывающая распределение времени поездок. [Здесь](https://overcoder.net/q/42473/%D1%81%D0%BE%D1%81%D1%82%D0%B0%D0%B2%D1%8C%D1%82%D0%B5-%D0%B4%D0%B2%D0%B5-%D0%B3%D0%B8%D1%81%D1%82%D0%BE%D0%B3%D1%80%D0%B0%D0%BC%D0%BC%D1%8B-%D0%BE%D0%B4%D0%BD%D0%BE%D0%B2%D1%80%D0%B5%D0%BC%D0%B5%D0%BD%D0%BD%D0%BE-%D1%81-%D0%BF%D0%BE%D0%BC%D0%BE%D1%89%D1%8C%D1%8E-matplotlib) есть примеры.\n",
    "    \n",
    "Также рекомендуется использовать функцию `describe()` на этом шаге.\n"
   ]
  },
  {
   "cell_type": "markdown",
   "id": "30dd8e63",
   "metadata": {},
   "source": [
    "Визуализируем информацию о времени для пользователей мобильного приложения, не имеющих подписку"
   ]
  },
  {
   "cell_type": "code",
   "execution_count": 29,
   "id": "9bd337f3",
   "metadata": {},
   "outputs": [
    {
     "data": {
      "image/png": "[encoded data removed]",
      "text/plain": [
       "<Figure size 432x288 with 1 Axes>"
      ]
     },
     "metadata": {
      "needs_background": "light"
     },
     "output_type": "display_data"
    },
    {
     "data": {
      "text/plain": [
       "<Figure size 1440x1440 with 0 Axes>"
      ]
     },
     "metadata": {},
     "output_type": "display_data"
    }
   ],
   "source": [
    "plt.hist(free_go['duration'], bins=30, range = (0, 35))\n",
    "plt.title('Время, бесплатный тариф')\n",
    "plt.xlabel('Время поездки, минуты')\n",
    "plt.ylabel('Количество поездок')\n",
    "plt.figure(figsize=(20,20))\n",
    "plt.show()"
   ]
  },
  {
   "cell_type": "markdown",
   "id": "de66a16e",
   "metadata": {},
   "source": [
    "Визуализируем информацию о расстоянии для пользователей мобильного приложения, имеющих подписку"
   ]
  },
  {
   "cell_type": "code",
   "execution_count": 30,
   "id": "cc772e9b",
   "metadata": {},
   "outputs": [
    {
     "data": {
      "image/png": "[encoded data removed]",
      "text/plain": [
       "<Figure size 432x288 with 1 Axes>"
      ]
     },
     "metadata": {
      "needs_background": "light"
     },
     "output_type": "display_data"
    },
    {
     "data": {
      "text/plain": [
       "<Figure size 1440x1440 with 0 Axes>"
      ]
     },
     "metadata": {},
     "output_type": "display_data"
    }
   ],
   "source": [
    "plt.hist(ultra_go['distance'], bins=40, range = (0, 6000))\n",
    "plt.title('Расстояние, платный тариф')\n",
    "plt.xlabel('Расстояние, м')\n",
    "plt.ylabel('Количество поездок')\n",
    "plt.figure(figsize=(20,20))\n",
    "plt.show()"
   ]
  },
  {
   "cell_type": "markdown",
   "id": "bf5e49da",
   "metadata": {},
   "source": [
    "Визуализируем информацию о времени для пользователей мобильного приложения, имеющих подписку"
   ]
  },
  {
   "cell_type": "code",
   "execution_count": 31,
   "id": "1bae6f5e",
   "metadata": {},
   "outputs": [
    {
     "data": {
      "image/png": "[encoded data removed]",
      "text/plain": [
       "<Figure size 432x288 with 1 Axes>"
      ]
     },
     "metadata": {
      "needs_background": "light"
     },
     "output_type": "display_data"
    },
    {
     "data": {
      "text/plain": [
       "<Figure size 1440x1440 with 0 Axes>"
      ]
     },
     "metadata": {},
     "output_type": "display_data"
    }
   ],
   "source": [
    "plt.hist(ultra_go['duration'], bins=30, range = (0, 35))\n",
    "plt.title('Время, платный тариф')\n",
    "plt.xlabel('Время поездки, минуты')\n",
    "plt.ylabel('Количество поездок')\n",
    "plt.figure(figsize=(20,20))\n",
    "plt.show()"
   ]
  },
  {
   "cell_type": "markdown",
   "id": "7735f033",
   "metadata": {},
   "source": [
    "На основании полученных гистограмм можно сделать вывод что время поездки для пользователей мобильного приложения, не имеющих подписку, составляет от 10 до 30 минут, а расстояние поездки составляет от 2 до 5 км. Время поездки для пользователей мобильного приложения, не имеющих подписку, составляет от 15 до 25 минут, а расстояние поездки составляет от 2 до 3 км.\n",
    "\n",
    "Можно сделать вывод, что пользователи, не имеющие подписку, в целом совершают более долгие поездки, а также проезжают большее расстояние, чем пользователи у которых есть подписка."
   ]
  },
  {
   "cell_type": "markdown",
   "id": "e278d7ad",
   "metadata": {},
   "source": [
    "<div class=\"alert alert-warning\" style=\"border-radius: 15px; box-shadow: 4px 4px 4px; border: 1px solid \">\n",
    "<h2> Комментарий ревьюера v_1: <a class=\"tocSkip\"> </h2>\n",
    "    \n",
    "⚠️ Но желательно еще сравнить среднее между группами пользователей. Более длительные поездки будут у free пользователей или ultra?"
   ]
  },
  {
   "cell_type": "markdown",
   "id": "402d620f",
   "metadata": {},
   "source": [
    "#### Шаг 5. Подсчёт выручки"
   ]
  },
  {
   "cell_type": "markdown",
   "id": "7a5b6edc",
   "metadata": {},
   "source": [
    "Найдём суммарное расстояние, количество поездок и суммарное время для каждого пользователя за каждый месяц."
   ]
  },
  {
   "cell_type": "markdown",
   "id": "61d6d803",
   "metadata": {},
   "source": [
    "<div class=\"alert alert-block alert-danger\" style=\"border-radius: 15px; box-shadow: 4px 4px 4px; border: 1px solid \">\n",
    "<h2> Комментарий ревьюера v_1: <a class=\"tocSkip\"></h2>\n",
    "    \n",
    "❌ Необходимо выполнить условие задания: \"Продолжительность каждой поездки в каждой строке исходного датафрейма для подсчёта стоимости округляется до следующего целого числа: например, значения 25.3, 25.5 и 26.0 должны быть преобразованы к 26\". До создания таблицы с агрегированными данными, т.к. нужно округлять продолжительность каждой поездки, а не результат суммирования."
   ]
  },
  {
   "cell_type": "markdown",
   "id": "283e62ae",
   "metadata": {},
   "source": [
    "<div class=\"alert alert-success\" style=\"border-radius: 15px; box-shadow: 4px 4px 4px; border: 1px solid \">\n",
    "<h2> Комментарий ревьюера v_2: <a class=\"tocSkip\"> </h2>\n",
    "    \n",
    "✅ Хорошо"
   ]
  },
  {
   "cell_type": "code",
   "execution_count": 32,
   "id": "780eb5e5",
   "metadata": {},
   "outputs": [],
   "source": [
    "total_go['duration'] = np.ceil(total_go['duration'])"
   ]
  },
  {
   "cell_type": "code",
   "execution_count": 33,
   "id": "835e2e07",
   "metadata": {},
   "outputs": [],
   "source": [
    "total_data = pd.pivot_table(total_go,\n",
    "                           index=['month', 'user_id'],\n",
    "                           values = ['distance', 'duration', 'name', 'subscription_type'],\n",
    "                           aggfunc = {'distance': sum, \n",
    "                                      'duration' : sum, \n",
    "                                      'name' : len, \n",
    "                                      'subscription_type' : min})"
   ]
  },
  {
   "cell_type": "code",
   "execution_count": 34,
   "id": "900b0a4a",
   "metadata": {},
   "outputs": [],
   "source": [
    "#в сводной таблице создадим столбец с количеством поездок\n",
    "total_data.rename(columns = {'name' : 'count_tips'}, inplace = True)"
   ]
  },
  {
   "cell_type": "code",
   "execution_count": 35,
   "id": "ddad832d",
   "metadata": {
    "scrolled": true
   },
   "outputs": [
    {
     "data": {
      "text/html": [
       "<div>\n",
       "<style scoped>\n",
       "    .dataframe tbody tr th:only-of-type {\n",
       "        vertical-align: middle;\n",
       "    }\n",
       "\n",
       "    .dataframe tbody tr th {\n",
       "        vertical-align: top;\n",
       "    }\n",
       "\n",
       "    .dataframe thead th {\n",
       "        text-align: right;\n",
       "    }\n",
       "</style>\n",
       "<table border=\"1\" class=\"dataframe\">\n",
       "  <thead>\n",
       "    <tr style=\"text-align: right;\">\n",
       "      <th></th>\n",
       "      <th></th>\n",
       "      <th>distance</th>\n",
       "      <th>duration</th>\n",
       "      <th>count_tips</th>\n",
       "      <th>subscription_type</th>\n",
       "    </tr>\n",
       "    <tr>\n",
       "      <th>month</th>\n",
       "      <th>user_id</th>\n",
       "      <th></th>\n",
       "      <th></th>\n",
       "      <th></th>\n",
       "      <th></th>\n",
       "    </tr>\n",
       "  </thead>\n",
       "  <tbody>\n",
       "    <tr>\n",
       "      <th rowspan=\"5\" valign=\"top\">1</th>\n",
       "      <th>1</th>\n",
       "      <td>7027.511294</td>\n",
       "      <td>42.0</td>\n",
       "      <td>2</td>\n",
       "      <td>True</td>\n",
       "    </tr>\n",
       "    <tr>\n",
       "      <th>1061</th>\n",
       "      <td>12637.249630</td>\n",
       "      <td>43.0</td>\n",
       "      <td>3</td>\n",
       "      <td>False</td>\n",
       "    </tr>\n",
       "    <tr>\n",
       "      <th>1063</th>\n",
       "      <td>3276.362299</td>\n",
       "      <td>10.0</td>\n",
       "      <td>1</td>\n",
       "      <td>False</td>\n",
       "    </tr>\n",
       "    <tr>\n",
       "      <th>1064</th>\n",
       "      <td>5297.324649</td>\n",
       "      <td>15.0</td>\n",
       "      <td>1</td>\n",
       "      <td>False</td>\n",
       "    </tr>\n",
       "    <tr>\n",
       "      <th>1065</th>\n",
       "      <td>14547.099333</td>\n",
       "      <td>99.0</td>\n",
       "      <td>4</td>\n",
       "      <td>False</td>\n",
       "    </tr>\n",
       "    <tr>\n",
       "      <th>...</th>\n",
       "      <th>...</th>\n",
       "      <td>...</td>\n",
       "      <td>...</td>\n",
       "      <td>...</td>\n",
       "      <td>...</td>\n",
       "    </tr>\n",
       "    <tr>\n",
       "      <th rowspan=\"5\" valign=\"top\">12</th>\n",
       "      <th>618</th>\n",
       "      <td>5269.450142</td>\n",
       "      <td>33.0</td>\n",
       "      <td>2</td>\n",
       "      <td>True</td>\n",
       "    </tr>\n",
       "    <tr>\n",
       "      <th>619</th>\n",
       "      <td>2955.251037</td>\n",
       "      <td>17.0</td>\n",
       "      <td>1</td>\n",
       "      <td>True</td>\n",
       "    </tr>\n",
       "    <tr>\n",
       "      <th>620</th>\n",
       "      <td>3972.842520</td>\n",
       "      <td>14.0</td>\n",
       "      <td>1</td>\n",
       "      <td>True</td>\n",
       "    </tr>\n",
       "    <tr>\n",
       "      <th>600</th>\n",
       "      <td>3698.618505</td>\n",
       "      <td>14.0</td>\n",
       "      <td>1</td>\n",
       "      <td>True</td>\n",
       "    </tr>\n",
       "    <tr>\n",
       "      <th>1534</th>\n",
       "      <td>2371.711192</td>\n",
       "      <td>16.0</td>\n",
       "      <td>1</td>\n",
       "      <td>False</td>\n",
       "    </tr>\n",
       "  </tbody>\n",
       "</table>\n",
       "<p>11331 rows × 4 columns</p>\n",
       "</div>"
      ],
      "text/plain": [
       "                   distance  duration  count_tips  subscription_type\n",
       "month user_id                                                       \n",
       "1     1         7027.511294      42.0           2               True\n",
       "      1061     12637.249630      43.0           3              False\n",
       "      1063      3276.362299      10.0           1              False\n",
       "      1064      5297.324649      15.0           1              False\n",
       "      1065     14547.099333      99.0           4              False\n",
       "...                     ...       ...         ...                ...\n",
       "12    618       5269.450142      33.0           2               True\n",
       "      619       2955.251037      17.0           1               True\n",
       "      620       3972.842520      14.0           1               True\n",
       "      600       3698.618505      14.0           1               True\n",
       "      1534      2371.711192      16.0           1              False\n",
       "\n",
       "[11331 rows x 4 columns]"
      ]
     },
     "execution_count": 35,
     "metadata": {},
     "output_type": "execute_result"
    }
   ],
   "source": [
    "total_data.sort_values(by='month')"
   ]
  },
  {
   "cell_type": "markdown",
   "id": "6745cc02",
   "metadata": {},
   "source": [
    " В этот же датафрейм добавим столбец с помесячной выручкой, которую принёс каждый пользователь. "
   ]
  },
  {
   "cell_type": "code",
   "execution_count": 36,
   "id": "879cb8eb",
   "metadata": {},
   "outputs": [],
   "source": [
    "def revenue(row):\n",
    "    if row['subscription_type'] == True:\n",
    "        return 6 * row['duration'] + 199\n",
    "    elif row['subscription_type'] == False:\n",
    "        return 8 * row['duration'] + 50 * row['count_tips']\n",
    "    else:\n",
    "        return 'Not such sub'"
   ]
  },
  {
   "cell_type": "markdown",
   "id": "23b59e35",
   "metadata": {},
   "source": [
    "<div class=\"alert alert-warning\" style=\"border-radius: 15px; box-shadow: 4px 4px 4px; border: 1px solid \">\n",
    "<h2> Комментарий ревьюера v_1: <a class=\"tocSkip\"> </h2>\n",
    "    \n",
    "⚠️ Если добавить цены поездок и подписки в сводную таблицу, можно в одной строке перемножить и прибавить соответствующие столбцы (как в подсказке) для получения такого же результата без использования if-else и ручного ввода чисел. "
   ]
  },
  {
   "cell_type": "code",
   "execution_count": 37,
   "id": "20ef0599",
   "metadata": {},
   "outputs": [],
   "source": [
    "total_data['revenue_per_month'] = total_data.apply(revenue, axis=1)"
   ]
  },
  {
   "cell_type": "code",
   "execution_count": 38,
   "id": "d6992258",
   "metadata": {},
   "outputs": [
    {
     "data": {
      "text/plain": [
       "month  user_id\n",
       "1      1          451.0\n",
       "       3          277.0\n",
       "       5          277.0\n",
       "       7          367.0\n",
       "       12         397.0\n",
       "       13         451.0\n",
       "       14         409.0\n",
       "       15         433.0\n",
       "       20         373.0\n",
       "       22         277.0\n",
       "       25         301.0\n",
       "       26         367.0\n",
       "       30         349.0\n",
       "       32         349.0\n",
       "       35         541.0\n",
       "       42         337.0\n",
       "       43         487.0\n",
       "       44         313.0\n",
       "       45         361.0\n",
       "       46         319.0\n",
       "Name: revenue_per_month, dtype: float64"
      ]
     },
     "execution_count": 38,
     "metadata": {},
     "output_type": "execute_result"
    }
   ],
   "source": [
    "total_data['revenue_per_month'].head(20)"
   ]
  },
  {
   "cell_type": "markdown",
   "id": "41545ac0",
   "metadata": {},
   "source": [
    "#### Шаг 6. Проверка гипотез"
   ]
  },
  {
   "cell_type": "markdown",
   "id": "62b12f06",
   "metadata": {},
   "source": [
    "Продакт-менеджеры сервиса хотят увеличить количество пользователей с подпиской. Для этого они будут проводить различные акции, но сначала нужно выяснить несколько важных моментов."
   ]
  },
  {
   "cell_type": "markdown",
   "id": "9409d36d",
   "metadata": {},
   "source": [
    "<h5>Важно понять, тратят ли пользователи с подпиской больше времени на поездки? Если да, то пользователи с подпиской могут быть «выгоднее» для компании. "
   ]
  },
  {
   "cell_type": "markdown",
   "id": "9f08f36a",
   "metadata": {},
   "source": [
    "Нулевая и альтернативная гипотезы:\n",
    "<br>Гипотеза Н0: Средняя продолжительность поездок с подпиской ‘ultra’ и ‘free’ равна.\n",
    "<br>Гипотеза Н1: Средняя продолжительность поездок с подпиской ‘ultra’ больше чем средняя продолжительность поездок без подписки"
   ]
  },
  {
   "cell_type": "markdown",
   "id": "4e6dae31",
   "metadata": {},
   "source": [
    "<div class=\"alert alert-block alert-danger\" style=\"border-radius: 15px; box-shadow: 4px 4px 4px; border: 1px solid \">\n",
    "<h2> Комментарий ревьюера v_1: <a class=\"tocSkip\"></h2>\n",
    "    \n",
    "❌ \"Важно понять, тратят ли пользователи с подпиской больше времени на поездки\" - как именно должна быть сформулирована альтернативная гипотеза? Необходимо добавить соответствующий аргумент в параметр alternative"
   ]
  },
  {
   "cell_type": "markdown",
   "id": "6a470b3d",
   "metadata": {},
   "source": [
    "<div class=\"alert alert-block alert-danger\" style=\"border-radius: 15px; box-shadow: 4px 4px 4px; border: 1px solid \">\n",
    "<h2> Комментарий ревьюера v_2: <a class=\"tocSkip\"></h2>\n",
    "    \n",
    "❌ Но альтернативная гипотеза не скорректирована. В задании нет слова \"меньше\"."
   ]
  },
  {
   "cell_type": "markdown",
   "id": "d6f0ea6d",
   "metadata": {},
   "source": [
    "<div class=\"alert alert-block alert-danger\" style=\"border-radius: 15px; box-shadow: 4px 4px 4px; border: 1px solid \">\n",
    "<h2> Комментарий ревьюера v_3: <a class=\"tocSkip\"></h2>\n",
    "    \n",
    "❌ В формулировке задания выше написано \"не равны\" или \"больше\"?"
   ]
  },
  {
   "cell_type": "markdown",
   "id": "d673b426",
   "metadata": {},
   "source": [
    "<div class=\"alert alert-success\" style=\"border-radius: 15px; box-shadow: 4px 4px 4px; border: 1px solid \">\n",
    "<h2> Комментарий ревьюера v_4: <a class=\"tocSkip\"> </h2>\n",
    "    \n",
    "✅ Да, теперь хорошо"
   ]
  },
  {
   "cell_type": "code",
   "execution_count": 39,
   "id": "2e6d6ec3",
   "metadata": {
    "scrolled": true
   },
   "outputs": [
    {
     "name": "stdout",
     "output_type": "stream",
     "text": [
      "1.2804098316645618e-34\n",
      "Отвергаем нулевую гипотезу\n"
     ]
    }
   ],
   "source": [
    "results = st.ttest_ind(ultra_go['duration'], free_go['duration'],  alternative = 'greater')\n",
    "print(results.pvalue)\n",
    "if results.pvalue < .05:\n",
    "    print('Отвергаем нулевую гипотезу')\n",
    "else:\n",
    "    print('Не отвергаем нулевую гипотезу')"
   ]
  },
  {
   "cell_type": "markdown",
   "id": "1f685086",
   "metadata": {},
   "source": [
    "<div class=\"alert alert-block alert-danger\" style=\"border-radius: 15px; box-shadow: 4px 4px 4px; border: 1px solid \">\n",
    "<h2> Комментарий ревьюера v_1: <a class=\"tocSkip\"></h2>\n",
    "    \n",
    "❌ Есть ли основания полагать, что выборки разного размера и различаются дисперсии, что есть сильный разброс значений? Стоит ли менять аргумент в equal_var? По умолчанию стоит True, если вносить изменения в статтест, то необходимо аргументировать. \n"
   ]
  },
  {
   "cell_type": "markdown",
   "id": "40abecab",
   "metadata": {},
   "source": [
    "<div class=\"alert alert-success\" style=\"border-radius: 15px; box-shadow: 4px 4px 4px; border: 1px solid \">\n",
    "<h2> Комментарий ревьюера v_2: <a class=\"tocSkip\"> </h2>\n",
    "    \n",
    "✅ +"
   ]
  },
  {
   "cell_type": "markdown",
   "id": "99b5559b",
   "metadata": {},
   "source": [
    "Не получилось отвергнуть гипотезу о том, что средняя продолжительность поездок с подпиской ‘ultra’ равна (или больше), чем с подпиской ‘free’."
   ]
  },
  {
   "cell_type": "markdown",
   "id": "020fa539",
   "metadata": {},
   "source": [
    "<div class=\"alert alert-warning\" style=\"border-radius: 15px; box-shadow: 4px 4px 4px; border: 1px solid \">\n",
    "<h2> Комментарий ревьюера v_1: <a class=\"tocSkip\"> </h2>\n",
    "    \n",
    "⚠️ Лучше написать так: \"Нулевая гипотеза (о чем?) отвергнута, есть основания утверждать, что...\""
   ]
  },
  {
   "cell_type": "markdown",
   "id": "f2936c4d",
   "metadata": {},
   "source": [
    "<h5>Расстояние одной поездки в 3130 метров — оптимальное с точки зрения износа самоката. Можно ли сказать, что среднее расстояние, которое проезжают пользователи с подпиской за одну поездку, не превышает 3130 метров? Проверим гипотезу и сделаем выводы."
   ]
  },
  {
   "cell_type": "markdown",
   "id": "0dc98907",
   "metadata": {},
   "source": [
    "Нулевая и альтернативная гипотезы:\n",
    "<br>Гипотеза Н0: Среднее расстояние поездок с использованием подписки ‘ultra’ меньше или равно оптимальному расстоянию в 3130 метров.\n",
    "<br>Гипотеза Н1: Среднее расстояние поездок с использованием подписки ‘ultra’ более 3130 метров."
   ]
  },
  {
   "cell_type": "code",
   "execution_count": 40,
   "id": "e450b54f",
   "metadata": {},
   "outputs": [
    {
     "name": "stdout",
     "output_type": "stream",
     "text": [
      "0.9195368847849785\n",
      "Не отвергаем нулевую гипотезу\n"
     ]
    }
   ],
   "source": [
    "results = st.ttest_1samp(ultra_go['distance'], 3130, alternative='greater')\n",
    "print(results.pvalue)\n",
    "if results.pvalue < .05:\n",
    "    print('Отвергаем нулевую гипотезу')\n",
    "else:\n",
    "    print('Не отвергаем нулевую гипотезу')"
   ]
  },
  {
   "cell_type": "markdown",
   "id": "4cba9c29",
   "metadata": {},
   "source": [
    "<div class=\"alert alert-success\" style=\"border-radius: 15px; box-shadow: 4px 4px 4px; border: 1px solid \">\n",
    "<h2> Комментарий ревьюера v_1: <a class=\"tocSkip\"> </h2>\n",
    "    \n",
    "✅ Здесь всё хорошо"
   ]
  },
  {
   "cell_type": "markdown",
   "id": "9b38a739",
   "metadata": {},
   "source": [
    "Не получилось отвергнуть гипотезу о том, что среднее расстояние поездок с использованием подписки ‘ultra’ (меньше или) равно 3130 метров."
   ]
  },
  {
   "cell_type": "markdown",
   "id": "cd0bb936",
   "metadata": {},
   "source": [
    "<div class=\"alert alert-warning\" style=\"border-radius: 15px; box-shadow: 4px 4px 4px; border: 1px solid \">\n",
    "<h2> Комментарий ревьюера v_1: <a class=\"tocSkip\"> </h2>\n",
    "    \n",
    "⚠️ Стоит прокомментировать результаты, является ли расстояние поездок оптимальным с точки зрения износа самоката, т.е., что он в пределах нормы, не завышен."
   ]
  },
  {
   "cell_type": "markdown",
   "id": "61440ada",
   "metadata": {},
   "source": [
    "<h5>Проверим гипотезу о том, будет ли помесячная выручка от пользователей с подпиской по месяцам выше, чем выручка от пользователей без подписки."
   ]
  },
  {
   "cell_type": "markdown",
   "id": "254f9d59",
   "metadata": {},
   "source": [
    "Нулевая и альтернативная гипотезы:\n",
    "<br>Гипотеза Н0: Средняя выручка от поездок с подпиской и без подписки равны.\n",
    "<br>Гипотеза Н1: Средняя выручка от поездок с использованием подписки ‘ultra’ выше, чем выручка без использования подписки"
   ]
  },
  {
   "cell_type": "markdown",
   "id": "e4ed869b",
   "metadata": {},
   "source": [
    "<div class=\"alert alert-block alert-danger\" style=\"border-radius: 15px; box-shadow: 4px 4px 4px; border: 1px solid \">\n",
    "<h2> Комментарий ревьюера v_1: <a class=\"tocSkip\"></h2>\n",
    "    \n",
    "❌ Аналогично п. 6.1"
   ]
  },
  {
   "cell_type": "markdown",
   "id": "de94d352",
   "metadata": {},
   "source": [
    "<div class=\"alert alert-block alert-danger\" style=\"border-radius: 15px; box-shadow: 4px 4px 4px; border: 1px solid \">\n",
    "<h2> Комментарий ревьюера v_2: <a class=\"tocSkip\"></h2>\n",
    "    \n",
    "❌ Также альтернативная не совпадает - \"Проверьте гипотезу о том, будет ли помесячная выручка от пользователей с подпиской по месяцам выше, чем выручка от пользователей без подписки\". Аргумент в alternative должен соответствовать альтернативной гипотезе. И вывод нужно будет скорректировать"
   ]
  },
  {
   "cell_type": "code",
   "execution_count": 41,
   "id": "db62350e",
   "metadata": {
    "scrolled": true
   },
   "outputs": [
    {
     "name": "stdout",
     "output_type": "stream",
     "text": [
      "1.8850394384715216e-31\n",
      "Отвергаем нулевую гипотезу\n"
     ]
    }
   ],
   "source": [
    "ultra_per_mnth = total_data.loc[total_data.subscription_type == True, 'revenue_per_month'] \n",
    "free_per_mnth = total_data.loc[total_data.subscription_type == False, 'revenue_per_month'] \n",
    "results = st.ttest_ind(ultra_per_mnth, \n",
    "                       free_per_mnth,\n",
    "                       alternative='greater')\n",
    "alpha = .05\n",
    "print(results.pvalue)\n",
    "if results.pvalue < alpha:\n",
    "    print('Отвергаем нулевую гипотезу')\n",
    "else:\n",
    "    print('Не отвергаем нулевую гипотезу')"
   ]
  },
  {
   "cell_type": "markdown",
   "id": "e7ca7f9a",
   "metadata": {},
   "source": [
    "<div class=\"alert alert-block alert-danger\" style=\"border-radius: 15px; box-shadow: 4px 4px 4px; border: 1px solid \">\n",
    "<h2> Комментарий ревьюера v_1: <a class=\"tocSkip\"></h2>\n",
    "    \n",
    "❌ Нужно добавить вывод, что означает этот результат"
   ]
  },
  {
   "cell_type": "markdown",
   "id": "9ca03312",
   "metadata": {},
   "source": [
    "<div class=\"alert alert-block alert-danger\" style=\"border-radius: 15px; box-shadow: 4px 4px 4px; border: 1px solid \">\n",
    "<h2> Комментарий ревьюера v_2: <a class=\"tocSkip\"></h2>\n",
    "    \n",
    "❌ Здесь добавлен `equal_var=False`, но не аргументировано решение"
   ]
  },
  {
   "cell_type": "markdown",
   "id": "8b157875",
   "metadata": {},
   "source": [
    "<div class=\"alert alert-info\"  style=\"border-radius: 15px; box-shadow: 4px 4px 4px; border: 1px solid \"> \n",
    "Удалил equal_var=False. Вряд ли можно утверждать что дисперсии у двух выборок кардинально отличаются"
   ]
  },
  {
   "cell_type": "markdown",
   "id": "88de6955",
   "metadata": {},
   "source": [
    "<div class=\"alert alert-success\" style=\"border-radius: 15px; box-shadow: 4px 4px 4px; border: 1px solid \">\n",
    "<h2> Комментарий ревьюера v_3: <a class=\"tocSkip\"> </h2>\n",
    "    \n",
    "✅ Принято"
   ]
  },
  {
   "cell_type": "markdown",
   "id": "2f46eeca",
   "metadata": {},
   "source": [
    "Вывод: можно утверждать, что выручка с пользователей на подписке ultra превышает выручку с пользователей без подписки"
   ]
  },
  {
   "cell_type": "markdown",
   "id": "82454771",
   "metadata": {},
   "source": [
    "<h5>Представим такую ситуацию: техническая команда сервиса обновила сервера, с которыми взаимодействует мобильное приложение. Она надеется, что из-за этого количество обращений в техподдержку значимо снизилось. Некоторый файл содержит для каждого пользователя данные о количестве обращений до обновления и после него. Какой тест вам понадобился бы для проверки этой гипотезы?"
   ]
  },
  {
   "cell_type": "markdown",
   "id": "9c1995cd",
   "metadata": {},
   "source": [
    "Сформулируем гипотезу о равенстве средних для зависимых (парных) выборок.\n",
    "\n",
    "Гипотезы будут сформулированы так:\n",
    "<br>H0 : μ1 = μ2\n",
    "<br>H1 : μ1 != μ2\n",
    "<br>где μ1 и μ2 - средние значения количество обращений в техподдержку до и после изменения.\n",
    "\n",
    "Метод, который нужно использовать при сравнении: scipy.stats.ttest_rel()"
   ]
  },
  {
   "cell_type": "markdown",
   "id": "785e80b7",
   "metadata": {},
   "source": [
    "<div class=\"alert alert-warning\" style=\"border-radius: 15px; box-shadow: 4px 4px 4px; border: 1px solid \">\n",
    "<h2> Комментарий ревьюера v_1: <a class=\"tocSkip\"> </h2>\n",
    "    \n",
    "⚠️ Статтест выбран верно. Но в задании написано: \"Она надеется, что из-за этого количество обращений в техподдержку значимо снизилось\". Какая всё-таки должна быть гипотеза, односторонняя или двухсторонняя? Правильно ли альтернативная гипотеза сформулирована - `H1 :μ1 != μ2`?"
   ]
  },
  {
   "cell_type": "markdown",
   "id": "84107f2c",
   "metadata": {},
   "source": [
    "<div class=\"alert alert-block alert-danger\" style=\"border-radius: 15px; box-shadow: 4px 4px 4px; border: 1px solid \">\n",
    "<h2> Комментарий ревьюера v_1: <a class=\"tocSkip\"></h2>\n",
    "    \n",
    "❌ В итоговом выводе необходимо написать, какие данные были рассмотрены, выявлены ли пропуски и дубликаты, какие результаты получены в шагах 3, 4 и 6. Также стоит резюмировать, являются ли пользователи с подпиской более выгодными для сервиса аренды самокатов."
   ]
  },
  {
   "cell_type": "markdown",
   "id": "3cfc9a76",
   "metadata": {},
   "source": [
    "<h2>Выводы</h2>\n",
    "Изначально данные в предоставленных таблицах не содержали пропусков.\n",
    "<br>Значительных выбросов и дубликатов также не обнаружено кроме тех которые были обнаружены в файле ‘users_go.csv’.\n",
    "\n",
    "<h3>В ходе исследовательского анализа данных было выявлено:</h3>\n",
    "\n",
    "* Пользователей без подпискм всего 835, что составляет 54% от общего количества и на 136 больше, чем с подпиской «ultra».\n",
    "* Услугами сервиса аренды самокатов пользуются люди от 12 до 43 лет. Максимальное количество пользователей в возрасте 25 лет, этот же возраст является медианным.\n",
    "* Максимальное количество поездок совершено в Пятигорске. Минимальное количество в поездок совершено в Москве.\n",
    "* Одна поездка по дистанции составляет от 1 до 7211 метров. Медиана всех значений равна 3134 метров. Наблюдаются два пика. Малый пик около 700 метров, большой пик около 3200 метров. Между пиками значения нормально распределены. \n",
    "* Продолжительность поездок составляет от 0 до 41 минуты. Распределение является нормальным. 18 минут это наиболее частая продолжительность поездки. Она является и медианным значением. \n",
    "\n",
    "<h3>В результате группировки данных выявлено:</h3>\n",
    "    \n",
    "* Поездок без подписки на 5068 больше, чем с использованием подписки ‘ultra’, и составляет 11568.\n",
    "Возрастные показатели пользователей с разным типом подписки в целом схожи, за исключением максимального возраста, который на 5 лет больше у пользователей мобильного приложения, не имеющих подписку\n",
    "* У поездок без подписки максимальное расстояние больше примерно на 1500 метров чем при поездках с подпиской ultra. У поездок без подписки минимальное расстояние на 243 метра меньше чем при поездках с подпиской ultra. Можно сделать вывод что при поездках без подписки расстояния более разнообразные.\n",
    "Об этом же свидетельствует и стандартное отклонение, которое без использования подписки больше на 409 метров, чем при использовании подписки ‘ultra’. \n",
    "* Средняя дистанция без использования подписки короче. \n",
    "* Продолжительность поездок при не использовании подписки немного меньше по всем показателям, чем при использовании подписки ‘ultra’. В обоих случаях количество поездок относительно нормально распределено в зависимости от их продолжительности. Пик количества поездок приходится на 17-18 минут. \n",
    "\n",
    "Были рассмотрены сделанные заказчиком гипотезы:\n",
    "\n",
    "* о том что средняя продолжительность поездок с подпиской ‘ultra’ больше чем средняя продолжительность поездок без подписки. Гипотеза подтверждена. Имеет смысл развивать направление подписки и вкладываться в её рекламу. \n",
    "* о том что среднее расстояние, которое проезжают пользователи с подпиской за одну поездку меньше ли равно оптимальному расстоянию износа самоката, а именно 3130 метров. Гипотеза подтверждена. Пользователи с подпиской не проезжают больше расстояния, необходимого для оптимального износа самоката\n",
    "* о том что будет ли помесячная выручка от пользователей с подпиской по месяцам выше, чем выручка от пользователей без подписки. Гипотеза подтверждена. Имеет смысл развивать направление подписки и вкладываться в её рекламу."
   ]
  },
  {
   "cell_type": "markdown",
   "id": "843c888b",
   "metadata": {},
   "source": [
    "<div class=\"alert alert-block alert-danger\" style=\"border-radius: 15px; box-shadow: 4px 4px 4px; border: 1px solid \">\n",
    "<h2> Комментарий ревьюера v_2: <a class=\"tocSkip\"></h2>\n",
    "    \n",
    "❌ После внесения изменений в шаге 6 нужно будет добавить результаты проверок всех трех гипотез"
   ]
  },
  {
   "cell_type": "markdown",
   "id": "4db1a262",
   "metadata": {},
   "source": [
    "<div class=\"alert alert-block alert-danger\" style=\"border-radius: 15px; box-shadow: 4px 4px 4px; border: 1px solid \">\n",
    "<h2> Комментарий ревьюера v_3: <a class=\"tocSkip\"></h2>\n",
    "    \n",
    "❌ \"6.1 Важно понять, тратят ли пользователи с подпиской больше времени на поездки? Если да, то пользователи с подпиской могут быть «выгоднее» для компании. Проверьте гипотезу. Используйте исходные данные о продолжительности каждой сессии — отдельно для подписчиков и тех, у кого нет подписки.\n",
    "    \n",
    "6.2 Расстояние одной поездки в 3130 метров — оптимальное с точки зрения износа самоката. Можно ли сказать, что среднее расстояние, которое проезжают пользователи с подпиской за одну поездку, не превышает 3130 метров? Проверьте гипотезу и сделайте выводы.\n",
    "    \n",
    "6.3 Проверьте гипотезу о том, будет ли помесячная выручка от пользователей с подпиской по месяцам выше, чем выручка от пользователей без подписки. Сделайте вывод.\"\n",
    "    \n",
    "\"Заказчик\" сформулировал гипотезы, как написано выше. Соответственно, лучше ему также прямо и отвечать. В выводах \"заказчику\" будет непонятно, есть основания принимать гипотезу или нет."
   ]
  },
  {
   "cell_type": "markdown",
   "id": "51aaa218",
   "metadata": {},
   "source": [
    "<div style=\"border:solid lightblue 3px; background:#f7faf8; padding: 20px\">\n",
    "<span style=\"color:darkblue\">Общий вывод по проекту v_1:</span>\n",
    "    \n",
    "У тебя хорошая работа! Cоблюдена структура, проделана бóльшая часть проекта, но есть замечания, которые необходимо доработать:\n",
    "* добавить вступление\n",
    "* пп. в 3, 4, 5 и 6 шагах\n",
    "* итоговые выводы\n",
    "   \n",
    "Также добавил рекомендации по улучшению проекта. Жду проект)"
   ]
  },
  {
   "cell_type": "markdown",
   "id": "71c567e5",
   "metadata": {},
   "source": [
    "<div style=\"border:solid lightblue 3px; background:#f7faf8; padding: 20px\">\n",
    "<span style=\"color:darkblue\">Общий вывод по проекту v_2:</span>\n",
    "    \n",
    "Доработать:\n",
    "* пп. в 6 шаге\n",
    "* итоговые выводы\n",
    "   \n",
    "Жду проект)"
   ]
  },
  {
   "cell_type": "markdown",
   "id": "dae9ba9c",
   "metadata": {},
   "source": [
    "<div style=\"border:solid lightblue 3px; background:#f7faf8; padding: 20px\">\n",
    "<span style=\"color:darkblue\">Общий вывод по проекту v_3:</span>\n",
    "    \n",
    "Доработать:\n",
    "* п. в 6 шаге\n",
    "* итоговые выводы\n",
    "   \n",
    "Жду проект)"
   ]
  },
  {
   "cell_type": "markdown",
   "id": "25fca3c2",
   "metadata": {},
   "source": [
    "<div style=\"border:solid lightblue 3px; background:#f7faf8; padding: 20px\">\n",
    "<span style=\"color:darkblue\">Общий вывод по проекту v_4:</span>\n",
    "    \n",
    "Спасибо за доработанные замечания! Проект принят. В дополнение по данной [ссылке](https://allatambov.github.io/psms/pdf/hypo-test.pdf) можно ознакомиться с очень понятной краткой теорией по проверке гипотез.\n",
    "    \n",
    "Успехов в дальнейшем обучении!)"
   ]
  },
  {
   "cell_type": "code",
   "execution_count": null,
   "id": "ea821b6c",
   "metadata": {},
   "outputs": [],
   "source": []
  }
 ],
 "metadata": {
  "ExecuteTimeLog": [
   {
    "duration": 55,
    "start_time": "2024-02-16T11:14:23.532Z"
   },
   {
    "duration": 386,
    "start_time": "2024-02-16T11:14:25.511Z"
   },
   {
    "duration": 290,
    "start_time": "2024-02-16T11:14:27.110Z"
   },
   {
    "duration": 3,
    "start_time": "2024-02-16T11:14:29.192Z"
   },
   {
    "duration": 69,
    "start_time": "2024-02-16T11:14:31.174Z"
   },
   {
    "duration": 740,
    "start_time": "2024-02-16T11:16:55.012Z"
   },
   {
    "duration": 305,
    "start_time": "2024-02-16T12:05:16.132Z"
   },
   {
    "duration": 17,
    "start_time": "2024-02-16T12:08:40.159Z"
   },
   {
    "duration": 362,
    "start_time": "2024-02-16T12:24:51.538Z"
   },
   {
    "duration": 6,
    "start_time": "2024-02-16T12:28:34.731Z"
   },
   {
    "duration": 6,
    "start_time": "2024-02-16T12:29:35.784Z"
   },
   {
    "duration": 14,
    "start_time": "2024-02-16T12:49:00.062Z"
   },
   {
    "duration": 7,
    "start_time": "2024-02-16T13:38:12.799Z"
   },
   {
    "duration": 46,
    "start_time": "2024-02-16T13:41:37.736Z"
   },
   {
    "duration": 22,
    "start_time": "2024-02-16T13:41:40.344Z"
   },
   {
    "duration": 4,
    "start_time": "2024-02-16T13:41:42.307Z"
   },
   {
    "duration": 8,
    "start_time": "2024-02-16T13:41:44.657Z"
   },
   {
    "duration": 7,
    "start_time": "2024-02-16T13:42:24.453Z"
   },
   {
    "duration": 109,
    "start_time": "2024-02-16T13:55:46.472Z"
   },
   {
    "duration": 7,
    "start_time": "2024-02-16T13:55:55.045Z"
   },
   {
    "duration": 7,
    "start_time": "2024-02-16T13:57:11.185Z"
   },
   {
    "duration": 9,
    "start_time": "2024-02-16T14:03:31.521Z"
   },
   {
    "duration": 6,
    "start_time": "2024-02-16T14:03:34.868Z"
   },
   {
    "duration": 10,
    "start_time": "2024-02-16T14:03:46.527Z"
   },
   {
    "duration": 6,
    "start_time": "2024-02-16T14:03:57.425Z"
   },
   {
    "duration": 6,
    "start_time": "2024-02-16T14:05:04.589Z"
   },
   {
    "duration": 14,
    "start_time": "2024-02-16T14:08:00.484Z"
   },
   {
    "duration": 7,
    "start_time": "2024-02-16T14:08:10.452Z"
   },
   {
    "duration": 17,
    "start_time": "2024-02-16T14:10:15.592Z"
   },
   {
    "duration": 5,
    "start_time": "2024-02-16T14:10:18.291Z"
   },
   {
    "duration": 8,
    "start_time": "2024-02-16T14:10:20.528Z"
   },
   {
    "duration": 6,
    "start_time": "2024-02-16T14:10:22.329Z"
   },
   {
    "duration": 80,
    "start_time": "2024-02-16T14:11:46.083Z"
   },
   {
    "duration": 83,
    "start_time": "2024-02-16T14:12:21.840Z"
   },
   {
    "duration": 8,
    "start_time": "2024-02-16T14:14:49.700Z"
   },
   {
    "duration": 9,
    "start_time": "2024-02-16T14:15:19.352Z"
   },
   {
    "duration": 6,
    "start_time": "2024-02-16T14:17:00.245Z"
   },
   {
    "duration": 10,
    "start_time": "2024-02-16T14:17:02.281Z"
   },
   {
    "duration": 11,
    "start_time": "2024-02-16T14:17:04.064Z"
   },
   {
    "duration": 9,
    "start_time": "2024-02-16T14:36:23.650Z"
   },
   {
    "duration": 3,
    "start_time": "2024-02-16T14:36:38.960Z"
   },
   {
    "duration": 3,
    "start_time": "2024-02-16T14:36:42.677Z"
   },
   {
    "duration": 5,
    "start_time": "2024-02-16T14:36:52.292Z"
   },
   {
    "duration": 6,
    "start_time": "2024-02-16T14:48:58.200Z"
   },
   {
    "duration": 7,
    "start_time": "2024-02-16T14:50:35.245Z"
   },
   {
    "duration": 7,
    "start_time": "2024-02-16T14:50:44.684Z"
   },
   {
    "duration": 8,
    "start_time": "2024-02-16T14:50:53.342Z"
   },
   {
    "duration": 7,
    "start_time": "2024-02-16T14:50:58.002Z"
   },
   {
    "duration": 7,
    "start_time": "2024-02-16T14:51:03.557Z"
   },
   {
    "duration": 7,
    "start_time": "2024-02-16T14:51:11.696Z"
   },
   {
    "duration": 10,
    "start_time": "2024-02-16T14:51:43.472Z"
   },
   {
    "duration": 7,
    "start_time": "2024-02-16T14:51:54.412Z"
   },
   {
    "duration": 150,
    "start_time": "2024-02-16T15:23:18.848Z"
   },
   {
    "duration": 258,
    "start_time": "2024-02-16T15:23:43.146Z"
   },
   {
    "duration": 162,
    "start_time": "2024-02-16T15:25:20.692Z"
   },
   {
    "duration": 168,
    "start_time": "2024-02-16T15:25:32.678Z"
   },
   {
    "duration": 8,
    "start_time": "2024-02-16T15:26:34.757Z"
   },
   {
    "duration": 9,
    "start_time": "2024-02-16T15:38:36.822Z"
   },
   {
    "duration": 3,
    "start_time": "2024-02-16T15:39:56.915Z"
   },
   {
    "duration": 259,
    "start_time": "2024-02-16T15:40:01.908Z"
   },
   {
    "duration": 206,
    "start_time": "2024-02-16T15:40:59.716Z"
   },
   {
    "duration": 1284,
    "start_time": "2024-02-16T15:41:56.038Z"
   },
   {
    "duration": 1499,
    "start_time": "2024-02-16T15:41:58.526Z"
   },
   {
    "duration": 1336,
    "start_time": "2024-02-16T15:42:22.195Z"
   },
   {
    "duration": 1365,
    "start_time": "2024-02-16T15:43:29.912Z"
   },
   {
    "duration": 138,
    "start_time": "2024-02-16T15:47:10.761Z"
   },
   {
    "duration": 8,
    "start_time": "2024-02-16T15:48:22.696Z"
   },
   {
    "duration": 7,
    "start_time": "2024-02-16T15:48:34.444Z"
   },
   {
    "duration": 15,
    "start_time": "2024-02-16T15:49:17.247Z"
   },
   {
    "duration": 10,
    "start_time": "2024-02-16T15:49:19.611Z"
   },
   {
    "duration": 10,
    "start_time": "2024-02-16T15:49:36.333Z"
   },
   {
    "duration": 10,
    "start_time": "2024-02-16T15:50:03.198Z"
   },
   {
    "duration": 9,
    "start_time": "2024-02-16T15:50:06.070Z"
   },
   {
    "duration": 5,
    "start_time": "2024-02-16T15:50:14.019Z"
   },
   {
    "duration": 1330,
    "start_time": "2024-02-16T15:50:39.381Z"
   },
   {
    "duration": 1400,
    "start_time": "2024-02-16T15:51:59.613Z"
   },
   {
    "duration": 6,
    "start_time": "2024-02-16T15:52:23.895Z"
   },
   {
    "duration": 8,
    "start_time": "2024-02-16T15:52:40.981Z"
   },
   {
    "duration": 197,
    "start_time": "2024-02-16T15:53:40.199Z"
   },
   {
    "duration": 257,
    "start_time": "2024-02-16T15:53:50.362Z"
   },
   {
    "duration": 7,
    "start_time": "2024-02-16T15:54:11.806Z"
   },
   {
    "duration": 7,
    "start_time": "2024-02-16T15:54:34.970Z"
   },
   {
    "duration": 6,
    "start_time": "2024-02-16T15:54:39.611Z"
   },
   {
    "duration": 8,
    "start_time": "2024-02-16T15:54:41.536Z"
   },
   {
    "duration": 192,
    "start_time": "2024-02-16T15:54:43.754Z"
   },
   {
    "duration": 193,
    "start_time": "2024-02-16T15:57:17.230Z"
   },
   {
    "duration": 7,
    "start_time": "2024-02-16T15:57:22.051Z"
   },
   {
    "duration": 8,
    "start_time": "2024-02-16T15:57:24.087Z"
   },
   {
    "duration": 204,
    "start_time": "2024-02-16T15:57:26.542Z"
   },
   {
    "duration": 1393,
    "start_time": "2024-02-16T15:58:00.903Z"
   },
   {
    "duration": 190,
    "start_time": "2024-02-16T15:58:12.435Z"
   },
   {
    "duration": 209,
    "start_time": "2024-02-16T15:58:17.926Z"
   },
   {
    "duration": 8,
    "start_time": "2024-02-16T15:58:30.813Z"
   },
   {
    "duration": 9,
    "start_time": "2024-02-16T15:58:47.976Z"
   },
   {
    "duration": 3,
    "start_time": "2024-02-16T15:59:01.111Z"
   },
   {
    "duration": 9,
    "start_time": "2024-02-16T15:59:06.219Z"
   },
   {
    "duration": 8,
    "start_time": "2024-02-16T15:59:13.604Z"
   },
   {
    "duration": 189,
    "start_time": "2024-02-16T16:00:08.255Z"
   },
   {
    "duration": 95,
    "start_time": "2024-02-16T16:04:38.835Z"
   },
   {
    "duration": 232,
    "start_time": "2024-02-16T16:05:28.234Z"
   },
   {
    "duration": 255,
    "start_time": "2024-02-16T16:05:35.666Z"
   },
   {
    "duration": 144,
    "start_time": "2024-02-16T16:05:45.883Z"
   },
   {
    "duration": 7,
    "start_time": "2024-02-16T16:05:55.746Z"
   },
   {
    "duration": 9,
    "start_time": "2024-02-16T16:06:05.711Z"
   },
   {
    "duration": 6,
    "start_time": "2024-02-16T16:06:08.397Z"
   },
   {
    "duration": 6,
    "start_time": "2024-02-16T16:06:10.950Z"
   },
   {
    "duration": 7,
    "start_time": "2024-02-16T16:06:13.023Z"
   },
   {
    "duration": 9,
    "start_time": "2024-02-16T16:06:20.013Z"
   },
   {
    "duration": 4,
    "start_time": "2024-02-16T16:06:35.147Z"
   },
   {
    "duration": 5,
    "start_time": "2024-02-16T16:06:39.322Z"
   },
   {
    "duration": 4,
    "start_time": "2024-02-16T16:06:47.211Z"
   },
   {
    "duration": 5,
    "start_time": "2024-02-16T16:06:56.923Z"
   },
   {
    "duration": 4,
    "start_time": "2024-02-16T16:07:00.342Z"
   },
   {
    "duration": 3,
    "start_time": "2024-02-16T16:07:11.774Z"
   },
   {
    "duration": 8,
    "start_time": "2024-02-16T16:07:17.705Z"
   },
   {
    "duration": 8,
    "start_time": "2024-02-16T16:07:21.476Z"
   },
   {
    "duration": 8,
    "start_time": "2024-02-16T16:07:24.594Z"
   },
   {
    "duration": 8,
    "start_time": "2024-02-16T16:07:27.768Z"
   },
   {
    "duration": 5,
    "start_time": "2024-02-16T16:07:36.483Z"
   },
   {
    "duration": 4,
    "start_time": "2024-02-16T16:07:53.870Z"
   },
   {
    "duration": 8,
    "start_time": "2024-02-16T16:08:04.223Z"
   },
   {
    "duration": 6,
    "start_time": "2024-02-16T16:08:10.015Z"
   },
   {
    "duration": 4,
    "start_time": "2024-02-16T16:08:25.346Z"
   },
   {
    "duration": 9,
    "start_time": "2024-02-16T16:08:44.399Z"
   },
   {
    "duration": 114,
    "start_time": "2024-02-16T16:09:01.840Z"
   },
   {
    "duration": 129,
    "start_time": "2024-02-16T16:09:09.713Z"
   },
   {
    "duration": 193,
    "start_time": "2024-02-16T16:09:27.210Z"
   },
   {
    "duration": 201,
    "start_time": "2024-02-16T16:09:32.239Z"
   },
   {
    "duration": 7,
    "start_time": "2024-02-16T16:09:50.954Z"
   },
   {
    "duration": 211,
    "start_time": "2024-02-16T16:09:57.149Z"
   },
   {
    "duration": 7,
    "start_time": "2024-02-16T16:10:15.889Z"
   },
   {
    "duration": 6,
    "start_time": "2024-02-16T16:10:28.003Z"
   },
   {
    "duration": 199,
    "start_time": "2024-02-16T16:13:16.114Z"
   },
   {
    "duration": 11,
    "start_time": "2024-02-16T16:13:55.023Z"
   },
   {
    "duration": 11,
    "start_time": "2024-02-16T16:15:06.985Z"
   },
   {
    "duration": 12,
    "start_time": "2024-02-16T16:15:49.201Z"
   },
   {
    "duration": 128,
    "start_time": "2024-02-16T16:16:09.070Z"
   },
   {
    "duration": 8,
    "start_time": "2024-02-16T16:16:38.643Z"
   },
   {
    "duration": 131,
    "start_time": "2024-02-16T16:16:41.761Z"
   },
   {
    "duration": 1406,
    "start_time": "2024-02-16T16:17:26.412Z"
   },
   {
    "duration": 11,
    "start_time": "2024-02-16T16:17:43.264Z"
   },
   {
    "duration": 7,
    "start_time": "2024-02-16T16:17:53.280Z"
   },
   {
    "duration": 126,
    "start_time": "2024-02-16T16:18:03.129Z"
   },
   {
    "duration": 7,
    "start_time": "2024-02-16T16:18:15.220Z"
   },
   {
    "duration": 6,
    "start_time": "2024-02-16T16:18:19.180Z"
   },
   {
    "duration": 97,
    "start_time": "2024-02-16T16:21:54.036Z"
   },
   {
    "duration": 176,
    "start_time": "2024-02-16T16:22:12.641Z"
   },
   {
    "duration": 11,
    "start_time": "2024-02-16T16:23:39.149Z"
   },
   {
    "duration": 154,
    "start_time": "2024-02-16T16:27:20.554Z"
   },
   {
    "duration": 99,
    "start_time": "2024-02-16T16:27:36.341Z"
   },
   {
    "duration": 83,
    "start_time": "2024-02-16T16:27:40.698Z"
   },
   {
    "duration": 8,
    "start_time": "2024-02-16T16:27:49.121Z"
   },
   {
    "duration": 79,
    "start_time": "2024-02-16T16:27:55.708Z"
   },
   {
    "duration": 87,
    "start_time": "2024-02-16T16:28:02.359Z"
   },
   {
    "duration": 213,
    "start_time": "2024-02-16T16:28:54.158Z"
   },
   {
    "duration": 232,
    "start_time": "2024-02-16T16:29:02.333Z"
   },
   {
    "duration": 104,
    "start_time": "2024-02-16T16:29:45.153Z"
   },
   {
    "duration": 7,
    "start_time": "2024-02-16T16:29:54.922Z"
   },
   {
    "duration": 100,
    "start_time": "2024-02-16T16:30:09.905Z"
   },
   {
    "duration": 8,
    "start_time": "2024-02-16T16:31:15.685Z"
   },
   {
    "duration": 99,
    "start_time": "2024-02-16T16:32:15.725Z"
   },
   {
    "duration": 3,
    "start_time": "2024-02-16T16:32:32.448Z"
   },
   {
    "duration": 4,
    "start_time": "2024-02-16T16:32:38.539Z"
   },
   {
    "duration": 8,
    "start_time": "2024-02-16T16:33:41.449Z"
   },
   {
    "duration": 9,
    "start_time": "2024-02-16T16:33:51.174Z"
   },
   {
    "duration": 7,
    "start_time": "2024-02-16T16:34:30.733Z"
   },
   {
    "duration": 8,
    "start_time": "2024-02-16T16:34:32.818Z"
   },
   {
    "duration": 9,
    "start_time": "2024-02-16T16:34:34.918Z"
   },
   {
    "duration": 9,
    "start_time": "2024-02-16T16:34:45.429Z"
   },
   {
    "duration": 5,
    "start_time": "2024-02-16T16:35:23.113Z"
   },
   {
    "duration": 3,
    "start_time": "2024-02-16T16:39:09.650Z"
   },
   {
    "duration": 5,
    "start_time": "2024-02-16T16:39:18.573Z"
   },
   {
    "duration": 9,
    "start_time": "2024-02-16T16:39:46.928Z"
   },
   {
    "duration": 8,
    "start_time": "2024-02-16T16:39:50.150Z"
   },
   {
    "duration": 6,
    "start_time": "2024-02-16T16:40:15.567Z"
   },
   {
    "duration": 5,
    "start_time": "2024-02-16T16:40:25.224Z"
   },
   {
    "duration": 9,
    "start_time": "2024-02-16T16:42:03.494Z"
   },
   {
    "duration": 24,
    "start_time": "2024-02-16T16:42:14.382Z"
   },
   {
    "duration": 25,
    "start_time": "2024-02-16T16:42:19.419Z"
   },
   {
    "duration": 24,
    "start_time": "2024-02-16T16:42:54.254Z"
   },
   {
    "duration": 25,
    "start_time": "2024-02-16T16:43:46.927Z"
   },
   {
    "duration": 25,
    "start_time": "2024-02-16T16:44:00.684Z"
   },
   {
    "duration": 26,
    "start_time": "2024-02-16T16:47:24.639Z"
   },
   {
    "duration": 6,
    "start_time": "2024-02-16T16:47:34.497Z"
   },
   {
    "duration": 11,
    "start_time": "2024-02-16T16:48:05.362Z"
   },
   {
    "duration": 10,
    "start_time": "2024-02-16T16:48:13.645Z"
   },
   {
    "duration": 5,
    "start_time": "2024-02-16T16:48:17.120Z"
   },
   {
    "duration": 95,
    "start_time": "2024-02-16T16:48:40.885Z"
   },
   {
    "duration": 210,
    "start_time": "2024-02-16T16:49:35.114Z"
   },
   {
    "duration": 7,
    "start_time": "2024-02-16T16:51:39.876Z"
   },
   {
    "duration": 7,
    "start_time": "2024-02-16T16:52:16.113Z"
   },
   {
    "duration": 11,
    "start_time": "2024-02-16T17:00:22.290Z"
   },
   {
    "duration": 5,
    "start_time": "2024-02-16T17:00:56.070Z"
   },
   {
    "duration": 9,
    "start_time": "2024-02-16T17:01:18.358Z"
   },
   {
    "duration": 5,
    "start_time": "2024-02-16T17:01:40.196Z"
   },
   {
    "duration": 5,
    "start_time": "2024-02-16T17:02:05.987Z"
   },
   {
    "duration": 6,
    "start_time": "2024-02-16T17:02:35.450Z"
   },
   {
    "duration": 7,
    "start_time": "2024-02-16T17:02:37.316Z"
   },
   {
    "duration": 5,
    "start_time": "2024-02-16T17:02:41.743Z"
   },
   {
    "duration": 4,
    "start_time": "2024-02-16T17:02:43.889Z"
   },
   {
    "duration": 5,
    "start_time": "2024-02-16T17:02:52.992Z"
   },
   {
    "duration": 5,
    "start_time": "2024-02-16T17:03:01.085Z"
   },
   {
    "duration": 4,
    "start_time": "2024-02-16T17:03:21.012Z"
   },
   {
    "duration": 5,
    "start_time": "2024-02-16T17:03:58.537Z"
   },
   {
    "duration": 98,
    "start_time": "2024-02-16T17:04:55.985Z"
   },
   {
    "duration": 194,
    "start_time": "2024-02-16T17:05:09.415Z"
   },
   {
    "duration": 4,
    "start_time": "2024-02-16T17:06:31.207Z"
   },
   {
    "duration": 7,
    "start_time": "2024-02-16T17:06:45.799Z"
   },
   {
    "duration": 8,
    "start_time": "2024-02-16T17:07:08.163Z"
   },
   {
    "duration": 6,
    "start_time": "2024-02-16T17:07:10.187Z"
   },
   {
    "duration": 8,
    "start_time": "2024-02-16T17:07:49.309Z"
   },
   {
    "duration": 7,
    "start_time": "2024-02-16T17:07:59.733Z"
   },
   {
    "duration": 5,
    "start_time": "2024-02-16T17:08:08.950Z"
   },
   {
    "duration": 5,
    "start_time": "2024-02-16T17:08:24.794Z"
   },
   {
    "duration": 7,
    "start_time": "2024-02-16T17:08:32.128Z"
   },
   {
    "duration": 5,
    "start_time": "2024-02-16T17:08:54.111Z"
   },
   {
    "duration": 5,
    "start_time": "2024-02-16T17:09:04.453Z"
   },
   {
    "duration": 104,
    "start_time": "2024-02-16T17:09:26.850Z"
   },
   {
    "duration": 3,
    "start_time": "2024-02-16T17:09:38.626Z"
   },
   {
    "duration": 3,
    "start_time": "2024-02-16T17:09:40.543Z"
   },
   {
    "duration": 6,
    "start_time": "2024-02-16T17:09:47.730Z"
   },
   {
    "duration": 4,
    "start_time": "2024-02-16T17:10:11.550Z"
   },
   {
    "duration": 5,
    "start_time": "2024-02-16T17:10:40.421Z"
   },
   {
    "duration": 5,
    "start_time": "2024-02-16T17:10:59.194Z"
   },
   {
    "duration": 5,
    "start_time": "2024-02-16T17:11:01.480Z"
   },
   {
    "duration": 4,
    "start_time": "2024-02-16T17:11:05.712Z"
   },
   {
    "duration": 9,
    "start_time": "2024-02-16T17:15:25.083Z"
   },
   {
    "duration": 26,
    "start_time": "2024-02-16T17:15:34.107Z"
   },
   {
    "duration": 5,
    "start_time": "2024-02-16T17:15:45.763Z"
   },
   {
    "duration": 7,
    "start_time": "2024-02-16T17:15:47.564Z"
   },
   {
    "duration": 9,
    "start_time": "2024-02-16T17:15:50.503Z"
   },
   {
    "duration": 9,
    "start_time": "2024-02-16T17:15:56.458Z"
   },
   {
    "duration": 10,
    "start_time": "2024-02-16T17:20:07.541Z"
   },
   {
    "duration": 7,
    "start_time": "2024-02-16T17:20:18.420Z"
   },
   {
    "duration": 8,
    "start_time": "2024-02-16T17:21:37.031Z"
   },
   {
    "duration": 8,
    "start_time": "2024-02-16T17:21:45.154Z"
   },
   {
    "duration": 4,
    "start_time": "2024-02-16T17:22:27.854Z"
   },
   {
    "duration": 5,
    "start_time": "2024-02-16T17:22:32.007Z"
   },
   {
    "duration": 4,
    "start_time": "2024-02-16T17:22:42.734Z"
   },
   {
    "duration": 5,
    "start_time": "2024-02-16T17:22:45.604Z"
   },
   {
    "duration": 3,
    "start_time": "2024-02-16T17:22:50.237Z"
   },
   {
    "duration": 5,
    "start_time": "2024-02-16T17:22:54.253Z"
   },
   {
    "duration": 8,
    "start_time": "2024-02-16T17:25:51.293Z"
   },
   {
    "duration": 230,
    "start_time": "2024-02-16T17:31:53.650Z"
   },
   {
    "duration": 221,
    "start_time": "2024-02-16T17:33:12.034Z"
   },
   {
    "duration": 4,
    "start_time": "2024-02-16T17:33:31.540Z"
   },
   {
    "duration": 67,
    "start_time": "2024-02-16T17:34:20.849Z"
   },
   {
    "duration": 307,
    "start_time": "2024-02-16T17:34:23.832Z"
   },
   {
    "duration": 14,
    "start_time": "2024-02-16T17:34:27.516Z"
   },
   {
    "duration": 13,
    "start_time": "2024-02-16T17:34:30.457Z"
   },
   {
    "duration": 5,
    "start_time": "2024-02-16T17:34:33.079Z"
   },
   {
    "duration": 6,
    "start_time": "2024-02-16T17:34:35.541Z"
   },
   {
    "duration": 6,
    "start_time": "2024-02-16T17:34:37.767Z"
   },
   {
    "duration": 5,
    "start_time": "2024-02-16T17:34:39.850Z"
   },
   {
    "duration": 6,
    "start_time": "2024-02-16T17:34:42.097Z"
   },
   {
    "duration": 8,
    "start_time": "2024-02-16T17:34:43.926Z"
   },
   {
    "duration": 8,
    "start_time": "2024-02-16T17:34:45.479Z"
   },
   {
    "duration": 5,
    "start_time": "2024-02-16T17:34:48.276Z"
   },
   {
    "duration": 4,
    "start_time": "2024-02-16T17:35:02.860Z"
   },
   {
    "duration": 4,
    "start_time": "2024-02-16T17:35:05.431Z"
   },
   {
    "duration": 1464,
    "start_time": "2024-02-16T17:35:24.179Z"
   },
   {
    "duration": 1289,
    "start_time": "2024-02-16T17:35:47.113Z"
   },
   {
    "duration": 8,
    "start_time": "2024-02-16T17:35:56.116Z"
   },
   {
    "duration": 199,
    "start_time": "2024-02-16T17:35:58.486Z"
   },
   {
    "duration": 3,
    "start_time": "2024-02-16T17:36:15.735Z"
   },
   {
    "duration": 63,
    "start_time": "2024-02-16T17:36:17.395Z"
   },
   {
    "duration": 417,
    "start_time": "2024-02-16T17:36:20.983Z"
   },
   {
    "duration": 14,
    "start_time": "2024-02-16T17:36:25.649Z"
   },
   {
    "duration": 12,
    "start_time": "2024-02-16T17:36:28.930Z"
   },
   {
    "duration": 5,
    "start_time": "2024-02-16T17:36:30.920Z"
   },
   {
    "duration": 8,
    "start_time": "2024-02-16T17:36:33.160Z"
   },
   {
    "duration": 7,
    "start_time": "2024-02-16T17:36:35.203Z"
   },
   {
    "duration": 6,
    "start_time": "2024-02-16T17:36:37.256Z"
   },
   {
    "duration": 7,
    "start_time": "2024-02-16T17:36:39.149Z"
   },
   {
    "duration": 8,
    "start_time": "2024-02-16T17:36:41.411Z"
   },
   {
    "duration": 9,
    "start_time": "2024-02-16T17:36:42.974Z"
   },
   {
    "duration": 6,
    "start_time": "2024-02-16T17:36:46.199Z"
   },
   {
    "duration": 8,
    "start_time": "2024-02-16T17:36:48.949Z"
   },
   {
    "duration": 231,
    "start_time": "2024-02-16T17:36:51.113Z"
   },
   {
    "duration": 7,
    "start_time": "2024-02-16T17:37:04.365Z"
   },
   {
    "duration": 3,
    "start_time": "2024-02-16T17:37:36.632Z"
   },
   {
    "duration": 64,
    "start_time": "2024-02-16T17:37:38.811Z"
   },
   {
    "duration": 252,
    "start_time": "2024-02-16T17:37:41.568Z"
   },
   {
    "duration": 308,
    "start_time": "2024-02-16T17:37:44.337Z"
   },
   {
    "duration": 15,
    "start_time": "2024-02-16T17:37:46.944Z"
   },
   {
    "duration": 12,
    "start_time": "2024-02-16T17:37:49.644Z"
   },
   {
    "duration": 5,
    "start_time": "2024-02-16T17:37:50.804Z"
   },
   {
    "duration": 6,
    "start_time": "2024-02-16T17:37:51.962Z"
   },
   {
    "duration": 7,
    "start_time": "2024-02-16T17:37:53.815Z"
   },
   {
    "duration": 6,
    "start_time": "2024-02-16T17:37:55.481Z"
   },
   {
    "duration": 7,
    "start_time": "2024-02-16T17:37:56.850Z"
   },
   {
    "duration": 9,
    "start_time": "2024-02-16T17:37:58.132Z"
   },
   {
    "duration": 9,
    "start_time": "2024-02-16T17:37:59.605Z"
   },
   {
    "duration": 5,
    "start_time": "2024-02-16T17:38:02.513Z"
   },
   {
    "duration": 7,
    "start_time": "2024-02-16T17:38:04.075Z"
   },
   {
    "duration": 7,
    "start_time": "2024-02-16T17:38:05.697Z"
   },
   {
    "duration": 7,
    "start_time": "2024-02-16T17:38:13.424Z"
   },
   {
    "duration": 8,
    "start_time": "2024-02-16T17:39:37.114Z"
   },
   {
    "duration": 11,
    "start_time": "2024-02-16T17:40:12.947Z"
   },
   {
    "duration": 11,
    "start_time": "2024-02-16T17:40:25.168Z"
   },
   {
    "duration": 7,
    "start_time": "2024-02-16T17:40:46.926Z"
   },
   {
    "duration": 12,
    "start_time": "2024-02-16T17:40:49.072Z"
   },
   {
    "duration": 123,
    "start_time": "2024-02-16T17:43:09.802Z"
   },
   {
    "duration": 131,
    "start_time": "2024-02-16T17:43:31.018Z"
   },
   {
    "duration": 8,
    "start_time": "2024-02-16T17:43:54.958Z"
   },
   {
    "duration": 140,
    "start_time": "2024-02-16T17:44:00.042Z"
   },
   {
    "duration": 5,
    "start_time": "2024-02-16T17:45:42.368Z"
   },
   {
    "duration": 5,
    "start_time": "2024-02-16T17:45:50.837Z"
   },
   {
    "duration": 18,
    "start_time": "2024-02-16T17:45:57.313Z"
   },
   {
    "duration": 6,
    "start_time": "2024-02-16T17:47:57.343Z"
   },
   {
    "duration": 8,
    "start_time": "2024-02-16T17:48:00.090Z"
   },
   {
    "duration": 134,
    "start_time": "2024-02-16T17:48:02.244Z"
   },
   {
    "duration": 5,
    "start_time": "2024-02-16T17:51:32.329Z"
   },
   {
    "duration": 6,
    "start_time": "2024-02-16T17:52:17.217Z"
   },
   {
    "duration": 9,
    "start_time": "2024-02-16T17:54:18.743Z"
   },
   {
    "duration": 10,
    "start_time": "2024-02-16T17:55:22.127Z"
   },
   {
    "duration": 12,
    "start_time": "2024-02-16T17:55:43.839Z"
   },
   {
    "duration": 12,
    "start_time": "2024-02-16T17:55:51.526Z"
   },
   {
    "duration": 7,
    "start_time": "2024-02-16T17:55:58.362Z"
   },
   {
    "duration": 7,
    "start_time": "2024-02-16T17:56:08.999Z"
   },
   {
    "duration": 12,
    "start_time": "2024-02-16T17:56:32.270Z"
   },
   {
    "duration": 12,
    "start_time": "2024-02-16T17:56:34.361Z"
   },
   {
    "duration": 14,
    "start_time": "2024-02-16T17:56:43.765Z"
   },
   {
    "duration": 7,
    "start_time": "2024-02-16T17:57:32.158Z"
   },
   {
    "duration": 7,
    "start_time": "2024-02-16T17:57:36.732Z"
   },
   {
    "duration": 7,
    "start_time": "2024-02-16T17:57:43.632Z"
   },
   {
    "duration": 7,
    "start_time": "2024-02-16T17:57:45.758Z"
   },
   {
    "duration": 6,
    "start_time": "2024-02-16T17:57:56.320Z"
   },
   {
    "duration": 7,
    "start_time": "2024-02-16T17:57:57.987Z"
   },
   {
    "duration": 6,
    "start_time": "2024-02-16T17:58:01.793Z"
   },
   {
    "duration": 8,
    "start_time": "2024-02-16T17:58:06.728Z"
   },
   {
    "duration": 8,
    "start_time": "2024-02-16T17:58:12.230Z"
   },
   {
    "duration": 4,
    "start_time": "2024-02-16T17:58:27.569Z"
   },
   {
    "duration": 7,
    "start_time": "2024-02-16T17:58:35.373Z"
   },
   {
    "duration": 5,
    "start_time": "2024-02-16T17:58:38.747Z"
   },
   {
    "duration": 8,
    "start_time": "2024-02-16T17:59:27.027Z"
   },
   {
    "duration": 4,
    "start_time": "2024-02-16T17:59:31.047Z"
   },
   {
    "duration": 8,
    "start_time": "2024-02-16T17:59:38.151Z"
   },
   {
    "duration": 11,
    "start_time": "2024-02-16T18:00:48.320Z"
   },
   {
    "duration": 11,
    "start_time": "2024-02-16T18:00:50.993Z"
   },
   {
    "duration": 5,
    "start_time": "2024-02-16T18:00:53.179Z"
   },
   {
    "duration": 7,
    "start_time": "2024-02-16T18:00:59.657Z"
   },
   {
    "duration": 13,
    "start_time": "2024-02-16T18:01:14.007Z"
   },
   {
    "duration": 199,
    "start_time": "2024-02-16T18:01:21.488Z"
   },
   {
    "duration": 9,
    "start_time": "2024-02-16T18:03:23.950Z"
   },
   {
    "duration": 31,
    "start_time": "2024-02-16T18:03:26.160Z"
   },
   {
    "duration": 23,
    "start_time": "2024-02-16T18:03:29.414Z"
   },
   {
    "duration": 5,
    "start_time": "2024-02-16T18:04:58.298Z"
   },
   {
    "duration": 13,
    "start_time": "2024-02-16T18:05:00.765Z"
   },
   {
    "duration": 24,
    "start_time": "2024-02-16T18:05:26.623Z"
   },
   {
    "duration": 28,
    "start_time": "2024-02-16T18:05:28.635Z"
   },
   {
    "duration": 27,
    "start_time": "2024-02-16T18:05:36.992Z"
   },
   {
    "duration": 23,
    "start_time": "2024-02-16T18:05:40.300Z"
   },
   {
    "duration": 8,
    "start_time": "2024-02-16T18:05:45.268Z"
   },
   {
    "duration": 8,
    "start_time": "2024-02-16T18:05:47.086Z"
   },
   {
    "duration": 13,
    "start_time": "2024-02-16T18:07:55.972Z"
   },
   {
    "duration": 10,
    "start_time": "2024-02-16T18:08:33.612Z"
   },
   {
    "duration": 7,
    "start_time": "2024-02-16T18:08:39.947Z"
   },
   {
    "duration": 12,
    "start_time": "2024-02-16T18:10:07.725Z"
   },
   {
    "duration": 10,
    "start_time": "2024-02-16T18:10:10.620Z"
   },
   {
    "duration": 5,
    "start_time": "2024-02-16T18:10:13.285Z"
   },
   {
    "duration": 9,
    "start_time": "2024-02-16T18:10:33.483Z"
   },
   {
    "duration": 7,
    "start_time": "2024-02-16T18:10:39.669Z"
   },
   {
    "duration": 8,
    "start_time": "2024-02-16T18:10:49.727Z"
   },
   {
    "duration": 5,
    "start_time": "2024-02-16T18:10:51.901Z"
   },
   {
    "duration": 7,
    "start_time": "2024-02-16T18:10:53.887Z"
   },
   {
    "duration": 15,
    "start_time": "2024-02-16T18:11:21.387Z"
   },
   {
    "duration": 6,
    "start_time": "2024-02-16T18:11:23.285Z"
   },
   {
    "duration": 7,
    "start_time": "2024-02-16T18:11:25.006Z"
   },
   {
    "duration": 5,
    "start_time": "2024-02-16T18:11:38.593Z"
   },
   {
    "duration": 7,
    "start_time": "2024-02-16T18:11:59.201Z"
   },
   {
    "duration": 8,
    "start_time": "2024-02-16T18:12:07.330Z"
   },
   {
    "duration": 140,
    "start_time": "2024-02-16T18:12:13.420Z"
   },
   {
    "duration": 4,
    "start_time": "2024-02-16T18:12:44.847Z"
   },
   {
    "duration": 11,
    "start_time": "2024-02-16T18:12:46.693Z"
   },
   {
    "duration": 141,
    "start_time": "2024-02-16T18:12:49.652Z"
   },
   {
    "duration": 9,
    "start_time": "2024-02-16T18:23:36.555Z"
   },
   {
    "duration": 5,
    "start_time": "2024-02-16T18:38:54.362Z"
   },
   {
    "duration": 8,
    "start_time": "2024-02-16T18:39:06.079Z"
   },
   {
    "duration": 262,
    "start_time": "2024-02-16T18:43:56.900Z"
   },
   {
    "duration": 148,
    "start_time": "2024-02-16T18:44:37.165Z"
   },
   {
    "duration": 8,
    "start_time": "2024-02-16T18:45:53.304Z"
   },
   {
    "duration": 85,
    "start_time": "2024-02-16T18:47:02.916Z"
   },
   {
    "duration": 9,
    "start_time": "2024-02-16T18:48:05.816Z"
   },
   {
    "duration": 112,
    "start_time": "2024-02-16T18:48:17.783Z"
   },
   {
    "duration": 6,
    "start_time": "2024-02-16T18:52:20.709Z"
   },
   {
    "duration": 127,
    "start_time": "2024-02-16T18:52:23.067Z"
   },
   {
    "duration": 99,
    "start_time": "2024-02-16T18:52:25.331Z"
   },
   {
    "duration": 1632,
    "start_time": "2024-02-16T19:04:21.962Z"
   },
   {
    "duration": 1624,
    "start_time": "2024-02-16T19:04:57.418Z"
   },
   {
    "duration": 1649,
    "start_time": "2024-02-16T19:05:13.482Z"
   },
   {
    "duration": 1642,
    "start_time": "2024-02-16T19:05:26.306Z"
   },
   {
    "duration": 1606,
    "start_time": "2024-02-16T19:06:20.715Z"
   },
   {
    "duration": 6,
    "start_time": "2024-02-16T19:06:27.685Z"
   },
   {
    "duration": 8,
    "start_time": "2024-02-16T19:07:48.861Z"
   },
   {
    "duration": 1698,
    "start_time": "2024-02-16T19:07:51.481Z"
   },
   {
    "duration": 10,
    "start_time": "2024-02-16T19:08:28.285Z"
   },
   {
    "duration": 9,
    "start_time": "2024-02-16T19:08:31.061Z"
   },
   {
    "duration": 10,
    "start_time": "2024-02-16T19:08:37.384Z"
   },
   {
    "duration": 10,
    "start_time": "2024-02-16T19:08:48.229Z"
   },
   {
    "duration": 5,
    "start_time": "2024-02-16T19:08:59.782Z"
   },
   {
    "duration": 6,
    "start_time": "2024-02-16T19:09:02.080Z"
   },
   {
    "duration": 5,
    "start_time": "2024-02-16T19:09:18.117Z"
   },
   {
    "duration": 5,
    "start_time": "2024-02-16T19:09:30.641Z"
   },
   {
    "duration": 6,
    "start_time": "2024-02-16T19:09:36.340Z"
   },
   {
    "duration": 6,
    "start_time": "2024-02-16T19:09:53.240Z"
   },
   {
    "duration": 107,
    "start_time": "2024-02-16T19:10:40.030Z"
   },
   {
    "duration": 129,
    "start_time": "2024-02-16T19:10:49.717Z"
   },
   {
    "duration": 93,
    "start_time": "2024-02-16T19:11:02.078Z"
   },
   {
    "duration": 103,
    "start_time": "2024-02-16T19:11:06.542Z"
   },
   {
    "duration": 16,
    "start_time": "2024-02-16T19:15:30.868Z"
   },
   {
    "duration": 14,
    "start_time": "2024-02-16T19:15:38.404Z"
   },
   {
    "duration": 13,
    "start_time": "2024-02-16T19:15:51.236Z"
   },
   {
    "duration": 13,
    "start_time": "2024-02-16T19:15:53.775Z"
   },
   {
    "duration": 23,
    "start_time": "2024-02-16T19:16:13.743Z"
   },
   {
    "duration": 13,
    "start_time": "2024-02-16T19:16:24.957Z"
   },
   {
    "duration": 102,
    "start_time": "2024-02-16T19:16:41.081Z"
   },
   {
    "duration": 94,
    "start_time": "2024-02-16T22:22:08.636Z"
   },
   {
    "duration": 7,
    "start_time": "2024-02-16T22:31:53.618Z"
   },
   {
    "duration": 7,
    "start_time": "2024-02-16T22:32:07.273Z"
   },
   {
    "duration": 6,
    "start_time": "2024-02-16T22:33:56.903Z"
   },
   {
    "duration": 5,
    "start_time": "2024-02-16T22:34:04.638Z"
   },
   {
    "duration": 11,
    "start_time": "2024-02-16T22:51:11.374Z"
   },
   {
    "duration": 109,
    "start_time": "2024-02-16T22:51:36.208Z"
   },
   {
    "duration": 122,
    "start_time": "2024-02-16T22:52:32.341Z"
   },
   {
    "duration": 106,
    "start_time": "2024-02-16T22:54:41.217Z"
   },
   {
    "duration": 107,
    "start_time": "2024-02-16T22:55:06.230Z"
   },
   {
    "duration": 121,
    "start_time": "2024-02-16T22:55:18.076Z"
   },
   {
    "duration": 125,
    "start_time": "2024-02-16T22:55:23.370Z"
   },
   {
    "duration": 2,
    "start_time": "2024-02-16T22:57:41.456Z"
   },
   {
    "duration": 134,
    "start_time": "2024-02-16T22:57:49.253Z"
   },
   {
    "duration": 103,
    "start_time": "2024-02-16T22:57:55.539Z"
   },
   {
    "duration": 595,
    "start_time": "2024-02-16T22:59:15.885Z"
   },
   {
    "duration": 107,
    "start_time": "2024-02-16T22:59:23.044Z"
   },
   {
    "duration": 139,
    "start_time": "2024-02-16T23:01:20.038Z"
   },
   {
    "duration": 121,
    "start_time": "2024-02-16T23:01:39.345Z"
   },
   {
    "duration": 107,
    "start_time": "2024-02-16T23:01:44.356Z"
   },
   {
    "duration": 128,
    "start_time": "2024-02-16T23:02:09.394Z"
   },
   {
    "duration": 80,
    "start_time": "2024-02-16T23:02:21.226Z"
   },
   {
    "duration": 105,
    "start_time": "2024-02-16T23:02:23.600Z"
   },
   {
    "duration": 109,
    "start_time": "2024-02-16T23:02:32.681Z"
   },
   {
    "duration": 118,
    "start_time": "2024-02-16T23:02:45.442Z"
   },
   {
    "duration": 109,
    "start_time": "2024-02-16T23:02:55.497Z"
   },
   {
    "duration": 109,
    "start_time": "2024-02-16T23:02:55.832Z"
   },
   {
    "duration": 39,
    "start_time": "2024-02-16T23:04:31.827Z"
   },
   {
    "duration": 4,
    "start_time": "2024-02-16T23:04:52.085Z"
   },
   {
    "duration": 323,
    "start_time": "2024-02-16T23:04:55.483Z"
   },
   {
    "duration": 157,
    "start_time": "2024-02-16T23:08:55.570Z"
   },
   {
    "duration": 167,
    "start_time": "2024-02-16T23:09:00.938Z"
   },
   {
    "duration": 9,
    "start_time": "2024-02-16T23:09:28.255Z"
   },
   {
    "duration": 5,
    "start_time": "2024-02-16T23:13:35.739Z"
   },
   {
    "duration": 9,
    "start_time": "2024-02-16T23:13:39.986Z"
   },
   {
    "duration": 158,
    "start_time": "2024-02-16T23:14:43.652Z"
   },
   {
    "duration": 9,
    "start_time": "2024-02-16T23:14:51.007Z"
   },
   {
    "duration": 165,
    "start_time": "2024-02-16T23:14:58.266Z"
   },
   {
    "duration": 162,
    "start_time": "2024-02-16T23:15:23.413Z"
   },
   {
    "duration": 193,
    "start_time": "2024-02-16T23:16:51.764Z"
   },
   {
    "duration": 165,
    "start_time": "2024-02-16T23:17:17.617Z"
   },
   {
    "duration": 118,
    "start_time": "2024-02-16T23:17:57.274Z"
   },
   {
    "duration": 303,
    "start_time": "2024-02-16T23:18:12.251Z"
   },
   {
    "duration": 177,
    "start_time": "2024-02-16T23:19:23.021Z"
   },
   {
    "duration": 186,
    "start_time": "2024-02-16T23:19:36.063Z"
   },
   {
    "duration": 196,
    "start_time": "2024-02-16T23:21:51.353Z"
   },
   {
    "duration": 189,
    "start_time": "2024-02-16T23:22:03.722Z"
   },
   {
    "duration": 200,
    "start_time": "2024-02-16T23:22:30.974Z"
   },
   {
    "duration": 235,
    "start_time": "2024-02-16T23:43:56.246Z"
   },
   {
    "duration": 203,
    "start_time": "2024-02-16T23:53:45.908Z"
   },
   {
    "duration": 44,
    "start_time": "2024-02-17T13:07:15.135Z"
   },
   {
    "duration": 5,
    "start_time": "2024-02-17T13:07:34.165Z"
   },
   {
    "duration": 1329,
    "start_time": "2024-02-17T13:07:46.908Z"
   },
   {
    "duration": 186,
    "start_time": "2024-02-17T13:07:48.896Z"
   },
   {
    "duration": 63,
    "start_time": "2024-02-17T13:07:52.336Z"
   },
   {
    "duration": 262,
    "start_time": "2024-02-17T13:07:54.459Z"
   },
   {
    "duration": 14,
    "start_time": "2024-02-17T13:08:00.021Z"
   },
   {
    "duration": 12,
    "start_time": "2024-02-17T13:08:06.750Z"
   },
   {
    "duration": 6,
    "start_time": "2024-02-17T13:08:08.767Z"
   },
   {
    "duration": 6,
    "start_time": "2024-02-17T13:08:10.571Z"
   },
   {
    "duration": 6,
    "start_time": "2024-02-17T13:08:14.449Z"
   },
   {
    "duration": 5,
    "start_time": "2024-02-17T13:08:18.669Z"
   },
   {
    "duration": 6,
    "start_time": "2024-02-17T13:08:22.389Z"
   },
   {
    "duration": 8,
    "start_time": "2024-02-17T13:08:26.188Z"
   },
   {
    "duration": 8,
    "start_time": "2024-02-17T13:08:30.512Z"
   },
   {
    "duration": 4,
    "start_time": "2024-02-17T13:08:33.568Z"
   },
   {
    "duration": 9,
    "start_time": "2024-02-17T13:08:35.208Z"
   },
   {
    "duration": 124,
    "start_time": "2024-02-17T13:08:37.875Z"
   },
   {
    "duration": 13,
    "start_time": "2024-02-17T13:08:40.517Z"
   },
   {
    "duration": 168,
    "start_time": "2024-02-17T13:08:49.934Z"
   },
   {
    "duration": 202,
    "start_time": "2024-02-17T13:08:54.535Z"
   },
   {
    "duration": 178,
    "start_time": "2024-02-17T13:08:57.321Z"
   },
   {
    "duration": 16,
    "start_time": "2024-02-17T13:09:05.048Z"
   },
   {
    "duration": 15,
    "start_time": "2024-02-17T13:09:07.384Z"
   },
   {
    "duration": 12,
    "start_time": "2024-02-17T13:09:29.658Z"
   },
   {
    "duration": 7,
    "start_time": "2024-02-17T13:14:03.646Z"
   },
   {
    "duration": 7,
    "start_time": "2024-02-17T13:14:05.950Z"
   },
   {
    "duration": 6,
    "start_time": "2024-02-17T13:14:26.824Z"
   },
   {
    "duration": 22,
    "start_time": "2024-02-17T13:52:12.021Z"
   },
   {
    "duration": 18,
    "start_time": "2024-02-17T13:52:55.571Z"
   },
   {
    "duration": 63,
    "start_time": "2024-02-17T14:01:57.983Z"
   },
   {
    "duration": 191,
    "start_time": "2024-02-17T14:03:03.693Z"
   },
   {
    "duration": 162,
    "start_time": "2024-02-17T14:05:20.478Z"
   },
   {
    "duration": 97,
    "start_time": "2024-02-17T14:42:02.129Z"
   },
   {
    "duration": 165,
    "start_time": "2024-02-17T14:42:45.245Z"
   },
   {
    "duration": 237,
    "start_time": "2024-02-17T14:45:20.517Z"
   },
   {
    "duration": 180,
    "start_time": "2024-02-17T15:07:23.992Z"
   },
   {
    "duration": 74,
    "start_time": "2024-02-17T15:07:41.970Z"
   },
   {
    "duration": 13,
    "start_time": "2024-02-17T15:11:24.560Z"
   },
   {
    "duration": 85,
    "start_time": "2024-02-17T15:12:25.143Z"
   },
   {
    "duration": 3,
    "start_time": "2024-02-17T15:13:02.572Z"
   },
   {
    "duration": 11,
    "start_time": "2024-02-17T15:15:06.547Z"
   },
   {
    "duration": 14,
    "start_time": "2024-02-17T15:15:23.280Z"
   },
   {
    "duration": 3,
    "start_time": "2024-02-17T15:18:55.226Z"
   },
   {
    "duration": 5,
    "start_time": "2024-02-17T15:31:03.334Z"
   },
   {
    "duration": 4,
    "start_time": "2024-02-17T15:31:46.881Z"
   },
   {
    "duration": 135,
    "start_time": "2024-02-17T15:31:48.935Z"
   },
   {
    "duration": 8,
    "start_time": "2024-02-17T15:32:01.766Z"
   },
   {
    "duration": 8,
    "start_time": "2024-02-17T15:45:16.068Z"
   },
   {
    "duration": 6,
    "start_time": "2024-02-17T15:45:53.738Z"
   },
   {
    "duration": 101,
    "start_time": "2024-02-17T15:54:13.727Z"
   },
   {
    "duration": 4,
    "start_time": "2024-02-17T15:54:54.105Z"
   },
   {
    "duration": 5,
    "start_time": "2024-02-17T15:55:18.609Z"
   },
   {
    "duration": 24,
    "start_time": "2024-02-17T16:13:37.088Z"
   },
   {
    "duration": 1232,
    "start_time": "2024-02-17T16:15:38.409Z"
   },
   {
    "duration": 5,
    "start_time": "2024-02-17T16:16:50.896Z"
   },
   {
    "duration": 10,
    "start_time": "2024-02-17T16:17:43.239Z"
   },
   {
    "duration": 9,
    "start_time": "2024-02-17T16:18:17.189Z"
   },
   {
    "duration": 9,
    "start_time": "2024-02-17T16:18:39.896Z"
   },
   {
    "duration": 8,
    "start_time": "2024-02-17T16:18:41.875Z"
   },
   {
    "duration": 7,
    "start_time": "2024-02-17T16:26:03.904Z"
   },
   {
    "duration": 4,
    "start_time": "2024-02-17T16:26:08.887Z"
   },
   {
    "duration": 67,
    "start_time": "2024-02-17T16:26:14.370Z"
   },
   {
    "duration": 331,
    "start_time": "2024-02-17T16:26:20.948Z"
   },
   {
    "duration": 15,
    "start_time": "2024-02-17T16:26:24.575Z"
   },
   {
    "duration": 14,
    "start_time": "2024-02-17T16:26:30.462Z"
   },
   {
    "duration": 6,
    "start_time": "2024-02-17T16:26:32.830Z"
   },
   {
    "duration": 10,
    "start_time": "2024-02-17T16:26:34.727Z"
   },
   {
    "duration": 9,
    "start_time": "2024-02-17T16:26:38.249Z"
   },
   {
    "duration": 7,
    "start_time": "2024-02-17T16:26:40.449Z"
   },
   {
    "duration": 7,
    "start_time": "2024-02-17T16:26:43.484Z"
   },
   {
    "duration": 9,
    "start_time": "2024-02-17T16:26:45.683Z"
   },
   {
    "duration": 8,
    "start_time": "2024-02-17T16:26:47.814Z"
   },
   {
    "duration": 4,
    "start_time": "2024-02-17T16:26:50.625Z"
   },
   {
    "duration": 9,
    "start_time": "2024-02-17T16:26:52.953Z"
   },
   {
    "duration": 124,
    "start_time": "2024-02-17T16:26:55.593Z"
   },
   {
    "duration": 14,
    "start_time": "2024-02-17T16:26:59.194Z"
   },
   {
    "duration": 97,
    "start_time": "2024-02-17T16:27:02.005Z"
   },
   {
    "duration": 177,
    "start_time": "2024-02-17T16:27:07.386Z"
   },
   {
    "duration": 366,
    "start_time": "2024-02-17T16:27:16.288Z"
   },
   {
    "duration": 234,
    "start_time": "2024-02-17T16:27:21.746Z"
   },
   {
    "duration": 21,
    "start_time": "2024-02-17T16:27:27.933Z"
   },
   {
    "duration": 14,
    "start_time": "2024-02-17T16:27:30.625Z"
   },
   {
    "duration": 9,
    "start_time": "2024-02-17T16:27:33.345Z"
   },
   {
    "duration": 192,
    "start_time": "2024-02-17T16:27:37.705Z"
   },
   {
    "duration": 176,
    "start_time": "2024-02-17T16:27:41.251Z"
   },
   {
    "duration": 197,
    "start_time": "2024-02-17T16:27:44.191Z"
   },
   {
    "duration": 165,
    "start_time": "2024-02-17T16:27:46.774Z"
   },
   {
    "duration": 107,
    "start_time": "2024-02-17T16:27:50.231Z"
   },
   {
    "duration": 3,
    "start_time": "2024-02-17T16:27:53.186Z"
   },
   {
    "duration": 3,
    "start_time": "2024-02-17T16:27:55.771Z"
   },
   {
    "duration": 156,
    "start_time": "2024-02-17T16:27:58.205Z"
   },
   {
    "duration": 8,
    "start_time": "2024-02-17T16:28:03.145Z"
   },
   {
    "duration": 5,
    "start_time": "2024-02-17T16:28:06.790Z"
   },
   {
    "duration": 4,
    "start_time": "2024-02-17T16:28:12.002Z"
   },
   {
    "duration": 9,
    "start_time": "2024-02-17T16:28:16.926Z"
   },
   {
    "duration": 1179,
    "start_time": "2024-02-17T16:32:13.832Z"
   },
   {
    "duration": 181,
    "start_time": "2024-02-17T16:32:15.014Z"
   },
   {
    "duration": 247,
    "start_time": "2024-02-17T16:32:15.197Z"
   },
   {
    "duration": 305,
    "start_time": "2024-02-17T16:32:15.446Z"
   },
   {
    "duration": 12,
    "start_time": "2024-02-17T16:32:15.752Z"
   },
   {
    "duration": 30,
    "start_time": "2024-02-17T16:32:15.765Z"
   },
   {
    "duration": 35,
    "start_time": "2024-02-17T16:32:15.796Z"
   },
   {
    "duration": 17,
    "start_time": "2024-02-17T16:32:15.833Z"
   },
   {
    "duration": 19,
    "start_time": "2024-02-17T16:32:15.851Z"
   },
   {
    "duration": 11,
    "start_time": "2024-02-17T16:32:15.872Z"
   },
   {
    "duration": 26,
    "start_time": "2024-02-17T16:32:15.884Z"
   },
   {
    "duration": 40,
    "start_time": "2024-02-17T16:32:15.911Z"
   },
   {
    "duration": 13,
    "start_time": "2024-02-17T16:32:15.953Z"
   },
   {
    "duration": 37,
    "start_time": "2024-02-17T16:32:15.967Z"
   },
   {
    "duration": 43,
    "start_time": "2024-02-17T16:32:16.005Z"
   },
   {
    "duration": 122,
    "start_time": "2024-02-17T16:32:16.049Z"
   },
   {
    "duration": 11,
    "start_time": "2024-02-17T16:32:16.172Z"
   },
   {
    "duration": 87,
    "start_time": "2024-02-17T16:32:16.185Z"
   },
   {
    "duration": 143,
    "start_time": "2024-02-17T16:32:16.274Z"
   },
   {
    "duration": 186,
    "start_time": "2024-02-17T16:32:16.419Z"
   },
   {
    "duration": 196,
    "start_time": "2024-02-17T16:32:16.607Z"
   },
   {
    "duration": 16,
    "start_time": "2024-02-17T16:32:16.805Z"
   },
   {
    "duration": 11,
    "start_time": "2024-02-17T16:32:16.823Z"
   },
   {
    "duration": 10,
    "start_time": "2024-02-17T16:32:16.835Z"
   },
   {
    "duration": 21,
    "start_time": "2024-02-17T16:32:16.846Z"
   },
   {
    "duration": 80,
    "start_time": "2024-02-17T16:32:16.868Z"
   },
   {
    "duration": 154,
    "start_time": "2024-02-17T16:32:16.949Z"
   },
   {
    "duration": 144,
    "start_time": "2024-02-17T16:32:17.106Z"
   },
   {
    "duration": 153,
    "start_time": "2024-02-17T16:32:17.251Z"
   },
   {
    "duration": 135,
    "start_time": "2024-02-17T16:32:17.405Z"
   },
   {
    "duration": 81,
    "start_time": "2024-02-17T16:32:17.542Z"
   },
   {
    "duration": 3,
    "start_time": "2024-02-17T16:32:17.624Z"
   },
   {
    "duration": 14,
    "start_time": "2024-02-17T16:32:17.628Z"
   },
   {
    "duration": 2,
    "start_time": "2024-02-17T16:32:17.643Z"
   },
   {
    "duration": 137,
    "start_time": "2024-02-17T16:32:17.646Z"
   },
   {
    "duration": 4,
    "start_time": "2024-02-17T16:32:17.785Z"
   },
   {
    "duration": 24,
    "start_time": "2024-02-17T16:32:17.790Z"
   },
   {
    "duration": 6,
    "start_time": "2024-02-17T16:32:17.815Z"
   },
   {
    "duration": 10,
    "start_time": "2024-02-17T16:32:17.822Z"
   },
   {
    "duration": 101,
    "start_time": "2024-02-17T16:43:45.540Z"
   },
   {
    "duration": 8,
    "start_time": "2024-02-17T16:43:52.725Z"
   },
   {
    "duration": 1053,
    "start_time": "2024-02-17T16:47:36.071Z"
   },
   {
    "duration": 64,
    "start_time": "2024-02-17T16:47:37.126Z"
   },
   {
    "duration": 241,
    "start_time": "2024-02-17T16:47:37.191Z"
   },
   {
    "duration": 275,
    "start_time": "2024-02-17T16:47:37.434Z"
   },
   {
    "duration": 12,
    "start_time": "2024-02-17T16:47:37.710Z"
   },
   {
    "duration": 9,
    "start_time": "2024-02-17T16:47:37.723Z"
   },
   {
    "duration": 10,
    "start_time": "2024-02-17T16:47:37.734Z"
   },
   {
    "duration": 9,
    "start_time": "2024-02-17T16:47:37.745Z"
   },
   {
    "duration": 7,
    "start_time": "2024-02-17T16:47:37.755Z"
   },
   {
    "duration": 6,
    "start_time": "2024-02-17T16:47:37.763Z"
   },
   {
    "duration": 6,
    "start_time": "2024-02-17T16:47:37.770Z"
   },
   {
    "duration": 8,
    "start_time": "2024-02-17T16:47:37.777Z"
   },
   {
    "duration": 6,
    "start_time": "2024-02-17T16:47:37.801Z"
   },
   {
    "duration": 4,
    "start_time": "2024-02-17T16:47:37.809Z"
   },
   {
    "duration": 11,
    "start_time": "2024-02-17T16:47:37.814Z"
   },
   {
    "duration": 109,
    "start_time": "2024-02-17T16:47:37.826Z"
   },
   {
    "duration": 11,
    "start_time": "2024-02-17T16:47:37.937Z"
   },
   {
    "duration": 79,
    "start_time": "2024-02-17T16:47:37.950Z"
   },
   {
    "duration": 142,
    "start_time": "2024-02-17T16:47:38.031Z"
   },
   {
    "duration": 184,
    "start_time": "2024-02-17T16:47:38.174Z"
   },
   {
    "duration": 178,
    "start_time": "2024-02-17T16:47:38.360Z"
   },
   {
    "duration": 16,
    "start_time": "2024-02-17T16:47:38.539Z"
   },
   {
    "duration": 9,
    "start_time": "2024-02-17T16:47:38.556Z"
   },
   {
    "duration": 6,
    "start_time": "2024-02-17T16:47:38.566Z"
   },
   {
    "duration": 33,
    "start_time": "2024-02-17T16:47:38.573Z"
   },
   {
    "duration": 67,
    "start_time": "2024-02-17T16:47:38.607Z"
   },
   {
    "duration": 154,
    "start_time": "2024-02-17T16:47:38.675Z"
   },
   {
    "duration": 144,
    "start_time": "2024-02-17T16:47:38.830Z"
   },
   {
    "duration": 147,
    "start_time": "2024-02-17T16:47:38.975Z"
   },
   {
    "duration": 144,
    "start_time": "2024-02-17T16:47:39.124Z"
   },
   {
    "duration": 87,
    "start_time": "2024-02-17T16:47:39.270Z"
   },
   {
    "duration": 2,
    "start_time": "2024-02-17T16:47:39.359Z"
   },
   {
    "duration": 14,
    "start_time": "2024-02-17T16:47:39.363Z"
   },
   {
    "duration": 3,
    "start_time": "2024-02-17T16:47:39.378Z"
   },
   {
    "duration": 134,
    "start_time": "2024-02-17T16:47:39.382Z"
   },
   {
    "duration": 5,
    "start_time": "2024-02-17T16:47:39.517Z"
   },
   {
    "duration": 5,
    "start_time": "2024-02-17T16:47:39.524Z"
   },
   {
    "duration": 4,
    "start_time": "2024-02-17T16:47:39.530Z"
   },
   {
    "duration": 7,
    "start_time": "2024-02-17T16:47:39.535Z"
   },
   {
    "duration": 1009,
    "start_time": "2024-02-17T16:48:38.632Z"
   },
   {
    "duration": 66,
    "start_time": "2024-02-17T16:48:39.642Z"
   },
   {
    "duration": 233,
    "start_time": "2024-02-17T16:48:39.709Z"
   },
   {
    "duration": 278,
    "start_time": "2024-02-17T16:48:39.944Z"
   },
   {
    "duration": 12,
    "start_time": "2024-02-17T16:48:40.224Z"
   },
   {
    "duration": 45,
    "start_time": "2024-02-17T16:48:40.237Z"
   },
   {
    "duration": 34,
    "start_time": "2024-02-17T16:48:40.283Z"
   },
   {
    "duration": 18,
    "start_time": "2024-02-17T16:48:40.318Z"
   },
   {
    "duration": 16,
    "start_time": "2024-02-17T16:48:40.337Z"
   },
   {
    "duration": 23,
    "start_time": "2024-02-17T16:48:40.354Z"
   },
   {
    "duration": 13,
    "start_time": "2024-02-17T16:48:40.379Z"
   },
   {
    "duration": 12,
    "start_time": "2024-02-17T16:48:40.393Z"
   },
   {
    "duration": 11,
    "start_time": "2024-02-17T16:48:40.406Z"
   },
   {
    "duration": 4,
    "start_time": "2024-02-17T16:48:40.419Z"
   },
   {
    "duration": 29,
    "start_time": "2024-02-17T16:48:40.424Z"
   },
   {
    "duration": 110,
    "start_time": "2024-02-17T16:48:40.454Z"
   },
   {
    "duration": 12,
    "start_time": "2024-02-17T16:48:40.565Z"
   },
   {
    "duration": 83,
    "start_time": "2024-02-17T16:48:40.578Z"
   },
   {
    "duration": 158,
    "start_time": "2024-02-17T16:48:40.662Z"
   },
   {
    "duration": 187,
    "start_time": "2024-02-17T16:48:40.822Z"
   },
   {
    "duration": 166,
    "start_time": "2024-02-17T16:48:41.010Z"
   },
   {
    "duration": 25,
    "start_time": "2024-02-17T16:48:41.177Z"
   },
   {
    "duration": 11,
    "start_time": "2024-02-17T16:48:41.203Z"
   },
   {
    "duration": 19,
    "start_time": "2024-02-17T16:48:41.215Z"
   },
   {
    "duration": 28,
    "start_time": "2024-02-17T16:48:41.236Z"
   },
   {
    "duration": 23,
    "start_time": "2024-02-17T16:48:41.265Z"
   },
   {
    "duration": 226,
    "start_time": "2024-02-17T16:48:41.289Z"
   },
   {
    "duration": 147,
    "start_time": "2024-02-17T16:48:41.516Z"
   },
   {
    "duration": 145,
    "start_time": "2024-02-17T16:48:41.664Z"
   },
   {
    "duration": 142,
    "start_time": "2024-02-17T16:48:41.811Z"
   },
   {
    "duration": 82,
    "start_time": "2024-02-17T16:48:41.954Z"
   },
   {
    "duration": 3,
    "start_time": "2024-02-17T16:48:42.037Z"
   },
   {
    "duration": 15,
    "start_time": "2024-02-17T16:48:42.041Z"
   },
   {
    "duration": 8,
    "start_time": "2024-02-17T16:48:42.057Z"
   },
   {
    "duration": 128,
    "start_time": "2024-02-17T16:48:42.067Z"
   },
   {
    "duration": 7,
    "start_time": "2024-02-17T16:48:42.197Z"
   },
   {
    "duration": 9,
    "start_time": "2024-02-17T16:48:42.205Z"
   },
   {
    "duration": 11,
    "start_time": "2024-02-17T16:48:42.215Z"
   },
   {
    "duration": 11,
    "start_time": "2024-02-17T16:48:42.227Z"
   },
   {
    "duration": 108,
    "start_time": "2024-02-17T17:53:19.538Z"
   },
   {
    "duration": 57,
    "start_time": "2024-02-17T18:25:24.498Z"
   },
   {
    "duration": 1284,
    "start_time": "2024-02-17T18:25:37.933Z"
   },
   {
    "duration": 290,
    "start_time": "2024-02-17T18:25:40.151Z"
   },
   {
    "duration": 290,
    "start_time": "2024-02-17T18:25:41.680Z"
   },
   {
    "duration": 317,
    "start_time": "2024-02-17T18:25:44.628Z"
   },
   {
    "duration": 15,
    "start_time": "2024-02-17T18:25:47.428Z"
   },
   {
    "duration": 13,
    "start_time": "2024-02-17T18:25:50.348Z"
   },
   {
    "duration": 5,
    "start_time": "2024-02-17T18:25:52.546Z"
   },
   {
    "duration": 6,
    "start_time": "2024-02-17T18:25:54.513Z"
   },
   {
    "duration": 5,
    "start_time": "2024-02-17T18:25:56.587Z"
   },
   {
    "duration": 5,
    "start_time": "2024-02-17T18:25:58.975Z"
   },
   {
    "duration": 6,
    "start_time": "2024-02-17T18:26:00.911Z"
   },
   {
    "duration": 9,
    "start_time": "2024-02-17T18:26:03.203Z"
   },
   {
    "duration": 8,
    "start_time": "2024-02-17T18:26:05.360Z"
   },
   {
    "duration": 5,
    "start_time": "2024-02-17T18:26:08.247Z"
   },
   {
    "duration": 9,
    "start_time": "2024-02-17T18:26:09.885Z"
   },
   {
    "duration": 215,
    "start_time": "2024-02-17T18:26:12.552Z"
   },
   {
    "duration": 129,
    "start_time": "2024-02-17T18:26:32.696Z"
   },
   {
    "duration": 130,
    "start_time": "2024-02-17T18:27:32.023Z"
   },
   {
    "duration": 141,
    "start_time": "2024-02-17T18:27:54.759Z"
   },
   {
    "duration": 14,
    "start_time": "2024-02-17T18:31:19.201Z"
   },
   {
    "duration": 17,
    "start_time": "2024-02-17T18:31:35.898Z"
   },
   {
    "duration": 12,
    "start_time": "2024-02-17T18:31:37.807Z"
   },
   {
    "duration": 5,
    "start_time": "2024-02-17T18:31:40.346Z"
   },
   {
    "duration": 7,
    "start_time": "2024-02-17T18:32:42.114Z"
   },
   {
    "duration": 125,
    "start_time": "2024-02-17T18:35:45.245Z"
   },
   {
    "duration": 8,
    "start_time": "2024-02-17T18:38:11.379Z"
   },
   {
    "duration": 6,
    "start_time": "2024-02-17T18:38:17.561Z"
   },
   {
    "duration": 169,
    "start_time": "2024-02-17T18:38:50.802Z"
   },
   {
    "duration": 4,
    "start_time": "2024-02-17T19:03:36.693Z"
   },
   {
    "duration": 4,
    "start_time": "2024-02-17T19:04:05.781Z"
   },
   {
    "duration": 84,
    "start_time": "2024-02-17T19:04:07.526Z"
   },
   {
    "duration": 4,
    "start_time": "2024-02-17T19:04:10.006Z"
   },
   {
    "duration": 15,
    "start_time": "2024-02-17T19:04:40.408Z"
   },
   {
    "duration": 151,
    "start_time": "2024-02-17T19:04:44.658Z"
   },
   {
    "duration": 3,
    "start_time": "2024-02-17T19:04:47.031Z"
   },
   {
    "duration": 6,
    "start_time": "2024-02-17T19:08:07.126Z"
   },
   {
    "duration": 4,
    "start_time": "2024-02-17T19:08:47.472Z"
   },
   {
    "duration": 4,
    "start_time": "2024-02-17T19:09:27.948Z"
   },
   {
    "duration": 4,
    "start_time": "2024-02-17T19:10:34.805Z"
   },
   {
    "duration": 5,
    "start_time": "2024-02-17T19:12:32.317Z"
   },
   {
    "duration": 1648,
    "start_time": "2024-02-17T19:14:36.710Z"
   },
   {
    "duration": 4,
    "start_time": "2024-02-17T19:14:58.323Z"
   },
   {
    "duration": 1617,
    "start_time": "2024-02-17T19:15:02.584Z"
   },
   {
    "duration": 8,
    "start_time": "2024-02-17T19:15:45.221Z"
   },
   {
    "duration": 3,
    "start_time": "2024-02-17T19:15:55.281Z"
   },
   {
    "duration": 134,
    "start_time": "2024-02-17T19:15:57.724Z"
   },
   {
    "duration": 4,
    "start_time": "2024-02-17T19:16:02.976Z"
   },
   {
    "duration": 5,
    "start_time": "2024-02-17T19:16:06.283Z"
   },
   {
    "duration": 8,
    "start_time": "2024-02-17T19:16:09.810Z"
   },
   {
    "duration": 5,
    "start_time": "2024-02-17T21:04:56.048Z"
   },
   {
    "duration": 65,
    "start_time": "2024-02-17T21:04:58.221Z"
   },
   {
    "duration": 324,
    "start_time": "2024-02-17T21:05:10.153Z"
   },
   {
    "duration": 14,
    "start_time": "2024-02-17T21:05:13.233Z"
   },
   {
    "duration": 11,
    "start_time": "2024-02-17T21:05:16.967Z"
   },
   {
    "duration": 5,
    "start_time": "2024-02-17T21:05:18.941Z"
   },
   {
    "duration": 6,
    "start_time": "2024-02-17T21:05:22.235Z"
   },
   {
    "duration": 7,
    "start_time": "2024-02-17T21:05:24.552Z"
   },
   {
    "duration": 6,
    "start_time": "2024-02-17T21:05:26.782Z"
   },
   {
    "duration": 8,
    "start_time": "2024-02-17T21:05:29.007Z"
   },
   {
    "duration": 8,
    "start_time": "2024-02-17T21:05:31.151Z"
   },
   {
    "duration": 8,
    "start_time": "2024-02-17T21:05:33.428Z"
   },
   {
    "duration": 4,
    "start_time": "2024-02-17T21:05:38.765Z"
   },
   {
    "duration": 8,
    "start_time": "2024-02-17T21:05:41.149Z"
   },
   {
    "duration": 137,
    "start_time": "2024-02-17T21:05:49.775Z"
   },
   {
    "duration": 14,
    "start_time": "2024-02-17T21:05:55.076Z"
   },
   {
    "duration": 76,
    "start_time": "2024-02-17T21:05:57.251Z"
   },
   {
    "duration": 165,
    "start_time": "2024-02-17T21:05:59.991Z"
   },
   {
    "duration": 218,
    "start_time": "2024-02-17T21:06:04.066Z"
   },
   {
    "duration": 199,
    "start_time": "2024-02-17T21:06:07.645Z"
   },
   {
    "duration": 16,
    "start_time": "2024-02-17T21:06:12.692Z"
   },
   {
    "duration": 12,
    "start_time": "2024-02-17T21:06:15.089Z"
   },
   {
    "duration": 6,
    "start_time": "2024-02-17T21:06:17.665Z"
   },
   {
    "duration": 7,
    "start_time": "2024-02-17T21:06:20.748Z"
   },
   {
    "duration": 181,
    "start_time": "2024-02-17T21:06:24.374Z"
   },
   {
    "duration": 233,
    "start_time": "2024-02-17T21:06:27.813Z"
   },
   {
    "duration": 169,
    "start_time": "2024-02-17T21:06:30.545Z"
   },
   {
    "duration": 160,
    "start_time": "2024-02-17T21:06:33.031Z"
   },
   {
    "duration": 3,
    "start_time": "2024-02-17T21:06:38.479Z"
   },
   {
    "duration": 83,
    "start_time": "2024-02-17T21:06:40.281Z"
   },
   {
    "duration": 2,
    "start_time": "2024-02-17T21:06:42.271Z"
   },
   {
    "duration": 4,
    "start_time": "2024-02-17T21:06:44.743Z"
   },
   {
    "duration": 134,
    "start_time": "2024-02-17T21:06:47.658Z"
   },
   {
    "duration": 6,
    "start_time": "2024-02-17T21:06:49.807Z"
   },
   {
    "duration": 5,
    "start_time": "2024-02-17T21:06:54.803Z"
   },
   {
    "duration": 4,
    "start_time": "2024-02-17T21:06:59.101Z"
   },
   {
    "duration": 8,
    "start_time": "2024-02-17T21:07:10.399Z"
   },
   {
    "duration": 1341,
    "start_time": "2024-02-17T23:01:35.549Z"
   },
   {
    "duration": 197,
    "start_time": "2024-02-17T23:01:36.892Z"
   },
   {
    "duration": 283,
    "start_time": "2024-02-17T23:01:37.093Z"
   },
   {
    "duration": 323,
    "start_time": "2024-02-17T23:01:37.378Z"
   },
   {
    "duration": 15,
    "start_time": "2024-02-17T23:01:37.703Z"
   },
   {
    "duration": 16,
    "start_time": "2024-02-17T23:01:37.719Z"
   },
   {
    "duration": 7,
    "start_time": "2024-02-17T23:01:37.737Z"
   },
   {
    "duration": 21,
    "start_time": "2024-02-17T23:01:37.745Z"
   },
   {
    "duration": 17,
    "start_time": "2024-02-17T23:01:37.769Z"
   },
   {
    "duration": 9,
    "start_time": "2024-02-17T23:01:37.788Z"
   },
   {
    "duration": 18,
    "start_time": "2024-02-17T23:01:37.799Z"
   },
   {
    "duration": 10,
    "start_time": "2024-02-17T23:01:37.818Z"
   },
   {
    "duration": 14,
    "start_time": "2024-02-17T23:01:37.830Z"
   },
   {
    "duration": 22,
    "start_time": "2024-02-17T23:01:37.846Z"
   },
   {
    "duration": 26,
    "start_time": "2024-02-17T23:01:37.869Z"
   },
   {
    "duration": 143,
    "start_time": "2024-02-17T23:01:37.896Z"
   },
   {
    "duration": 13,
    "start_time": "2024-02-17T23:01:38.041Z"
   },
   {
    "duration": 107,
    "start_time": "2024-02-17T23:01:38.055Z"
   },
   {
    "duration": 164,
    "start_time": "2024-02-17T23:01:38.164Z"
   },
   {
    "duration": 229,
    "start_time": "2024-02-17T23:01:38.330Z"
   },
   {
    "duration": 271,
    "start_time": "2024-02-17T23:01:38.565Z"
   },
   {
    "duration": 15,
    "start_time": "2024-02-17T23:01:38.837Z"
   },
   {
    "duration": 14,
    "start_time": "2024-02-17T23:01:38.866Z"
   },
   {
    "duration": 22,
    "start_time": "2024-02-17T23:01:38.881Z"
   },
   {
    "duration": 30,
    "start_time": "2024-02-17T23:01:38.904Z"
   },
   {
    "duration": 29,
    "start_time": "2024-02-17T23:01:38.936Z"
   },
   {
    "duration": 24,
    "start_time": "2024-02-17T23:01:38.970Z"
   },
   {
    "duration": 197,
    "start_time": "2024-02-17T23:01:38.995Z"
   },
   {
    "duration": 180,
    "start_time": "2024-02-17T23:01:39.194Z"
   },
   {
    "duration": 177,
    "start_time": "2024-02-17T23:01:39.375Z"
   },
   {
    "duration": 167,
    "start_time": "2024-02-17T23:01:39.553Z"
   },
   {
    "duration": 3,
    "start_time": "2024-02-17T23:01:39.722Z"
   },
   {
    "duration": 95,
    "start_time": "2024-02-17T23:01:39.726Z"
   },
   {
    "duration": 3,
    "start_time": "2024-02-17T23:01:39.823Z"
   },
   {
    "duration": 29,
    "start_time": "2024-02-17T23:01:39.827Z"
   },
   {
    "duration": 3,
    "start_time": "2024-02-17T23:01:39.857Z"
   },
   {
    "duration": 141,
    "start_time": "2024-02-17T23:01:39.862Z"
   },
   {
    "duration": 6,
    "start_time": "2024-02-17T23:01:40.004Z"
   },
   {
    "duration": 25,
    "start_time": "2024-02-17T23:01:40.011Z"
   },
   {
    "duration": 21,
    "start_time": "2024-02-17T23:01:40.037Z"
   },
   {
    "duration": 14,
    "start_time": "2024-02-17T23:01:40.059Z"
   },
   {
    "duration": 8,
    "start_time": "2024-02-17T23:03:07.504Z"
   },
   {
    "duration": 1090,
    "start_time": "2024-02-17T23:10:37.193Z"
   },
   {
    "duration": 68,
    "start_time": "2024-02-17T23:10:38.284Z"
   },
   {
    "duration": 277,
    "start_time": "2024-02-17T23:10:38.354Z"
   },
   {
    "duration": 331,
    "start_time": "2024-02-17T23:10:38.633Z"
   },
   {
    "duration": 14,
    "start_time": "2024-02-17T23:10:38.966Z"
   },
   {
    "duration": 34,
    "start_time": "2024-02-17T23:10:38.982Z"
   },
   {
    "duration": 36,
    "start_time": "2024-02-17T23:10:39.017Z"
   },
   {
    "duration": 31,
    "start_time": "2024-02-17T23:10:39.054Z"
   },
   {
    "duration": 15,
    "start_time": "2024-02-17T23:10:39.086Z"
   },
   {
    "duration": 19,
    "start_time": "2024-02-17T23:10:39.103Z"
   },
   {
    "duration": 31,
    "start_time": "2024-02-17T23:10:39.124Z"
   },
   {
    "duration": 34,
    "start_time": "2024-02-17T23:10:39.156Z"
   },
   {
    "duration": 21,
    "start_time": "2024-02-17T23:10:39.192Z"
   },
   {
    "duration": 21,
    "start_time": "2024-02-17T23:10:39.214Z"
   },
   {
    "duration": 52,
    "start_time": "2024-02-17T23:10:39.237Z"
   },
   {
    "duration": 162,
    "start_time": "2024-02-17T23:10:39.290Z"
   },
   {
    "duration": 17,
    "start_time": "2024-02-17T23:10:39.453Z"
   },
   {
    "duration": 96,
    "start_time": "2024-02-17T23:10:39.472Z"
   },
   {
    "duration": 178,
    "start_time": "2024-02-17T23:10:39.570Z"
   },
   {
    "duration": 225,
    "start_time": "2024-02-17T23:10:39.750Z"
   },
   {
    "duration": 280,
    "start_time": "2024-02-17T23:10:39.976Z"
   },
   {
    "duration": 15,
    "start_time": "2024-02-17T23:10:40.264Z"
   },
   {
    "duration": 12,
    "start_time": "2024-02-17T23:10:40.280Z"
   },
   {
    "duration": 17,
    "start_time": "2024-02-17T23:10:40.294Z"
   },
   {
    "duration": 12,
    "start_time": "2024-02-17T23:10:40.312Z"
   },
   {
    "duration": 17,
    "start_time": "2024-02-17T23:10:40.326Z"
   },
   {
    "duration": 35,
    "start_time": "2024-02-17T23:10:40.345Z"
   },
   {
    "duration": 192,
    "start_time": "2024-02-17T23:10:40.384Z"
   },
   {
    "duration": 205,
    "start_time": "2024-02-17T23:10:40.578Z"
   },
   {
    "duration": 182,
    "start_time": "2024-02-17T23:10:40.785Z"
   },
   {
    "duration": 172,
    "start_time": "2024-02-17T23:10:40.968Z"
   },
   {
    "duration": 4,
    "start_time": "2024-02-17T23:10:41.141Z"
   },
   {
    "duration": 98,
    "start_time": "2024-02-17T23:10:41.146Z"
   },
   {
    "duration": 3,
    "start_time": "2024-02-17T23:10:41.246Z"
   },
   {
    "duration": 33,
    "start_time": "2024-02-17T23:10:41.250Z"
   },
   {
    "duration": 11,
    "start_time": "2024-02-17T23:10:41.284Z"
   },
   {
    "duration": 136,
    "start_time": "2024-02-17T23:10:41.296Z"
   },
   {
    "duration": 6,
    "start_time": "2024-02-17T23:10:41.434Z"
   },
   {
    "duration": 14,
    "start_time": "2024-02-17T23:10:41.441Z"
   },
   {
    "duration": 16,
    "start_time": "2024-02-17T23:10:41.456Z"
   },
   {
    "duration": 11,
    "start_time": "2024-02-17T23:10:41.473Z"
   },
   {
    "duration": 59,
    "start_time": "2024-02-18T12:24:38.593Z"
   },
   {
    "duration": 1259,
    "start_time": "2024-02-18T12:24:56.725Z"
   },
   {
    "duration": 194,
    "start_time": "2024-02-18T12:24:58.814Z"
   },
   {
    "duration": 329,
    "start_time": "2024-02-18T12:25:03.749Z"
   },
   {
    "duration": 14,
    "start_time": "2024-02-18T12:25:07.314Z"
   },
   {
    "duration": 12,
    "start_time": "2024-02-18T12:25:10.822Z"
   },
   {
    "duration": 5,
    "start_time": "2024-02-18T12:25:13.400Z"
   },
   {
    "duration": 5,
    "start_time": "2024-02-18T12:25:15.959Z"
   },
   {
    "duration": 7,
    "start_time": "2024-02-18T12:25:18.326Z"
   },
   {
    "duration": 5,
    "start_time": "2024-02-18T12:25:21.334Z"
   },
   {
    "duration": 5,
    "start_time": "2024-02-18T12:25:23.708Z"
   },
   {
    "duration": 9,
    "start_time": "2024-02-18T12:25:25.979Z"
   },
   {
    "duration": 7,
    "start_time": "2024-02-18T12:25:28.148Z"
   },
   {
    "duration": 4,
    "start_time": "2024-02-18T12:25:30.802Z"
   },
   {
    "duration": 8,
    "start_time": "2024-02-18T12:25:32.964Z"
   },
   {
    "duration": 132,
    "start_time": "2024-02-18T12:25:35.661Z"
   },
   {
    "duration": 19,
    "start_time": "2024-02-18T12:25:38.653Z"
   },
   {
    "duration": 78,
    "start_time": "2024-02-18T12:25:41.397Z"
   },
   {
    "duration": 176,
    "start_time": "2024-02-18T12:25:44.066Z"
   },
   {
    "duration": 230,
    "start_time": "2024-02-18T12:25:48.242Z"
   },
   {
    "duration": 188,
    "start_time": "2024-02-18T12:25:51.280Z"
   },
   {
    "duration": 15,
    "start_time": "2024-02-18T12:25:55.683Z"
   },
   {
    "duration": 13,
    "start_time": "2024-02-18T12:25:57.783Z"
   },
   {
    "duration": 7,
    "start_time": "2024-02-18T12:26:00.578Z"
   },
   {
    "duration": 7,
    "start_time": "2024-02-18T12:26:03.029Z"
   },
   {
    "duration": 185,
    "start_time": "2024-02-18T12:26:07.362Z"
   },
   {
    "duration": 231,
    "start_time": "2024-02-18T12:26:10.311Z"
   },
   {
    "duration": 173,
    "start_time": "2024-02-18T12:26:12.911Z"
   },
   {
    "duration": 162,
    "start_time": "2024-02-18T12:26:15.618Z"
   },
   {
    "duration": 4,
    "start_time": "2024-02-18T12:26:19.765Z"
   },
   {
    "duration": 84,
    "start_time": "2024-02-18T12:26:21.515Z"
   },
   {
    "duration": 3,
    "start_time": "2024-02-18T12:26:24.049Z"
   },
   {
    "duration": 20,
    "start_time": "2024-02-18T12:26:26.111Z"
   },
   {
    "duration": 3,
    "start_time": "2024-02-18T12:26:29.066Z"
   },
   {
    "duration": 131,
    "start_time": "2024-02-18T12:26:32.003Z"
   },
   {
    "duration": 6,
    "start_time": "2024-02-18T12:26:33.821Z"
   },
   {
    "duration": 5,
    "start_time": "2024-02-18T12:26:39.354Z"
   },
   {
    "duration": 8,
    "start_time": "2024-02-18T12:47:51.641Z"
   },
   {
    "duration": 8,
    "start_time": "2024-02-18T12:51:51.899Z"
   },
   {
    "duration": 7,
    "start_time": "2024-02-18T13:00:24.582Z"
   },
   {
    "duration": 74,
    "start_time": "2024-02-18T13:01:57.489Z"
   },
   {
    "duration": 4,
    "start_time": "2024-02-18T13:06:44.364Z"
   },
   {
    "duration": 74,
    "start_time": "2024-02-18T13:06:46.666Z"
   },
   {
    "duration": 275,
    "start_time": "2024-02-18T13:06:48.635Z"
   },
   {
    "duration": 303,
    "start_time": "2024-02-18T13:06:53.791Z"
   },
   {
    "duration": 14,
    "start_time": "2024-02-18T13:06:57.424Z"
   },
   {
    "duration": 11,
    "start_time": "2024-02-18T13:07:03.390Z"
   },
   {
    "duration": 5,
    "start_time": "2024-02-18T13:07:05.491Z"
   },
   {
    "duration": 6,
    "start_time": "2024-02-18T13:07:08.661Z"
   },
   {
    "duration": 7,
    "start_time": "2024-02-18T13:07:11.289Z"
   },
   {
    "duration": 7,
    "start_time": "2024-02-18T13:07:13.630Z"
   },
   {
    "duration": 6,
    "start_time": "2024-02-18T13:07:16.063Z"
   },
   {
    "duration": 10,
    "start_time": "2024-02-18T13:07:19.047Z"
   },
   {
    "duration": 8,
    "start_time": "2024-02-18T13:07:20.815Z"
   },
   {
    "duration": 5,
    "start_time": "2024-02-18T13:07:27.453Z"
   },
   {
    "duration": 7,
    "start_time": "2024-02-18T13:07:29.350Z"
   },
   {
    "duration": 131,
    "start_time": "2024-02-18T13:07:31.878Z"
   },
   {
    "duration": 15,
    "start_time": "2024-02-18T13:07:35.894Z"
   },
   {
    "duration": 74,
    "start_time": "2024-02-18T13:07:38.259Z"
   },
   {
    "duration": 243,
    "start_time": "2024-02-18T13:07:41.432Z"
   },
   {
    "duration": 239,
    "start_time": "2024-02-18T13:07:45.741Z"
   },
   {
    "duration": 187,
    "start_time": "2024-02-18T13:07:54.747Z"
   },
   {
    "duration": 16,
    "start_time": "2024-02-18T13:07:59.880Z"
   },
   {
    "duration": 12,
    "start_time": "2024-02-18T13:08:01.913Z"
   },
   {
    "duration": 6,
    "start_time": "2024-02-18T13:08:04.626Z"
   },
   {
    "duration": 7,
    "start_time": "2024-02-18T13:08:07.977Z"
   },
   {
    "duration": 171,
    "start_time": "2024-02-18T13:08:12.289Z"
   },
   {
    "duration": 164,
    "start_time": "2024-02-18T13:08:15.108Z"
   },
   {
    "duration": 161,
    "start_time": "2024-02-18T13:08:17.489Z"
   },
   {
    "duration": 168,
    "start_time": "2024-02-18T13:08:19.845Z"
   },
   {
    "duration": 4,
    "start_time": "2024-02-18T13:08:33.414Z"
   },
   {
    "duration": 83,
    "start_time": "2024-02-18T13:08:35.050Z"
   },
   {
    "duration": 4,
    "start_time": "2024-02-18T13:08:36.794Z"
   },
   {
    "duration": 3,
    "start_time": "2024-02-18T13:08:40.251Z"
   },
   {
    "duration": 131,
    "start_time": "2024-02-18T13:08:42.456Z"
   },
   {
    "duration": 6,
    "start_time": "2024-02-18T13:08:44.366Z"
   },
   {
    "duration": 5,
    "start_time": "2024-02-18T13:08:49.008Z"
   },
   {
    "duration": 5,
    "start_time": "2024-02-18T13:09:01.165Z"
   },
   {
    "duration": 8,
    "start_time": "2024-02-18T13:09:07.705Z"
   },
   {
    "duration": 1115,
    "start_time": "2024-02-18T14:57:29.610Z"
   },
   {
    "duration": 68,
    "start_time": "2024-02-18T14:57:30.727Z"
   },
   {
    "duration": 279,
    "start_time": "2024-02-18T14:57:30.797Z"
   },
   {
    "duration": 335,
    "start_time": "2024-02-18T14:57:31.078Z"
   },
   {
    "duration": 14,
    "start_time": "2024-02-18T14:57:31.414Z"
   },
   {
    "duration": 36,
    "start_time": "2024-02-18T14:57:31.430Z"
   },
   {
    "duration": 51,
    "start_time": "2024-02-18T14:57:31.468Z"
   },
   {
    "duration": 33,
    "start_time": "2024-02-18T14:57:31.521Z"
   },
   {
    "duration": 27,
    "start_time": "2024-02-18T14:57:31.556Z"
   },
   {
    "duration": 26,
    "start_time": "2024-02-18T14:57:31.586Z"
   },
   {
    "duration": 22,
    "start_time": "2024-02-18T14:57:31.613Z"
   },
   {
    "duration": 29,
    "start_time": "2024-02-18T14:57:31.636Z"
   },
   {
    "duration": 39,
    "start_time": "2024-02-18T14:57:31.666Z"
   },
   {
    "duration": 33,
    "start_time": "2024-02-18T14:57:31.707Z"
   },
   {
    "duration": 40,
    "start_time": "2024-02-18T14:57:31.742Z"
   },
   {
    "duration": 148,
    "start_time": "2024-02-18T14:57:31.784Z"
   },
   {
    "duration": 13,
    "start_time": "2024-02-18T14:57:31.933Z"
   },
   {
    "duration": 97,
    "start_time": "2024-02-18T14:57:31.947Z"
   },
   {
    "duration": 179,
    "start_time": "2024-02-18T14:57:32.046Z"
   },
   {
    "duration": 222,
    "start_time": "2024-02-18T14:57:32.226Z"
   },
   {
    "duration": 191,
    "start_time": "2024-02-18T14:57:32.449Z"
   },
   {
    "duration": 15,
    "start_time": "2024-02-18T14:57:32.642Z"
   },
   {
    "duration": 11,
    "start_time": "2024-02-18T14:57:32.658Z"
   },
   {
    "duration": 19,
    "start_time": "2024-02-18T14:57:32.671Z"
   },
   {
    "duration": 12,
    "start_time": "2024-02-18T14:57:32.691Z"
   },
   {
    "duration": 98,
    "start_time": "2024-02-18T14:57:32.705Z"
   },
   {
    "duration": 34,
    "start_time": "2024-02-18T14:57:32.805Z"
   },
   {
    "duration": 172,
    "start_time": "2024-02-18T14:57:32.842Z"
   },
   {
    "duration": 163,
    "start_time": "2024-02-18T14:57:33.016Z"
   },
   {
    "duration": 207,
    "start_time": "2024-02-18T14:57:33.180Z"
   },
   {
    "duration": 180,
    "start_time": "2024-02-18T14:57:33.389Z"
   },
   {
    "duration": 4,
    "start_time": "2024-02-18T14:57:33.570Z"
   },
   {
    "duration": 94,
    "start_time": "2024-02-18T14:57:33.586Z"
   },
   {
    "duration": 3,
    "start_time": "2024-02-18T14:57:33.682Z"
   },
   {
    "duration": 15,
    "start_time": "2024-02-18T14:57:33.687Z"
   },
   {
    "duration": 4,
    "start_time": "2024-02-18T14:57:33.704Z"
   },
   {
    "duration": 145,
    "start_time": "2024-02-18T14:57:33.709Z"
   },
   {
    "duration": 6,
    "start_time": "2024-02-18T14:57:33.855Z"
   },
   {
    "duration": 22,
    "start_time": "2024-02-18T14:57:33.863Z"
   },
   {
    "duration": 25,
    "start_time": "2024-02-18T14:57:33.887Z"
   },
   {
    "duration": 26,
    "start_time": "2024-02-18T14:57:33.914Z"
   },
   {
    "duration": 1157,
    "start_time": "2024-02-18T15:28:06.493Z"
   },
   {
    "duration": 67,
    "start_time": "2024-02-18T15:28:07.651Z"
   },
   {
    "duration": 290,
    "start_time": "2024-02-18T15:28:07.719Z"
   },
   {
    "duration": 337,
    "start_time": "2024-02-18T15:28:08.010Z"
   },
   {
    "duration": 14,
    "start_time": "2024-02-18T15:28:08.349Z"
   },
   {
    "duration": 24,
    "start_time": "2024-02-18T15:28:08.364Z"
   },
   {
    "duration": 5,
    "start_time": "2024-02-18T15:28:08.389Z"
   },
   {
    "duration": 6,
    "start_time": "2024-02-18T15:28:08.395Z"
   },
   {
    "duration": 25,
    "start_time": "2024-02-18T15:28:08.402Z"
   },
   {
    "duration": 5,
    "start_time": "2024-02-18T15:28:08.429Z"
   },
   {
    "duration": 10,
    "start_time": "2024-02-18T15:28:08.435Z"
   },
   {
    "duration": 6,
    "start_time": "2024-02-18T15:28:08.447Z"
   },
   {
    "duration": 7,
    "start_time": "2024-02-18T15:28:08.455Z"
   },
   {
    "duration": 3,
    "start_time": "2024-02-18T15:28:08.465Z"
   },
   {
    "duration": 8,
    "start_time": "2024-02-18T15:28:08.487Z"
   },
   {
    "duration": 141,
    "start_time": "2024-02-18T15:28:08.496Z"
   },
   {
    "duration": 13,
    "start_time": "2024-02-18T15:28:08.639Z"
   },
   {
    "duration": 91,
    "start_time": "2024-02-18T15:28:08.654Z"
   },
   {
    "duration": 176,
    "start_time": "2024-02-18T15:28:08.746Z"
   },
   {
    "duration": 221,
    "start_time": "2024-02-18T15:28:08.924Z"
   },
   {
    "duration": 282,
    "start_time": "2024-02-18T15:28:09.147Z"
   },
   {
    "duration": 14,
    "start_time": "2024-02-18T15:28:09.431Z"
   },
   {
    "duration": 12,
    "start_time": "2024-02-18T15:28:09.446Z"
   },
   {
    "duration": 28,
    "start_time": "2024-02-18T15:28:09.459Z"
   },
   {
    "duration": 7,
    "start_time": "2024-02-18T15:28:09.489Z"
   },
   {
    "duration": 21,
    "start_time": "2024-02-18T15:28:09.497Z"
   },
   {
    "duration": 17,
    "start_time": "2024-02-18T15:28:09.520Z"
   },
   {
    "duration": 189,
    "start_time": "2024-02-18T15:28:09.539Z"
   },
   {
    "duration": 172,
    "start_time": "2024-02-18T15:28:09.729Z"
   },
   {
    "duration": 173,
    "start_time": "2024-02-18T15:28:09.902Z"
   },
   {
    "duration": 171,
    "start_time": "2024-02-18T15:28:10.076Z"
   },
   {
    "duration": 4,
    "start_time": "2024-02-18T15:28:10.248Z"
   },
   {
    "duration": 96,
    "start_time": "2024-02-18T15:28:10.253Z"
   },
   {
    "duration": 4,
    "start_time": "2024-02-18T15:28:10.351Z"
   },
   {
    "duration": 15,
    "start_time": "2024-02-18T15:28:10.362Z"
   },
   {
    "duration": 9,
    "start_time": "2024-02-18T15:28:10.379Z"
   },
   {
    "duration": 132,
    "start_time": "2024-02-18T15:28:10.390Z"
   },
   {
    "duration": 5,
    "start_time": "2024-02-18T15:28:10.524Z"
   },
   {
    "duration": 12,
    "start_time": "2024-02-18T15:28:10.531Z"
   },
   {
    "duration": 5,
    "start_time": "2024-02-18T15:28:10.544Z"
   },
   {
    "duration": 14,
    "start_time": "2024-02-18T15:28:10.552Z"
   },
   {
    "duration": 48,
    "start_time": "2024-02-18T19:36:58.418Z"
   },
   {
    "duration": 1203,
    "start_time": "2024-02-18T19:37:11.491Z"
   },
   {
    "duration": 192,
    "start_time": "2024-02-18T19:37:13.477Z"
   },
   {
    "duration": 282,
    "start_time": "2024-02-18T19:37:15.336Z"
   },
   {
    "duration": 287,
    "start_time": "2024-02-18T19:37:20.507Z"
   },
   {
    "duration": 14,
    "start_time": "2024-02-18T19:37:24.144Z"
   },
   {
    "duration": 12,
    "start_time": "2024-02-18T19:37:27.723Z"
   },
   {
    "duration": 5,
    "start_time": "2024-02-18T19:37:29.666Z"
   },
   {
    "duration": 6,
    "start_time": "2024-02-18T19:37:32.076Z"
   },
   {
    "duration": 6,
    "start_time": "2024-02-18T19:37:34.253Z"
   },
   {
    "duration": 5,
    "start_time": "2024-02-18T19:37:36.317Z"
   },
   {
    "duration": 6,
    "start_time": "2024-02-18T19:37:38.446Z"
   },
   {
    "duration": 7,
    "start_time": "2024-02-18T19:37:40.496Z"
   },
   {
    "duration": 8,
    "start_time": "2024-02-18T19:37:42.702Z"
   },
   {
    "duration": 5,
    "start_time": "2024-02-18T19:37:45.356Z"
   },
   {
    "duration": 8,
    "start_time": "2024-02-18T19:37:47.081Z"
   },
   {
    "duration": 124,
    "start_time": "2024-02-18T19:37:49.983Z"
   },
   {
    "duration": 13,
    "start_time": "2024-02-18T19:37:53.078Z"
   },
   {
    "duration": 71,
    "start_time": "2024-02-18T19:37:55.477Z"
   },
   {
    "duration": 160,
    "start_time": "2024-02-18T19:37:58.347Z"
   },
   {
    "duration": 203,
    "start_time": "2024-02-18T19:38:02.244Z"
   },
   {
    "duration": 176,
    "start_time": "2024-02-18T19:38:05.910Z"
   },
   {
    "duration": 15,
    "start_time": "2024-02-18T19:38:10.020Z"
   },
   {
    "duration": 12,
    "start_time": "2024-02-18T19:38:12.442Z"
   },
   {
    "duration": 6,
    "start_time": "2024-02-18T19:38:15.851Z"
   },
   {
    "duration": 7,
    "start_time": "2024-02-18T19:38:18.452Z"
   },
   {
    "duration": 230,
    "start_time": "2024-02-18T19:38:22.436Z"
   },
   {
    "duration": 165,
    "start_time": "2024-02-18T19:38:25.417Z"
   },
   {
    "duration": 165,
    "start_time": "2024-02-18T19:38:28.080Z"
   },
   {
    "duration": 149,
    "start_time": "2024-02-18T19:38:30.535Z"
   },
   {
    "duration": 4,
    "start_time": "2024-02-18T19:38:35.580Z"
   },
   {
    "duration": 77,
    "start_time": "2024-02-18T19:38:37.315Z"
   },
   {
    "duration": 3,
    "start_time": "2024-02-18T19:38:39.453Z"
   },
   {
    "duration": 15,
    "start_time": "2024-02-18T19:38:41.638Z"
   },
   {
    "duration": 3,
    "start_time": "2024-02-18T19:38:44.890Z"
   },
   {
    "duration": 128,
    "start_time": "2024-02-18T19:38:47.475Z"
   },
   {
    "duration": 7,
    "start_time": "2024-02-18T19:38:49.045Z"
   },
   {
    "duration": 5,
    "start_time": "2024-02-18T19:38:53.740Z"
   },
   {
    "duration": 5,
    "start_time": "2024-02-18T20:06:41.566Z"
   },
   {
    "duration": 5,
    "start_time": "2024-02-18T20:15:01.381Z"
   },
   {
    "duration": 66,
    "start_time": "2024-02-18T20:15:03.549Z"
   },
   {
    "duration": 252,
    "start_time": "2024-02-18T20:15:05.514Z"
   },
   {
    "duration": 277,
    "start_time": "2024-02-18T20:15:08.714Z"
   },
   {
    "duration": 13,
    "start_time": "2024-02-18T20:15:12.186Z"
   },
   {
    "duration": 10,
    "start_time": "2024-02-18T20:15:15.963Z"
   },
   {
    "duration": 5,
    "start_time": "2024-02-18T20:15:17.953Z"
   },
   {
    "duration": 5,
    "start_time": "2024-02-18T20:15:20.745Z"
   },
   {
    "duration": 6,
    "start_time": "2024-02-18T20:15:23.127Z"
   },
   {
    "duration": 5,
    "start_time": "2024-02-18T20:15:25.356Z"
   },
   {
    "duration": 8,
    "start_time": "2024-02-18T20:15:27.716Z"
   },
   {
    "duration": 7,
    "start_time": "2024-02-18T20:15:29.767Z"
   },
   {
    "duration": 7,
    "start_time": "2024-02-18T20:15:32.319Z"
   },
   {
    "duration": 5,
    "start_time": "2024-02-18T20:15:35.028Z"
   },
   {
    "duration": 7,
    "start_time": "2024-02-18T20:15:37.047Z"
   },
   {
    "duration": 119,
    "start_time": "2024-02-18T20:15:39.760Z"
   },
   {
    "duration": 11,
    "start_time": "2024-02-18T20:15:42.784Z"
   },
   {
    "duration": 152,
    "start_time": "2024-02-18T20:15:45.405Z"
   },
   {
    "duration": 156,
    "start_time": "2024-02-18T20:15:48.967Z"
   },
   {
    "duration": 185,
    "start_time": "2024-02-18T20:15:54.119Z"
   },
   {
    "duration": 177,
    "start_time": "2024-02-18T20:15:57.452Z"
   },
   {
    "duration": 18,
    "start_time": "2024-02-18T20:16:01.651Z"
   },
   {
    "duration": 11,
    "start_time": "2024-02-18T20:16:03.805Z"
   },
   {
    "duration": 6,
    "start_time": "2024-02-18T20:16:09.108Z"
   },
   {
    "duration": 6,
    "start_time": "2024-02-18T20:16:11.897Z"
   },
   {
    "duration": 163,
    "start_time": "2024-02-18T20:16:15.982Z"
   },
   {
    "duration": 143,
    "start_time": "2024-02-18T20:16:18.850Z"
   },
   {
    "duration": 151,
    "start_time": "2024-02-18T20:16:21.238Z"
   },
   {
    "duration": 136,
    "start_time": "2024-02-18T20:16:23.882Z"
   },
   {
    "duration": 3,
    "start_time": "2024-02-18T20:16:27.976Z"
   },
   {
    "duration": 79,
    "start_time": "2024-02-18T20:16:29.887Z"
   },
   {
    "duration": 3,
    "start_time": "2024-02-18T20:16:31.718Z"
   },
   {
    "duration": 14,
    "start_time": "2024-02-18T20:16:34.574Z"
   },
   {
    "duration": 3,
    "start_time": "2024-02-18T20:16:37.132Z"
   },
   {
    "duration": 125,
    "start_time": "2024-02-18T20:16:39.797Z"
   },
   {
    "duration": 8,
    "start_time": "2024-02-18T20:16:41.347Z"
   },
   {
    "duration": 5,
    "start_time": "2024-02-18T20:16:48.728Z"
   },
   {
    "duration": 4,
    "start_time": "2024-02-18T20:17:31.111Z"
   },
   {
    "duration": 9,
    "start_time": "2024-02-18T20:18:06.328Z"
   },
   {
    "duration": 4,
    "start_time": "2024-02-18T20:25:57.070Z"
   },
   {
    "duration": 64,
    "start_time": "2024-02-18T20:25:59.116Z"
   },
   {
    "duration": 364,
    "start_time": "2024-02-18T20:26:02.898Z"
   },
   {
    "duration": 14,
    "start_time": "2024-02-18T20:26:06.207Z"
   },
   {
    "duration": 11,
    "start_time": "2024-02-18T20:26:09.396Z"
   },
   {
    "duration": 5,
    "start_time": "2024-02-18T20:26:11.564Z"
   },
   {
    "duration": 7,
    "start_time": "2024-02-18T20:26:13.780Z"
   },
   {
    "duration": 5,
    "start_time": "2024-02-18T20:26:15.809Z"
   },
   {
    "duration": 5,
    "start_time": "2024-02-18T20:26:17.887Z"
   },
   {
    "duration": 6,
    "start_time": "2024-02-18T20:26:19.836Z"
   },
   {
    "duration": 7,
    "start_time": "2024-02-18T20:26:21.839Z"
   },
   {
    "duration": 9,
    "start_time": "2024-02-18T20:26:23.499Z"
   },
   {
    "duration": 4,
    "start_time": "2024-02-18T20:26:25.954Z"
   },
   {
    "duration": 7,
    "start_time": "2024-02-18T20:26:27.993Z"
   },
   {
    "duration": 131,
    "start_time": "2024-02-18T20:26:30.665Z"
   },
   {
    "duration": 13,
    "start_time": "2024-02-18T20:26:33.509Z"
   },
   {
    "duration": 76,
    "start_time": "2024-02-18T20:26:36.168Z"
   },
   {
    "duration": 151,
    "start_time": "2024-02-18T20:26:39.074Z"
   },
   {
    "duration": 196,
    "start_time": "2024-02-18T20:26:42.495Z"
   },
   {
    "duration": 174,
    "start_time": "2024-02-18T20:26:45.662Z"
   },
   {
    "duration": 16,
    "start_time": "2024-02-18T20:26:49.174Z"
   },
   {
    "duration": 11,
    "start_time": "2024-02-18T20:26:51.164Z"
   },
   {
    "duration": 5,
    "start_time": "2024-02-18T20:26:53.734Z"
   },
   {
    "duration": 6,
    "start_time": "2024-02-18T20:26:56.137Z"
   },
   {
    "duration": 17,
    "start_time": "2024-02-18T20:27:01.111Z"
   },
   {
    "duration": 166,
    "start_time": "2024-02-18T20:27:04.497Z"
   },
   {
    "duration": 152,
    "start_time": "2024-02-18T20:27:07.298Z"
   },
   {
    "duration": 152,
    "start_time": "2024-02-18T20:27:09.733Z"
   },
   {
    "duration": 225,
    "start_time": "2024-02-18T20:27:12.492Z"
   },
   {
    "duration": 4,
    "start_time": "2024-02-18T20:27:18.060Z"
   },
   {
    "duration": 81,
    "start_time": "2024-02-18T20:27:20.257Z"
   },
   {
    "duration": 3,
    "start_time": "2024-02-18T20:27:22.134Z"
   },
   {
    "duration": 13,
    "start_time": "2024-02-18T20:27:24.026Z"
   },
   {
    "duration": 3,
    "start_time": "2024-02-18T20:27:27.985Z"
   },
   {
    "duration": 126,
    "start_time": "2024-02-18T20:27:29.722Z"
   },
   {
    "duration": 6,
    "start_time": "2024-02-18T20:27:31.029Z"
   },
   {
    "duration": 4,
    "start_time": "2024-02-18T20:27:35.766Z"
   },
   {
    "duration": 4,
    "start_time": "2024-02-18T20:27:39.400Z"
   },
   {
    "duration": 7,
    "start_time": "2024-02-18T20:27:44.045Z"
   },
   {
    "duration": 1149,
    "start_time": "2024-02-18T20:56:11.862Z"
   },
   {
    "duration": 65,
    "start_time": "2024-02-18T20:56:13.013Z"
   },
   {
    "duration": 281,
    "start_time": "2024-02-18T20:56:13.080Z"
   },
   {
    "duration": 309,
    "start_time": "2024-02-18T20:56:13.363Z"
   },
   {
    "duration": 21,
    "start_time": "2024-02-18T20:56:13.674Z"
   },
   {
    "duration": 16,
    "start_time": "2024-02-18T20:56:13.697Z"
   },
   {
    "duration": 5,
    "start_time": "2024-02-18T20:56:13.715Z"
   },
   {
    "duration": 7,
    "start_time": "2024-02-18T20:56:13.722Z"
   },
   {
    "duration": 6,
    "start_time": "2024-02-18T20:56:13.731Z"
   },
   {
    "duration": 5,
    "start_time": "2024-02-18T20:56:13.740Z"
   },
   {
    "duration": 43,
    "start_time": "2024-02-18T20:56:13.746Z"
   },
   {
    "duration": 8,
    "start_time": "2024-02-18T20:56:13.791Z"
   },
   {
    "duration": 8,
    "start_time": "2024-02-18T20:56:13.800Z"
   },
   {
    "duration": 3,
    "start_time": "2024-02-18T20:56:13.809Z"
   },
   {
    "duration": 15,
    "start_time": "2024-02-18T20:56:13.814Z"
   },
   {
    "duration": 148,
    "start_time": "2024-02-18T20:56:13.830Z"
   },
   {
    "duration": 17,
    "start_time": "2024-02-18T20:56:13.980Z"
   },
   {
    "duration": 79,
    "start_time": "2024-02-18T20:56:13.998Z"
   },
   {
    "duration": 164,
    "start_time": "2024-02-18T20:56:14.086Z"
   },
   {
    "duration": 238,
    "start_time": "2024-02-18T20:56:14.251Z"
   },
   {
    "duration": 204,
    "start_time": "2024-02-18T20:56:14.490Z"
   },
   {
    "duration": 16,
    "start_time": "2024-02-18T20:56:14.696Z"
   },
   {
    "duration": 12,
    "start_time": "2024-02-18T20:56:14.714Z"
   },
   {
    "duration": 18,
    "start_time": "2024-02-18T20:56:14.728Z"
   },
   {
    "duration": 14,
    "start_time": "2024-02-18T20:56:14.748Z"
   },
   {
    "duration": 100,
    "start_time": "2024-02-18T20:56:14.763Z"
   },
   {
    "duration": 36,
    "start_time": "2024-02-18T20:56:14.864Z"
   },
   {
    "duration": 214,
    "start_time": "2024-02-18T20:56:14.904Z"
   },
   {
    "duration": 215,
    "start_time": "2024-02-18T20:56:15.120Z"
   },
   {
    "duration": 218,
    "start_time": "2024-02-18T20:56:15.337Z"
   },
   {
    "duration": 163,
    "start_time": "2024-02-18T20:56:15.557Z"
   },
   {
    "duration": 4,
    "start_time": "2024-02-18T20:56:15.721Z"
   },
   {
    "duration": 99,
    "start_time": "2024-02-18T20:56:15.726Z"
   },
   {
    "duration": 4,
    "start_time": "2024-02-18T20:56:15.826Z"
   },
   {
    "duration": 15,
    "start_time": "2024-02-18T20:56:15.831Z"
   },
   {
    "duration": 3,
    "start_time": "2024-02-18T20:56:15.847Z"
   },
   {
    "duration": 150,
    "start_time": "2024-02-18T20:56:15.852Z"
   },
   {
    "duration": 6,
    "start_time": "2024-02-18T20:56:16.003Z"
   },
   {
    "duration": 4,
    "start_time": "2024-02-18T20:56:16.011Z"
   },
   {
    "duration": 4,
    "start_time": "2024-02-18T20:56:16.017Z"
   },
   {
    "duration": 7,
    "start_time": "2024-02-18T20:56:16.023Z"
   },
   {
    "duration": 1067,
    "start_time": "2024-02-18T20:57:52.735Z"
   },
   {
    "duration": 66,
    "start_time": "2024-02-18T20:57:53.803Z"
   },
   {
    "duration": 276,
    "start_time": "2024-02-18T20:57:53.871Z"
   },
   {
    "duration": 333,
    "start_time": "2024-02-18T20:57:54.149Z"
   },
   {
    "duration": 13,
    "start_time": "2024-02-18T20:57:54.487Z"
   },
   {
    "duration": 13,
    "start_time": "2024-02-18T20:57:54.502Z"
   },
   {
    "duration": 6,
    "start_time": "2024-02-18T20:57:54.516Z"
   },
   {
    "duration": 5,
    "start_time": "2024-02-18T20:57:54.523Z"
   },
   {
    "duration": 5,
    "start_time": "2024-02-18T20:57:54.530Z"
   },
   {
    "duration": 5,
    "start_time": "2024-02-18T20:57:54.537Z"
   },
   {
    "duration": 6,
    "start_time": "2024-02-18T20:57:54.543Z"
   },
   {
    "duration": 40,
    "start_time": "2024-02-18T20:57:54.550Z"
   },
   {
    "duration": 9,
    "start_time": "2024-02-18T20:57:54.591Z"
   },
   {
    "duration": 6,
    "start_time": "2024-02-18T20:57:54.601Z"
   },
   {
    "duration": 8,
    "start_time": "2024-02-18T20:57:54.608Z"
   },
   {
    "duration": 155,
    "start_time": "2024-02-18T20:57:54.618Z"
   },
   {
    "duration": 18,
    "start_time": "2024-02-18T20:57:54.774Z"
   },
   {
    "duration": 77,
    "start_time": "2024-02-18T20:57:54.793Z"
   },
   {
    "duration": 168,
    "start_time": "2024-02-18T20:57:54.871Z"
   },
   {
    "duration": 228,
    "start_time": "2024-02-18T20:57:55.040Z"
   },
   {
    "duration": 269,
    "start_time": "2024-02-18T20:57:55.269Z"
   },
   {
    "duration": 15,
    "start_time": "2024-02-18T20:57:55.540Z"
   },
   {
    "duration": 12,
    "start_time": "2024-02-18T20:57:55.556Z"
   },
   {
    "duration": 22,
    "start_time": "2024-02-18T20:57:55.569Z"
   },
   {
    "duration": 8,
    "start_time": "2024-02-18T20:57:55.593Z"
   },
   {
    "duration": 19,
    "start_time": "2024-02-18T20:57:55.603Z"
   },
   {
    "duration": 20,
    "start_time": "2024-02-18T20:57:55.623Z"
   },
   {
    "duration": 211,
    "start_time": "2024-02-18T20:57:55.647Z"
   },
   {
    "duration": 172,
    "start_time": "2024-02-18T20:57:55.859Z"
   },
   {
    "duration": 172,
    "start_time": "2024-02-18T20:57:56.033Z"
   },
   {
    "duration": 163,
    "start_time": "2024-02-18T20:57:56.207Z"
   },
   {
    "duration": 3,
    "start_time": "2024-02-18T20:57:56.372Z"
   },
   {
    "duration": 81,
    "start_time": "2024-02-18T20:57:56.387Z"
   },
   {
    "duration": 3,
    "start_time": "2024-02-18T20:57:56.469Z"
   },
   {
    "duration": 26,
    "start_time": "2024-02-18T20:57:56.474Z"
   },
   {
    "duration": 11,
    "start_time": "2024-02-18T20:57:56.502Z"
   },
   {
    "duration": 133,
    "start_time": "2024-02-18T20:57:56.515Z"
   },
   {
    "duration": 6,
    "start_time": "2024-02-18T20:57:56.650Z"
   },
   {
    "duration": 10,
    "start_time": "2024-02-18T20:57:56.657Z"
   },
   {
    "duration": 15,
    "start_time": "2024-02-18T20:57:56.669Z"
   },
   {
    "duration": 11,
    "start_time": "2024-02-18T20:57:56.686Z"
   }
  ],
  "kernelspec": {
   "display_name": "Python 3 (ipykernel)",
   "language": "python",
   "name": "python3"
  },
  "language_info": {
   "codemirror_mode": {
    "name": "ipython",
    "version": 3
   },
   "file_extension": ".py",
   "mimetype": "text/x-python",
   "name": "python",
   "nbconvert_exporter": "python",
   "pygments_lexer": "ipython3",
   "version": "3.9.5"
  },
  "toc": {
   "base_numbering": 1,
   "nav_menu": {},
   "number_sections": true,
   "sideBar": true,
   "skip_h1_title": true,
   "title_cell": "Table of Contents",
   "title_sidebar": "Contents",
   "toc_cell": false,
   "toc_position": {},
   "toc_section_display": true,
   "toc_window_display": false
  }
 },
 "nbformat": 4,
 "nbformat_minor": 5
}
